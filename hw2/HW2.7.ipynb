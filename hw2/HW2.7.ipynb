{
 "cells": [
  {
   "cell_type": "markdown",
   "metadata": {},
   "source": [
    "# HW 2.7"
   ]
  },
  {
   "cell_type": "code",
   "execution_count": 1,
   "metadata": {},
   "outputs": [],
   "source": [
    "import numpy as np\n",
    "import pandas as pd"
   ]
  },
  {
   "cell_type": "code",
   "execution_count": 2,
   "metadata": {},
   "outputs": [
    {
     "data": {
      "text/plain": [
       "array([[  1, 180, 150],\n",
       "       [  1, 150, 175],\n",
       "       [  1, 170, 165],\n",
       "       [  1, 185, 210]])"
      ]
     },
     "execution_count": 2,
     "metadata": {},
     "output_type": "execute_result"
    }
   ],
   "source": [
    "y = np.array([110, 140, 180, 190])\n",
    "X = np.array([1, 180, 150, 1, 150, 175, 1, 170, 165, 1, 185, 210]).reshape(4,-1)\n",
    "X"
   ]
  },
  {
   "cell_type": "markdown",
   "metadata": {},
   "source": [
    "## (a)"
   ]
  },
  {
   "cell_type": "code",
   "execution_count": 3,
   "metadata": {},
   "outputs": [],
   "source": [
    "def mle_ite(Nsim, tol):\n",
    "    i = 0\n",
    "    theta = np.linalg.inv(X.T.dot(X)).dot(X.T).dot(y)\n",
    "    while i < Nsim:\n",
    "        sigma = (y - X.dot(theta)).reshape(-1,1).dot((y - X.dot(theta)).reshape(1,-1))\n",
    "        theta1 = np.linalg.inv(X.T.dot(np.linalg.inv(sigma)).dot(X)).dot(X.T).dot(np.linalg.inv(sigma)).dot(y)\n",
    "        i += 1\n",
    "        \n",
    "        if np.square((theta1 - theta)).sum() <= tol:\n",
    "            print('Total %d' %i  ,'iteration')\n",
    "            return theta1,sigma\n",
    "        theta = theta1\n",
    "    \n",
    "    print('Total %d' %i  ,'iteration')\n",
    "    return theta,sigma"
   ]
  },
  {
   "cell_type": "code",
   "execution_count": 4,
   "metadata": {},
   "outputs": [
    {
     "name": "stdout",
     "output_type": "stream",
     "text": [
      "Total 1 iteration\n"
     ]
    }
   ],
   "source": [
    "theta, sigma = mle_ite(1000,0.01)"
   ]
  },
  {
   "cell_type": "code",
   "execution_count": 5,
   "metadata": {},
   "outputs": [
    {
     "data": {
      "text/plain": [
       "(array([-50.45722366,   0.11595569,   1.06057035]),\n",
       " array([[ 380.26378754,  244.45529199, -697.15027716,   72.43119763],\n",
       "        [ 244.45529199,  157.14983056, -448.16803531,   46.56291276],\n",
       "        [-697.15027716, -448.16803531, 1278.10884145, -132.79052898],\n",
       "        [  72.43119763,   46.56291276, -132.79052898,   13.7964186 ]]))"
      ]
     },
     "execution_count": 5,
     "metadata": {},
     "output_type": "execute_result"
    }
   ],
   "source": [
    "theta, sigma"
   ]
  },
  {
   "cell_type": "markdown",
   "metadata": {},
   "source": [
    "## (b)"
   ]
  },
  {
   "cell_type": "code",
   "execution_count": 113,
   "metadata": {},
   "outputs": [],
   "source": [
    "x = np.array([1, 175,170])"
   ]
  },
  {
   "cell_type": "code",
   "execution_count": 114,
   "metadata": {},
   "outputs": [
    {
     "data": {
      "text/plain": [
       "150.13198208812736"
      ]
     },
     "execution_count": 114,
     "metadata": {},
     "output_type": "execute_result"
    }
   ],
   "source": [
    "x.dot(theta)"
   ]
  },
  {
   "cell_type": "markdown",
   "metadata": {},
   "source": [
    "## (c)"
   ]
  },
  {
   "cell_type": "code",
   "execution_count": 115,
   "metadata": {},
   "outputs": [
    {
     "data": {
      "text/plain": [
       "array([[ 9.92008795e-15, -1.75058852e-16,  1.25555732e-16],\n",
       "       [-2.29611375e-16,  2.31576551e-17, -1.94100457e-17],\n",
       "       [ 1.73129595e-16, -1.95450278e-17,  1.64225156e-17]])"
      ]
     },
     "execution_count": 115,
     "metadata": {},
     "output_type": "execute_result"
    }
   ],
   "source": [
    "A = np.linalg.inv(X.T.dot(np.linalg.inv(sigma)).dot(X))\n",
    "A"
   ]
  },
  {
   "cell_type": "code",
   "execution_count": 120,
   "metadata": {},
   "outputs": [
    {
     "data": {
      "text/plain": [
       "2.3828115169069767e-07"
      ]
     },
     "execution_count": 120,
     "metadata": {},
     "output_type": "execute_result"
    }
   ],
   "source": [
    "ME = np.sqrt(x.dot(A).dot(x))*1.96\n",
    "ME"
   ]
  },
  {
   "cell_type": "code",
   "execution_count": 119,
   "metadata": {},
   "outputs": [
    {
     "data": {
      "text/plain": [
       "150.1319818498462"
      ]
     },
     "execution_count": 119,
     "metadata": {},
     "output_type": "execute_result"
    }
   ],
   "source": [
    "x.dot(theta) - ME"
   ]
  },
  {
   "cell_type": "markdown",
   "metadata": {},
   "source": [
    "## (d)"
   ]
  },
  {
   "cell_type": "code",
   "execution_count": 122,
   "metadata": {},
   "outputs": [
    {
     "data": {
      "text/plain": [
       "array([[-3.80643042e+14, -1.70978760e+17, -1.99172509e+17],\n",
       "       [-1.66683774e+17, -5.73462784e+19, -6.65041706e+19],\n",
       "       [-1.94363549e+17, -6.64473793e+19, -7.69884006e+19]])"
      ]
     },
     "execution_count": 122,
     "metadata": {},
     "output_type": "execute_result"
    }
   ],
   "source": [
    "D = X.T.dot(np.linalg.inv(sigma)).dot(X)\n",
    "D"
   ]
  }
 ],
 "metadata": {
  "kernelspec": {
   "display_name": "Python 3",
   "language": "python",
   "name": "python3"
  },
  "language_info": {
   "codemirror_mode": {
    "name": "ipython",
    "version": 3
   },
   "file_extension": ".py",
   "mimetype": "text/x-python",
   "name": "python",
   "nbconvert_exporter": "python",
   "pygments_lexer": "ipython3",
   "version": "3.8.3"
  }
 },
 "nbformat": 4,
 "nbformat_minor": 4
}
