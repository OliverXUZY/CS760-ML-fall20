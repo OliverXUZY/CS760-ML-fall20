{
 "cells": [
  {
   "cell_type": "code",
   "execution_count": 77,
   "metadata": {},
   "outputs": [],
   "source": [
    "## 5.2 code"
   ]
  },
  {
   "cell_type": "code",
   "execution_count": 10,
   "metadata": {},
   "outputs": [],
   "source": [
    "import numpy as np\n",
    "import pandas as pd"
   ]
  },
  {
   "cell_type": "code",
   "execution_count": 11,
   "metadata": {},
   "outputs": [
    {
     "data": {
      "text/html": [
       "<div>\n",
       "<style scoped>\n",
       "    .dataframe tbody tr th:only-of-type {\n",
       "        vertical-align: middle;\n",
       "    }\n",
       "\n",
       "    .dataframe tbody tr th {\n",
       "        vertical-align: top;\n",
       "    }\n",
       "\n",
       "    .dataframe thead th {\n",
       "        text-align: right;\n",
       "    }\n",
       "</style>\n",
       "<table border=\"1\" class=\"dataframe\">\n",
       "  <thead>\n",
       "    <tr style=\"text-align: right;\">\n",
       "      <th></th>\n",
       "      <th>Survived</th>\n",
       "      <th>Pclass</th>\n",
       "      <th>Sex</th>\n",
       "      <th>Age</th>\n",
       "      <th>Siblings/Spouses Aboard</th>\n",
       "      <th>Parents/Children Aboard</th>\n",
       "      <th>Fare</th>\n",
       "    </tr>\n",
       "  </thead>\n",
       "  <tbody>\n",
       "    <tr>\n",
       "      <th>0</th>\n",
       "      <td>0</td>\n",
       "      <td>3</td>\n",
       "      <td>0</td>\n",
       "      <td>22.0</td>\n",
       "      <td>1</td>\n",
       "      <td>0</td>\n",
       "      <td>7.2500</td>\n",
       "    </tr>\n",
       "    <tr>\n",
       "      <th>1</th>\n",
       "      <td>1</td>\n",
       "      <td>1</td>\n",
       "      <td>1</td>\n",
       "      <td>38.0</td>\n",
       "      <td>1</td>\n",
       "      <td>0</td>\n",
       "      <td>71.2833</td>\n",
       "    </tr>\n",
       "    <tr>\n",
       "      <th>2</th>\n",
       "      <td>1</td>\n",
       "      <td>3</td>\n",
       "      <td>1</td>\n",
       "      <td>26.0</td>\n",
       "      <td>0</td>\n",
       "      <td>0</td>\n",
       "      <td>7.9250</td>\n",
       "    </tr>\n",
       "    <tr>\n",
       "      <th>3</th>\n",
       "      <td>1</td>\n",
       "      <td>1</td>\n",
       "      <td>1</td>\n",
       "      <td>35.0</td>\n",
       "      <td>1</td>\n",
       "      <td>0</td>\n",
       "      <td>53.1000</td>\n",
       "    </tr>\n",
       "    <tr>\n",
       "      <th>4</th>\n",
       "      <td>0</td>\n",
       "      <td>3</td>\n",
       "      <td>0</td>\n",
       "      <td>35.0</td>\n",
       "      <td>0</td>\n",
       "      <td>0</td>\n",
       "      <td>8.0500</td>\n",
       "    </tr>\n",
       "  </tbody>\n",
       "</table>\n",
       "</div>"
      ],
      "text/plain": [
       "   Survived  Pclass  Sex   Age  Siblings/Spouses Aboard  \\\n",
       "0         0       3    0  22.0                        1   \n",
       "1         1       1    1  38.0                        1   \n",
       "2         1       3    1  26.0                        0   \n",
       "3         1       1    1  35.0                        1   \n",
       "4         0       3    0  35.0                        0   \n",
       "\n",
       "   Parents/Children Aboard     Fare  \n",
       "0                        0   7.2500  \n",
       "1                        0  71.2833  \n",
       "2                        0   7.9250  \n",
       "3                        0  53.1000  \n",
       "4                        0   8.0500  "
      ]
     },
     "execution_count": 11,
     "metadata": {},
     "output_type": "execute_result"
    }
   ],
   "source": [
    "data = pd.read_csv('titanic_data.csv')\n",
    "\n",
    "data.head()"
   ]
  },
  {
   "cell_type": "markdown",
   "metadata": {},
   "source": [
    "There are 3 values in **Pclass**, I assume them as multinomial distribution.\n",
    "\n",
    "There are binary digits in **Sex**, I assume them as Bernoulli distribution.\n",
    "\n",
    "The data in **age** range from 0.42 to 80, I assume them as normal distribution.\n",
    "\n",
    "There are 9 values (0-8) in **Siblings/Spouses Aboard**, I assume them as poisson distribution.\n",
    "\n",
    "There are 7 values (0-6) in **Parents/Children Aboard**, I assume them as poisson distribution.\n",
    "\n",
    "The data in **Fare** range from 0 to 512.3, I assume them as normal distribution."
   ]
  },
  {
   "cell_type": "code",
   "execution_count": 161,
   "metadata": {},
   "outputs": [],
   "source": [
    "class NaiveBayes:\n",
    "    def __init__(self):\n",
    "        return None\n",
    "        \n",
    "    def fit(self, data):\n",
    "        self.data = data\n",
    "        self.data0 = data[data.Survived == 0]\n",
    "        self.data1 = data[data.Survived == 1]\n",
    "        \n",
    "        self.py0 = self.data0.shape[0]/self.data.shape[0]\n",
    "        self.py1 = 1 - self.py0\n",
    "        \n",
    "        \n",
    "        self.y0 = self.data0.Survived\n",
    "        self.X0 = self.data0.drop(['Survived'],axis = 1)\n",
    "        \n",
    "        self.y1 = self.data1.Survived\n",
    "        self.X1 = self.data1.drop(['Survived'],axis = 1)\n",
    "        \n",
    "        n0 = self.data0.shape[0]  ## sample size\n",
    "        n1 = self.data1.shape[0]  ## sample size\n",
    "        \n",
    "        \n",
    "        # Pclass [1,2,3]\n",
    "        self.y0_Pclass = [(self.X0.Pclass == 1).sum()/n0]\n",
    "        self.y0_Pclass.append((self.X0.Pclass == 2).sum()/n0)\n",
    "        self.y0_Pclass.append((self.X0.Pclass == 3).sum()/n0)\n",
    "        \n",
    "        self.y1_Pclass = [(self.X1.Pclass == 1).sum()/n1]\n",
    "        self.y1_Pclass.append((self.X1.Pclass == 2).sum()/n1)\n",
    "        self.y1_Pclass.append((self.X1.Pclass == 3).sum()/n1)\n",
    "        \n",
    "        # Sex  [0,1]\n",
    "        self.y0_Sex = [(self.X0.Sex == 0).sum()/n0]\n",
    "        self.y0_Sex.append((self.X0.Sex == 1).sum()/n0)\n",
    "        \n",
    "        self.y1_Sex = [(self.X1.Sex == 1).sum()/n1]\n",
    "        self.y1_Sex.append((self.X1.Sex == 0).sum()/n1)\n",
    "        \n",
    "        # Age [mu,sigma]\n",
    "        self.y0_Age = [self.X0.Age.mean()]  # mu\n",
    "        self.y0_Age.append(self.X0.Age.std(ddof = 0)) # sigma\n",
    "        \n",
    "        self.y1_Age = [self.X1.Age.mean()]\n",
    "        self.y1_Age.append(self.X1.Age.std(ddof = 0))\n",
    "        \n",
    "        \n",
    "        # Siblings/Spouses Aboard\n",
    "        self.y0_Sib = (self.X0['Siblings/Spouses Aboard']).mean()  # lambda\n",
    "        \n",
    "        self.y1_Sib = (self.X1['Siblings/Spouses Aboard']).mean()  # lambda\n",
    "        \n",
    "        # Parents/Children Aboard\n",
    "        self.y0_Par = (self.X0['Parents/Children Aboard']).mean()  # lambda\n",
    "        \n",
    "        self.y1_Par = (self.X1['Parents/Children Aboard']).mean()  # lambda\n",
    "        \n",
    "        # Fare [mu,sigma]\n",
    "        self.y0_Fare = [self.X0.Fare.mean()]  # mu\n",
    "        self.y0_Fare.append(self.X0.Fare.std(ddof = 0)) # sigma\n",
    "        \n",
    "        self.y1_Fare = [self.X1.Fare.mean()]  # mu\n",
    "        self.y1_Fare.append(self.X1.Fare.std(ddof = 0)) # sigma\n",
    "        \n",
    "    def _predict(self, new = None):\n",
    "        # compute prob of y0(just numerator)\n",
    "        y0_prob = [self.py0]\n",
    "        y0_prob.append(self.y0_Pclass[new.Pclass.astype(int) - 1])  # prob of Pclass\n",
    "        y0_prob.append(self.y0_Sex[new.Sex.astype(int) - 1])  # prob of Sex\n",
    "        y0_prob.append(1/self.y0_Age[1] * np.exp( - np.square(new.Age - self.y0_Age[0])/2/np.square(self.y0_Age[1])))  # prob of Age\n",
    "        y0_prob.append(np.power(self.y0_Sib , new['Siblings/Spouses Aboard']) * np.exp(-self.y0_Sib) / \\\n",
    "                       np.math.factorial(new['Siblings/Spouses Aboard']))  # Siblings/Spouses Aboard\n",
    "        \n",
    "        y0_prob.append(np.power(self.y0_Par , new['Parents/Children Aboard']) * np.exp(-self.y0_Par) / \\\n",
    "                       np.math.factorial(new['Parents/Children Aboard']))  # Parents/Children Aboard\n",
    "        \n",
    "        y0_prob.append(1/self.y0_Fare[1] * np.exp( - np.square(new.Fare - self.y0_Fare[0])/2/np.square(self.y0_Fare[1])))  # prob of Fare\n",
    "        \n",
    "        # compute prob of y1(just numerator)\n",
    "        y1_prob = [self.py1]\n",
    "        y1_prob.append(self.y1_Pclass[new.Pclass.astype(int) - 1])  # prob of Pclass\n",
    "        y1_prob.append(self.y1_Sex[new.Sex.astype(int) - 1])  # prob of Sex\n",
    "        y1_prob.append(1/self.y1_Age[1] * np.exp( - np.square(new.Age - self.y1_Age[0])/2/np.square(self.y1_Age[1])))  # prob of Age\n",
    "        y1_prob.append(np.power(self.y1_Sib , new['Siblings/Spouses Aboard']) * np.exp(-self.y1_Sib) / \\\n",
    "                       np.math.factorial(new['Siblings/Spouses Aboard']))  # Siblings/Spouses Aboard\n",
    "        \n",
    "        y1_prob.append(np.power(self.y1_Par , new['Parents/Children Aboard']) * np.exp(-self.y1_Par) / \\\n",
    "                       np.math.factorial(new['Parents/Children Aboard']))  # Parents/Children Aboard\n",
    "        \n",
    "        y1_prob.append(1/self.y1_Fare[1] * np.exp( - np.square(new.Fare - self.y1_Fare[0])/2/np.square(self.y1_Fare[1])))  # prob of Fare\n",
    "        \n",
    "        \n",
    "        return  0 if np.prod(y0_prob) >= np.prod(y1_prob) else 1\n",
    "        \n",
    "    def predict(self, new = None):\n",
    "        if new.ndim == 1:\n",
    "            return self._predict(new)\n",
    "        \n",
    "        pre = np.ones(new.shape[0])\n",
    "        for i in range(new.shape[0]):\n",
    "            pre[i] = self._predict(new.iloc[i])\n",
    "        return pre \n",
    "        "
   ]
  },
  {
   "cell_type": "code",
   "execution_count": 148,
   "metadata": {},
   "outputs": [],
   "source": [
    "NB = NaiveBayes()\n",
    "NB.fit(data)"
   ]
  },
  {
   "cell_type": "code",
   "execution_count": 149,
   "metadata": {},
   "outputs": [
    {
     "data": {
      "text/plain": [
       "[0.8513761467889909, 0.14862385321100918]"
      ]
     },
     "execution_count": 149,
     "metadata": {},
     "output_type": "execute_result"
    }
   ],
   "source": [
    "NB.y0_Sex"
   ]
  },
  {
   "cell_type": "code",
   "execution_count": 150,
   "metadata": {},
   "outputs": [
    {
     "data": {
      "text/plain": [
       "Pclass                      3\n",
       "Sex                         0\n",
       "Age                        23\n",
       "Siblings/Spouses Aboard     1\n",
       "Parents/Children Aboard     0\n",
       "Fare                        0\n",
       "dtype: int64"
      ]
     },
     "execution_count": 150,
     "metadata": {},
     "output_type": "execute_result"
    }
   ],
   "source": [
    "new = pd.Series({'Pclass':3, 'Sex':0, 'Age': 23, 'Siblings/Spouses Aboard': 1, 'Parents/Children Aboard':0, 'Fare': 0})\n",
    "new"
   ]
  },
  {
   "cell_type": "code",
   "execution_count": 152,
   "metadata": {},
   "outputs": [
    {
     "data": {
      "text/plain": [
       "0"
      ]
     },
     "execution_count": 152,
     "metadata": {},
     "output_type": "execute_result"
    }
   ],
   "source": [
    "NB.predict(new)"
   ]
  },
  {
   "cell_type": "code",
   "execution_count": 153,
   "metadata": {},
   "outputs": [
    {
     "data": {
      "text/plain": [
       "array([0., 1., 0., 0., 0.])"
      ]
     },
     "execution_count": 153,
     "metadata": {},
     "output_type": "execute_result"
    }
   ],
   "source": [
    "NB.predict(toy.drop(['Survived'],axis = 1))"
   ]
  },
  {
   "cell_type": "code",
   "execution_count": 154,
   "metadata": {},
   "outputs": [
    {
     "data": {
      "text/html": [
       "<div>\n",
       "<style scoped>\n",
       "    .dataframe tbody tr th:only-of-type {\n",
       "        vertical-align: middle;\n",
       "    }\n",
       "\n",
       "    .dataframe tbody tr th {\n",
       "        vertical-align: top;\n",
       "    }\n",
       "\n",
       "    .dataframe thead th {\n",
       "        text-align: right;\n",
       "    }\n",
       "</style>\n",
       "<table border=\"1\" class=\"dataframe\">\n",
       "  <thead>\n",
       "    <tr style=\"text-align: right;\">\n",
       "      <th></th>\n",
       "      <th>Survived</th>\n",
       "      <th>Pclass</th>\n",
       "      <th>Sex</th>\n",
       "      <th>Age</th>\n",
       "      <th>Siblings/Spouses Aboard</th>\n",
       "      <th>Parents/Children Aboard</th>\n",
       "      <th>Fare</th>\n",
       "    </tr>\n",
       "  </thead>\n",
       "  <tbody>\n",
       "    <tr>\n",
       "      <th>0</th>\n",
       "      <td>0</td>\n",
       "      <td>3</td>\n",
       "      <td>0</td>\n",
       "      <td>22.0</td>\n",
       "      <td>1</td>\n",
       "      <td>0</td>\n",
       "      <td>7.2500</td>\n",
       "    </tr>\n",
       "    <tr>\n",
       "      <th>1</th>\n",
       "      <td>1</td>\n",
       "      <td>1</td>\n",
       "      <td>1</td>\n",
       "      <td>38.0</td>\n",
       "      <td>1</td>\n",
       "      <td>0</td>\n",
       "      <td>71.2833</td>\n",
       "    </tr>\n",
       "    <tr>\n",
       "      <th>2</th>\n",
       "      <td>1</td>\n",
       "      <td>3</td>\n",
       "      <td>1</td>\n",
       "      <td>26.0</td>\n",
       "      <td>0</td>\n",
       "      <td>0</td>\n",
       "      <td>7.9250</td>\n",
       "    </tr>\n",
       "    <tr>\n",
       "      <th>3</th>\n",
       "      <td>1</td>\n",
       "      <td>1</td>\n",
       "      <td>1</td>\n",
       "      <td>35.0</td>\n",
       "      <td>1</td>\n",
       "      <td>0</td>\n",
       "      <td>53.1000</td>\n",
       "    </tr>\n",
       "    <tr>\n",
       "      <th>4</th>\n",
       "      <td>0</td>\n",
       "      <td>3</td>\n",
       "      <td>0</td>\n",
       "      <td>35.0</td>\n",
       "      <td>0</td>\n",
       "      <td>0</td>\n",
       "      <td>8.0500</td>\n",
       "    </tr>\n",
       "  </tbody>\n",
       "</table>\n",
       "</div>"
      ],
      "text/plain": [
       "   Survived  Pclass  Sex   Age  Siblings/Spouses Aboard  \\\n",
       "0         0       3    0  22.0                        1   \n",
       "1         1       1    1  38.0                        1   \n",
       "2         1       3    1  26.0                        0   \n",
       "3         1       1    1  35.0                        1   \n",
       "4         0       3    0  35.0                        0   \n",
       "\n",
       "   Parents/Children Aboard     Fare  \n",
       "0                        0   7.2500  \n",
       "1                        0  71.2833  \n",
       "2                        0   7.9250  \n",
       "3                        0  53.1000  \n",
       "4                        0   8.0500  "
      ]
     },
     "execution_count": 154,
     "metadata": {},
     "output_type": "execute_result"
    }
   ],
   "source": [
    "toy"
   ]
  },
  {
   "cell_type": "code",
   "execution_count": 162,
   "metadata": {},
   "outputs": [],
   "source": [
    "def NB_cross_val(data, fold = 10):\n",
    "        indices = np.random.permutation(list(data.index))\n",
    "        testsize = data.shape[0]//fold\n",
    "        acc = []\n",
    "        NB = NaiveBayes()\n",
    "        for i in range(fold):\n",
    "            if i == fold - 1:\n",
    "                test = data.loc[indices[i*testsize:]]\n",
    "                train = data.loc[data.index.isin(indices[i*testsize:]) == False]\n",
    "            else:\n",
    "                test = data.loc[indices[i*testsize : (i+1)*testsize]]\n",
    "                train = data.loc[data.index.isin(indices[i*testsize : (i+1)*testsize]) == False]\n",
    "            \n",
    "            #print(train.shape)\n",
    "            \n",
    "            NB.fit(train)\n",
    "            \n",
    "            pre = NB.predict(test.drop(['Survived'],axis = 1))\n",
    "            \n",
    "            acc.append((pre == test.Survived).sum()/len(test.Survived))\n",
    "            \n",
    "        #return np.array(acc).mean()\n",
    "        return acc"
   ]
  },
  {
   "cell_type": "code",
   "execution_count": 164,
   "metadata": {},
   "outputs": [
    {
     "data": {
      "text/plain": [
       "[0.6477272727272727,\n",
       " 0.6704545454545454,\n",
       " 0.6363636363636364,\n",
       " 0.6590909090909091,\n",
       " 0.6363636363636364,\n",
       " 0.75,\n",
       " 0.6590909090909091,\n",
       " 0.6590909090909091,\n",
       " 0.5795454545454546,\n",
       " 0.6736842105263158]"
      ]
     },
     "execution_count": 164,
     "metadata": {},
     "output_type": "execute_result"
    }
   ],
   "source": [
    "acc = NB_cross_val(data)\n",
    "acc"
   ]
  },
  {
   "cell_type": "code",
   "execution_count": 165,
   "metadata": {},
   "outputs": [
    {
     "data": {
      "text/plain": [
       "0.6571411483253587"
      ]
     },
     "execution_count": 165,
     "metadata": {},
     "output_type": "execute_result"
    }
   ],
   "source": [
    "np.array(acc).mean()"
   ]
  },
  {
   "cell_type": "code",
   "execution_count": null,
   "metadata": {},
   "outputs": [],
   "source": []
  },
  {
   "cell_type": "code",
   "execution_count": null,
   "metadata": {},
   "outputs": [],
   "source": []
  },
  {
   "cell_type": "code",
   "execution_count": null,
   "metadata": {},
   "outputs": [],
   "source": []
  },
  {
   "cell_type": "code",
   "execution_count": null,
   "metadata": {},
   "outputs": [],
   "source": []
  },
  {
   "cell_type": "code",
   "execution_count": 127,
   "metadata": {},
   "outputs": [
    {
     "data": {
      "text/plain": [
       "2.2085857931854898e-05"
      ]
     },
     "execution_count": 127,
     "metadata": {},
     "output_type": "execute_result"
    }
   ],
   "source": [
    "np.prod(a)"
   ]
  },
  {
   "cell_type": "code",
   "execution_count": 128,
   "metadata": {},
   "outputs": [
    {
     "data": {
      "text/plain": [
       "5.914126637139044e-06"
      ]
     },
     "execution_count": 128,
     "metadata": {},
     "output_type": "execute_result"
    }
   ],
   "source": [
    "np.prod(b)"
   ]
  },
  {
   "cell_type": "code",
   "execution_count": 63,
   "metadata": {},
   "outputs": [
    {
     "data": {
      "text/plain": [
       "31.455255530833597"
      ]
     },
     "execution_count": 63,
     "metadata": {},
     "output_type": "execute_result"
    }
   ],
   "source": [
    "data[data.Survived == 0].Fare.std(ddof = 0)"
   ]
  },
  {
   "cell_type": "code",
   "execution_count": 107,
   "metadata": {},
   "outputs": [
    {
     "data": {
      "text/plain": [
       "9"
      ]
     },
     "execution_count": 107,
     "metadata": {},
     "output_type": "execute_result"
    }
   ],
   "source": [
    "np.power(3,2)"
   ]
  },
  {
   "cell_type": "code",
   "execution_count": 13,
   "metadata": {},
   "outputs": [
    {
     "data": {
      "text/html": [
       "<div>\n",
       "<style scoped>\n",
       "    .dataframe tbody tr th:only-of-type {\n",
       "        vertical-align: middle;\n",
       "    }\n",
       "\n",
       "    .dataframe tbody tr th {\n",
       "        vertical-align: top;\n",
       "    }\n",
       "\n",
       "    .dataframe thead th {\n",
       "        text-align: right;\n",
       "    }\n",
       "</style>\n",
       "<table border=\"1\" class=\"dataframe\">\n",
       "  <thead>\n",
       "    <tr style=\"text-align: right;\">\n",
       "      <th></th>\n",
       "      <th>Survived</th>\n",
       "      <th>Pclass</th>\n",
       "      <th>Sex</th>\n",
       "      <th>Age</th>\n",
       "      <th>Siblings/Spouses Aboard</th>\n",
       "      <th>Parents/Children Aboard</th>\n",
       "      <th>Fare</th>\n",
       "    </tr>\n",
       "  </thead>\n",
       "  <tbody>\n",
       "    <tr>\n",
       "      <th>0</th>\n",
       "      <td>0</td>\n",
       "      <td>3</td>\n",
       "      <td>0</td>\n",
       "      <td>22.0</td>\n",
       "      <td>1</td>\n",
       "      <td>0</td>\n",
       "      <td>7.2500</td>\n",
       "    </tr>\n",
       "    <tr>\n",
       "      <th>1</th>\n",
       "      <td>1</td>\n",
       "      <td>1</td>\n",
       "      <td>1</td>\n",
       "      <td>38.0</td>\n",
       "      <td>1</td>\n",
       "      <td>0</td>\n",
       "      <td>71.2833</td>\n",
       "    </tr>\n",
       "    <tr>\n",
       "      <th>2</th>\n",
       "      <td>1</td>\n",
       "      <td>3</td>\n",
       "      <td>1</td>\n",
       "      <td>26.0</td>\n",
       "      <td>0</td>\n",
       "      <td>0</td>\n",
       "      <td>7.9250</td>\n",
       "    </tr>\n",
       "    <tr>\n",
       "      <th>3</th>\n",
       "      <td>1</td>\n",
       "      <td>1</td>\n",
       "      <td>1</td>\n",
       "      <td>35.0</td>\n",
       "      <td>1</td>\n",
       "      <td>0</td>\n",
       "      <td>53.1000</td>\n",
       "    </tr>\n",
       "    <tr>\n",
       "      <th>4</th>\n",
       "      <td>0</td>\n",
       "      <td>3</td>\n",
       "      <td>0</td>\n",
       "      <td>35.0</td>\n",
       "      <td>0</td>\n",
       "      <td>0</td>\n",
       "      <td>8.0500</td>\n",
       "    </tr>\n",
       "  </tbody>\n",
       "</table>\n",
       "</div>"
      ],
      "text/plain": [
       "   Survived  Pclass  Sex   Age  Siblings/Spouses Aboard  \\\n",
       "0         0       3    0  22.0                        1   \n",
       "1         1       1    1  38.0                        1   \n",
       "2         1       3    1  26.0                        0   \n",
       "3         1       1    1  35.0                        1   \n",
       "4         0       3    0  35.0                        0   \n",
       "\n",
       "   Parents/Children Aboard     Fare  \n",
       "0                        0   7.2500  \n",
       "1                        0  71.2833  \n",
       "2                        0   7.9250  \n",
       "3                        0  53.1000  \n",
       "4                        0   8.0500  "
      ]
     },
     "execution_count": 13,
     "metadata": {},
     "output_type": "execute_result"
    }
   ],
   "source": [
    "toy = data.head()\n",
    "toy"
   ]
  },
  {
   "cell_type": "code",
   "execution_count": 146,
   "metadata": {},
   "outputs": [
    {
     "data": {
      "text/plain": [
       "Survived                    1.0000\n",
       "Pclass                      1.0000\n",
       "Sex                         1.0000\n",
       "Age                        38.0000\n",
       "Siblings/Spouses Aboard     1.0000\n",
       "Parents/Children Aboard     0.0000\n",
       "Fare                       71.2833\n",
       "Name: 1, dtype: float64"
      ]
     },
     "execution_count": 146,
     "metadata": {},
     "output_type": "execute_result"
    }
   ],
   "source": [
    "toy.loc[1]"
   ]
  },
  {
   "cell_type": "code",
   "execution_count": 141,
   "metadata": {},
   "outputs": [
    {
     "data": {
      "text/plain": [
       "Pclass                      3\n",
       "Sex                         0\n",
       "Age                        23\n",
       "Siblings/Spouses Aboard     1\n",
       "Parents/Children Aboard     0\n",
       "Fare                        0\n",
       "dtype: int64"
      ]
     },
     "execution_count": 141,
     "metadata": {},
     "output_type": "execute_result"
    }
   ],
   "source": [
    "new"
   ]
  },
  {
   "cell_type": "code",
   "execution_count": 103,
   "metadata": {},
   "outputs": [
    {
     "data": {
      "text/plain": [
       "Pclass                      3\n",
       "Sex                         0\n",
       "Age                        23\n",
       "Siblings/Spouses Aboard     1\n",
       "Parents/Children Aboard     0\n",
       "Fare                        0\n",
       "dtype: int64"
      ]
     },
     "execution_count": 103,
     "metadata": {},
     "output_type": "execute_result"
    }
   ],
   "source": [
    "new = pd.Series({'Pclass':3, 'Sex':0, 'Age': 23, 'Siblings/Spouses Aboard': 1, 'Parents/Children Aboard':0, 'Fare': 0})\n",
    "new"
   ]
  },
  {
   "cell_type": "code",
   "execution_count": 115,
   "metadata": {},
   "outputs": [
    {
     "data": {
      "text/plain": [
       "0"
      ]
     },
     "execution_count": 115,
     "metadata": {},
     "output_type": "execute_result"
    }
   ],
   "source": [
    "new['Parents/Children Aboard']"
   ]
  },
  {
   "cell_type": "code",
   "execution_count": 43,
   "metadata": {},
   "outputs": [
    {
     "data": {
      "text/plain": [
       "[1]"
      ]
     },
     "execution_count": 43,
     "metadata": {},
     "output_type": "execute_result"
    }
   ],
   "source": [
    "a = [1]\n",
    "a"
   ]
  },
  {
   "cell_type": "code",
   "execution_count": 45,
   "metadata": {},
   "outputs": [],
   "source": [
    "a.append(1-a[0])"
   ]
  },
  {
   "cell_type": "code",
   "execution_count": 46,
   "metadata": {},
   "outputs": [
    {
     "data": {
      "text/plain": [
       "[1, 0]"
      ]
     },
     "execution_count": 46,
     "metadata": {},
     "output_type": "execute_result"
    }
   ],
   "source": [
    "a"
   ]
  },
  {
   "cell_type": "code",
   "execution_count": 108,
   "metadata": {},
   "outputs": [
    {
     "data": {
      "text/plain": [
       "3"
      ]
     },
     "execution_count": 108,
     "metadata": {},
     "output_type": "execute_result"
    }
   ],
   "source": [
    "np.prod(3)"
   ]
  },
  {
   "cell_type": "code",
   "execution_count": 109,
   "metadata": {},
   "outputs": [
    {
     "data": {
      "text/plain": [
       "6"
      ]
     },
     "execution_count": 109,
     "metadata": {},
     "output_type": "execute_result"
    }
   ],
   "source": [
    "np.math.factorial(3)"
   ]
  },
  {
   "cell_type": "code",
   "execution_count": 114,
   "metadata": {},
   "outputs": [
    {
     "data": {
      "text/plain": [
       "0.5"
      ]
     },
     "execution_count": 114,
     "metadata": {},
     "output_type": "execute_result"
    }
   ],
   "source": [
    "1 / \\\n",
    "  2"
   ]
  },
  {
   "cell_type": "markdown",
   "metadata": {},
   "source": []
  }
 ],
 "metadata": {
  "kernelspec": {
   "display_name": "Python 3",
   "language": "python",
   "name": "python3"
  },
  "language_info": {
   "codemirror_mode": {
    "name": "ipython",
    "version": 3
   },
   "file_extension": ".py",
   "mimetype": "text/x-python",
   "name": "python",
   "nbconvert_exporter": "python",
   "pygments_lexer": "ipython3",
   "version": "3.8.3"
  }
 },
 "nbformat": 4,
 "nbformat_minor": 4
}
