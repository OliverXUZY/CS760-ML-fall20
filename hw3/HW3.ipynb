{
 "cells": [
  {
   "cell_type": "markdown",
   "metadata": {},
   "source": [
    "# HW3"
   ]
  },
  {
   "cell_type": "code",
   "execution_count": 3,
   "metadata": {},
   "outputs": [],
   "source": [
    "import numpy as np\n",
    "import pandas as pd"
   ]
  },
  {
   "cell_type": "code",
   "execution_count": 4,
   "metadata": {},
   "outputs": [
    {
     "data": {
      "text/html": [
       "<div>\n",
       "<style scoped>\n",
       "    .dataframe tbody tr th:only-of-type {\n",
       "        vertical-align: middle;\n",
       "    }\n",
       "\n",
       "    .dataframe tbody tr th {\n",
       "        vertical-align: top;\n",
       "    }\n",
       "\n",
       "    .dataframe thead th {\n",
       "        text-align: right;\n",
       "    }\n",
       "</style>\n",
       "<table border=\"1\" class=\"dataframe\">\n",
       "  <thead>\n",
       "    <tr style=\"text-align: right;\">\n",
       "      <th></th>\n",
       "      <th>Survived</th>\n",
       "      <th>Pclass</th>\n",
       "      <th>Sex</th>\n",
       "      <th>Age</th>\n",
       "      <th>Siblings/Spouses Aboard</th>\n",
       "      <th>Parents/Children Aboard</th>\n",
       "      <th>Fare</th>\n",
       "    </tr>\n",
       "  </thead>\n",
       "  <tbody>\n",
       "    <tr>\n",
       "      <th>0</th>\n",
       "      <td>0</td>\n",
       "      <td>3</td>\n",
       "      <td>0</td>\n",
       "      <td>22.0</td>\n",
       "      <td>1</td>\n",
       "      <td>0</td>\n",
       "      <td>7.2500</td>\n",
       "    </tr>\n",
       "    <tr>\n",
       "      <th>1</th>\n",
       "      <td>1</td>\n",
       "      <td>1</td>\n",
       "      <td>1</td>\n",
       "      <td>38.0</td>\n",
       "      <td>1</td>\n",
       "      <td>0</td>\n",
       "      <td>71.2833</td>\n",
       "    </tr>\n",
       "    <tr>\n",
       "      <th>2</th>\n",
       "      <td>1</td>\n",
       "      <td>3</td>\n",
       "      <td>1</td>\n",
       "      <td>26.0</td>\n",
       "      <td>0</td>\n",
       "      <td>0</td>\n",
       "      <td>7.9250</td>\n",
       "    </tr>\n",
       "    <tr>\n",
       "      <th>3</th>\n",
       "      <td>1</td>\n",
       "      <td>1</td>\n",
       "      <td>1</td>\n",
       "      <td>35.0</td>\n",
       "      <td>1</td>\n",
       "      <td>0</td>\n",
       "      <td>53.1000</td>\n",
       "    </tr>\n",
       "    <tr>\n",
       "      <th>4</th>\n",
       "      <td>0</td>\n",
       "      <td>3</td>\n",
       "      <td>0</td>\n",
       "      <td>35.0</td>\n",
       "      <td>0</td>\n",
       "      <td>0</td>\n",
       "      <td>8.0500</td>\n",
       "    </tr>\n",
       "  </tbody>\n",
       "</table>\n",
       "</div>"
      ],
      "text/plain": [
       "   Survived  Pclass  Sex   Age  Siblings/Spouses Aboard  \\\n",
       "0         0       3    0  22.0                        1   \n",
       "1         1       1    1  38.0                        1   \n",
       "2         1       3    1  26.0                        0   \n",
       "3         1       1    1  35.0                        1   \n",
       "4         0       3    0  35.0                        0   \n",
       "\n",
       "   Parents/Children Aboard     Fare  \n",
       "0                        0   7.2500  \n",
       "1                        0  71.2833  \n",
       "2                        0   7.9250  \n",
       "3                        0  53.1000  \n",
       "4                        0   8.0500  "
      ]
     },
     "execution_count": 4,
     "metadata": {},
     "output_type": "execute_result"
    }
   ],
   "source": [
    "data = pd.read_csv('titanic_data.csv')\n",
    "\n",
    "y = data.Survived\n",
    "X = data.loc[:,'Pclass':\"Fare\"]\n",
    "data.head()"
   ]
  },
  {
   "cell_type": "code",
   "execution_count": 5,
   "metadata": {},
   "outputs": [
    {
     "data": {
      "text/html": [
       "<div>\n",
       "<style scoped>\n",
       "    .dataframe tbody tr th:only-of-type {\n",
       "        vertical-align: middle;\n",
       "    }\n",
       "\n",
       "    .dataframe tbody tr th {\n",
       "        vertical-align: top;\n",
       "    }\n",
       "\n",
       "    .dataframe thead th {\n",
       "        text-align: right;\n",
       "    }\n",
       "</style>\n",
       "<table border=\"1\" class=\"dataframe\">\n",
       "  <thead>\n",
       "    <tr style=\"text-align: right;\">\n",
       "      <th></th>\n",
       "      <th>Survived</th>\n",
       "      <th>Pclass</th>\n",
       "      <th>Sex</th>\n",
       "      <th>Age</th>\n",
       "      <th>Siblings/Spouses Aboard</th>\n",
       "      <th>Parents/Children Aboard</th>\n",
       "      <th>Fare</th>\n",
       "    </tr>\n",
       "  </thead>\n",
       "  <tbody>\n",
       "    <tr>\n",
       "      <th>0</th>\n",
       "      <td>0</td>\n",
       "      <td>3</td>\n",
       "      <td>0</td>\n",
       "      <td>22.0</td>\n",
       "      <td>1</td>\n",
       "      <td>0</td>\n",
       "      <td>7.2500</td>\n",
       "    </tr>\n",
       "    <tr>\n",
       "      <th>1</th>\n",
       "      <td>1</td>\n",
       "      <td>1</td>\n",
       "      <td>1</td>\n",
       "      <td>38.0</td>\n",
       "      <td>1</td>\n",
       "      <td>0</td>\n",
       "      <td>71.2833</td>\n",
       "    </tr>\n",
       "    <tr>\n",
       "      <th>2</th>\n",
       "      <td>1</td>\n",
       "      <td>3</td>\n",
       "      <td>1</td>\n",
       "      <td>26.0</td>\n",
       "      <td>0</td>\n",
       "      <td>0</td>\n",
       "      <td>7.9250</td>\n",
       "    </tr>\n",
       "    <tr>\n",
       "      <th>3</th>\n",
       "      <td>1</td>\n",
       "      <td>1</td>\n",
       "      <td>1</td>\n",
       "      <td>35.0</td>\n",
       "      <td>1</td>\n",
       "      <td>0</td>\n",
       "      <td>53.1000</td>\n",
       "    </tr>\n",
       "    <tr>\n",
       "      <th>4</th>\n",
       "      <td>0</td>\n",
       "      <td>3</td>\n",
       "      <td>0</td>\n",
       "      <td>35.0</td>\n",
       "      <td>0</td>\n",
       "      <td>0</td>\n",
       "      <td>8.0500</td>\n",
       "    </tr>\n",
       "  </tbody>\n",
       "</table>\n",
       "</div>"
      ],
      "text/plain": [
       "   Survived  Pclass  Sex   Age  Siblings/Spouses Aboard  \\\n",
       "0         0       3    0  22.0                        1   \n",
       "1         1       1    1  38.0                        1   \n",
       "2         1       3    1  26.0                        0   \n",
       "3         1       1    1  35.0                        1   \n",
       "4         0       3    0  35.0                        0   \n",
       "\n",
       "   Parents/Children Aboard     Fare  \n",
       "0                        0   7.2500  \n",
       "1                        0  71.2833  \n",
       "2                        0   7.9250  \n",
       "3                        0  53.1000  \n",
       "4                        0   8.0500  "
      ]
     },
     "execution_count": 5,
     "metadata": {},
     "output_type": "execute_result"
    }
   ],
   "source": [
    "toy = data.head()\n",
    "toy"
   ]
  },
  {
   "cell_type": "markdown",
   "metadata": {},
   "source": [
    "# 3.1"
   ]
  },
  {
   "cell_type": "markdown",
   "metadata": {},
   "source": [
    "Consider log-likelihood function:\n",
    "$$\\ell(\\boldsymbol{\\theta})=\\sum_{i=1}^{\\mathrm{N}} \\mathrm{y}_{\\mathrm{i}} \\log \\left(\\frac{1}{1+e^{-\\boldsymbol{\\theta}^{\\top} \\mathbf{x}_{\\mathrm{i}}}}\\right)+\\left(1-\\mathrm{y}_{\\mathrm{i}}\\right) \\log \\left(\\frac{1}{1+e^{\\boldsymbol{\\theta}^{\\top} \\mathbf{x}_{\\mathbf{i}}}}\\right)$$"
   ]
  },
  {
   "cell_type": "code",
   "execution_count": 6,
   "metadata": {},
   "outputs": [],
   "source": [
    "def LogLik(theta):\n",
    "    return X.dot(theta).dot(y) - np.log(np.exp(1 + X.dot(theta))).sum()\n",
    "def Gr(theta):\n",
    "    return (y - 1/(1 + np.exp(-X.dot(theta)))).dot(X)"
   ]
  },
  {
   "cell_type": "code",
   "execution_count": 7,
   "metadata": {},
   "outputs": [],
   "source": [
    "def GD(steps, size, tol):\n",
    "    i = 0\n",
    "    theta = np.linalg.inv(X.T.dot(X)).dot(X.T).dot(y)\n",
    "    loglik = LogLik(theta)\n",
    "    vec = [loglik]\n",
    "    while i < steps:\n",
    "        theta1 = theta + size*Gr(theta)\n",
    "        vec.append(LogLik(theta1))\n",
    "        \n",
    "        if np.square((theta1 - theta)).sum() <= tol or np.square(vec[-1] - vec[-2])<= tol:\n",
    "            print('Total %d' %i  ,'iteration')\n",
    "            return theta1, vec\n",
    "        \n",
    "        theta = theta1\n",
    "        i += 1\n",
    "    \n",
    "    print('Total %d' %i  ,'iteration')\n",
    "    return theta, vec"
   ]
  },
  {
   "cell_type": "code",
   "execution_count": 8,
   "metadata": {},
   "outputs": [
    {
     "name": "stdout",
     "output_type": "stream",
     "text": [
      "Total 17155 iteration\n"
     ]
    }
   ],
   "source": [
    "theta, vec = GD(20000,1e-7, 1e-10)"
   ]
  },
  {
   "cell_type": "code",
   "execution_count": 9,
   "metadata": {},
   "outputs": [
    {
     "data": {
      "image/png": "[encoded data removed]",
      "text/plain": [
       "<Figure size 432x288 with 1 Axes>"
      ]
     },
     "metadata": {
      "needs_background": "light"
     },
     "output_type": "display_data"
    }
   ],
   "source": [
    "df = pd.DataFrame({\"GD\":vec})\n",
    "df.plot.line(linewidth = 4)\n",
    "None"
   ]
  },
  {
   "cell_type": "code",
   "execution_count": 10,
   "metadata": {},
   "outputs": [
    {
     "data": {
      "text/plain": [
       "Pclass                    -0.157296\n",
       "Sex                        0.691840\n",
       "Age                       -0.022838\n",
       "Siblings/Spouses Aboard   -0.128911\n",
       "Parents/Children Aboard   -0.040576\n",
       "Fare                       0.013129\n",
       "dtype: float64"
      ]
     },
     "execution_count": 10,
     "metadata": {},
     "output_type": "execute_result"
    }
   ],
   "source": [
    "theta"
   ]
  },
  {
   "cell_type": "markdown",
   "metadata": {},
   "source": [
    "## (a)"
   ]
  },
  {
   "cell_type": "markdown",
   "metadata": {},
   "source": [
    "I choose constant stepsize as $10^{-7}$, the optimization process went pretty well. I've chosen some other stategies at the beginning, such as exact lone search/ learning rate decay， momentum method, or some other methods involving second gradient. The method involving learn search didn't get good result and usually requires more iterations. The likelihood will fluctuate in some iterations. The method methods involving second gradient cost more time and computation complexity.\n",
    "\n",
    "In the end, the constant stepsize showed the desired result."
   ]
  },
  {
   "cell_type": "markdown",
   "metadata": {},
   "source": [
    "## (b)"
   ]
  },
  {
   "cell_type": "code",
   "execution_count": 11,
   "metadata": {},
   "outputs": [
    {
     "name": "stdout",
     "output_type": "stream",
     "text": [
      "Total 17155 iteration\n",
      "Total 28.299755096435547 seconds elapsed\n"
     ]
    }
   ],
   "source": [
    "import time\n",
    "start_time = time.time()\n",
    "theta, vec = GD(20000,1e-7, 1e-10)\n",
    "print(\"Total %s seconds elapsed\" % (time.time() - start_time))"
   ]
  },
  {
   "cell_type": "markdown",
   "metadata": {},
   "source": [
    "**It took 28.30 seconds to complete the iteration. It took about 3 seconds to converge according to the loglikelihood plot.**"
   ]
  },
  {
   "cell_type": "markdown",
   "metadata": {},
   "source": [
    "## (c)"
   ]
  },
  {
   "cell_type": "code",
   "execution_count": 12,
   "metadata": {},
   "outputs": [
    {
     "data": {
      "text/plain": [
       "Pclass                    -0.157296\n",
       "Sex                        0.691840\n",
       "Age                       -0.022838\n",
       "Siblings/Spouses Aboard   -0.128911\n",
       "Parents/Children Aboard   -0.040576\n",
       "Fare                       0.013129\n",
       "dtype: float64"
      ]
     },
     "execution_count": 12,
     "metadata": {},
     "output_type": "execute_result"
    }
   ],
   "source": [
    "theta"
   ]
  },
  {
   "cell_type": "markdown",
   "metadata": {},
   "source": [
    "## (d)"
   ]
  },
  {
   "cell_type": "code",
   "execution_count": 13,
   "metadata": {},
   "outputs": [
    {
     "data": {
      "text/plain": [
       "-463.53153422224244"
      ]
     },
     "execution_count": 13,
     "metadata": {},
     "output_type": "execute_result"
    }
   ],
   "source": [
    "vec[-1]"
   ]
  },
  {
   "cell_type": "markdown",
   "metadata": {},
   "source": [
    "## (e)"
   ]
  },
  {
   "cell_type": "markdown",
   "metadata": {},
   "source": [
    "Using $\\theta^\\star$ to denote ture parameter.\n",
    "\n",
    "\n",
    "Consider Fisher information:\n",
    "$$\n",
    "\\mathbf{I}_{\\boldsymbol{\\theta}^{\\star}}:=-\\mathbb{E}\\left[\\left.\\frac{\\mathrm{d}^{2} \\ell(\\boldsymbol{\\theta})}{\\mathrm{d} \\boldsymbol{\\theta}^{2}}\\right|_{\\boldsymbol{\\theta}=\\boldsymbol{\\theta}^{\\star}}\\right]=\\mathbb{E}\\left[\\left.\\sum_{\\mathbf{i}=1}^{\\mathrm{N}} \\frac{e^{-\\boldsymbol{\\theta}^{\\top} \\mathbf{x}_{\\mathbf{i}}}}{\\left(1+e^{-\\boldsymbol{\\theta}^{\\top} \\mathbf{x}_{\\mathbf{i}}}\\right)^{2}} \\mathbf{x}_{\\mathbf{i}} \\mathbf{x}_{\\mathbf{i}}^{\\top}\\right|_{\\boldsymbol{\\theta}=\\boldsymbol{\\theta}^{\\star}}\\right]=\\sum_{\\mathbf{i}=1}^{\\mathrm{N}} \\frac{e^{-\\boldsymbol{\\theta}^{\\star \\top} \\mathbf{x}_{\\mathbf{i}}}}{\\left(1+e^{-\\boldsymbol{\\theta}^{\\star \\top} \\mathbf{x}_{\\mathbf{i}}}\\right)^{2}} \\mathbf{x}_{\\mathbf{i}} \\mathbf{x}_{\\mathbf{i}}^{\\top}\n",
    "$$\n",
    "\n",
    "Let $$\\hat{\\boldsymbol{\\theta}}:=\\underset{\\boldsymbol{\\theta} \\in \\mathbb{R}^{\\mathrm{D}+1}}{\\arg \\max } \\ell(\\boldsymbol{\\theta})$$\n",
    "\n"
   ]
  },
  {
   "cell_type": "markdown",
   "metadata": {},
   "source": [
    "Suppose $\\frac{\\mathrm{d}^{2} \\ell(\\boldsymbol{\\theta})}{\\mathrm{d} \\boldsymbol{\\theta}^{2}}$. Then we have:\n",
    "\n",
    "\n",
    "\n",
    "$$\n",
    "\\hat{\\boldsymbol{\\theta}} \\stackrel{d}{\\longrightarrow} \\mathcal{N}\\left(\\boldsymbol{\\theta}^{\\star},\\mathbf{I}_{\\boldsymbol{\\theta}^{\\star}}^{-1}\\right)\n",
    "$$"
   ]
  },
  {
   "cell_type": "markdown",
   "metadata": {},
   "source": [
    "According to computation, we have:"
   ]
  },
  {
   "cell_type": "code",
   "execution_count": 14,
   "metadata": {},
   "outputs": [],
   "source": [
    "def I(theta):\n",
    "    W = np.diag(np.exp(-X.dot(theta))/(1 + np.exp(-X.dot(theta)))**2)\n",
    "    return X.T.dot(W).dot(X)"
   ]
  },
  {
   "cell_type": "code",
   "execution_count": 15,
   "metadata": {},
   "outputs": [],
   "source": [
    "var = np.linalg.inv(I(theta))"
   ]
  },
  {
   "cell_type": "markdown",
   "metadata": {},
   "source": [
    "Then we have:\n",
    "\n",
    "$$\n",
    "\\hat{\\boldsymbol{\\theta}} \\stackrel{d}{\\longrightarrow} \\mathcal{N}\\left(\\boldsymbol{\\theta}^{\\star},\\mathbf{I}_{\\hat{\\boldsymbol{\\theta}}}^{-1}\\right)\n",
    "$$"
   ]
  },
  {
   "cell_type": "markdown",
   "metadata": {},
   "source": [
    "where $\\mathbf{I}_{\\hat{\\boldsymbol{\\theta}}}^{-1}$ is"
   ]
  },
  {
   "cell_type": "code",
   "execution_count": 16,
   "metadata": {},
   "outputs": [
    {
     "data": {
      "text/plain": [
       "array([[ 3.21359720e-03, -1.96270908e-03, -1.94319179e-04,\n",
       "        -1.48733570e-03, -1.01101582e-03,  5.15191289e-05],\n",
       "       [-1.96270908e-03,  2.37288881e-02, -3.72060099e-05,\n",
       "         1.08457571e-04, -2.95630615e-03, -7.20737802e-05],\n",
       "       [-1.94319179e-04, -3.72060099e-05,  2.19491616e-05,\n",
       "         1.01031536e-04,  6.98258066e-05, -7.11340387e-06],\n",
       "       [-1.48733570e-03,  1.08457571e-04,  1.01031536e-04,\n",
       "         5.81895119e-03, -2.23402533e-03, -6.34861528e-05],\n",
       "       [-1.01101582e-03, -2.95630615e-03,  6.98258066e-05,\n",
       "        -2.23402533e-03,  1.05884034e-02, -5.48940130e-05],\n",
       "       [ 5.15191289e-05, -7.20737802e-05, -7.11340387e-06,\n",
       "        -6.34861528e-05, -5.48940130e-05,  6.73377556e-06]])"
      ]
     },
     "execution_count": 16,
     "metadata": {},
     "output_type": "execute_result"
    }
   ],
   "source": [
    "var"
   ]
  },
  {
   "cell_type": "code",
   "execution_count": null,
   "metadata": {},
   "outputs": [],
   "source": []
  },
  {
   "cell_type": "markdown",
   "metadata": {},
   "source": [
    "# 3.2"
   ]
  },
  {
   "cell_type": "markdown",
   "metadata": {},
   "source": [
    "Consider  the the log-odds are defined as\n",
    "$$\n",
    "\\omega^{\\star}:=\\log \\left(\\frac{\\mathbb{P}(y=1 \\mid \\mathbf{x})}{\\mathbb{P}(y=0 \\mid \\mathbf{x})}\\right)=\\boldsymbol{\\theta}^{\\star \\top} \\mathbf{x}\n",
    "$$"
   ]
  },
  {
   "cell_type": "markdown",
   "metadata": {},
   "source": [
    "By the invariance property of the MLE, we know that the MLE of $\\omega^{\\star}$ is given by\n",
    "\n",
    "$$\n",
    "\\hat{\\omega}:=\\hat{\\boldsymbol{\\theta}}^{\\top} \\mathbf{x}\n",
    "$$"
   ]
  },
  {
   "cell_type": "markdown",
   "metadata": {},
   "source": [
    "We further have:\n",
    "\n",
    "$$\n",
    "\\hat{\\omega} \\stackrel{d}{\\longrightarrow} \\mathcal{N}\\left(\\omega^{\\star}, \\mathbf{x}^{\\top} \\mathbf{I}_{\\boldsymbol{\\theta}^{\\star}}^{-1} \\mathbf{x}\\right)\n",
    "$$"
   ]
  },
  {
   "cell_type": "code",
   "execution_count": null,
   "metadata": {},
   "outputs": [],
   "source": []
  },
  {
   "cell_type": "markdown",
   "metadata": {},
   "source": [
    "# 3.3"
   ]
  },
  {
   "cell_type": "markdown",
   "metadata": {},
   "source": [
    "My own feature would be Plass:3, Gender:0, Age:23, Siblings:0, Parents/Children:0, Fare: 7.25."
   ]
  },
  {
   "cell_type": "code",
   "execution_count": 17,
   "metadata": {},
   "outputs": [],
   "source": [
    "x = np.array([3,0,23,0,0,7.25])"
   ]
  },
  {
   "cell_type": "markdown",
   "metadata": {},
   "source": [
    " "
   ]
  },
  {
   "cell_type": "code",
   "execution_count": 18,
   "metadata": {},
   "outputs": [
    {
     "data": {
      "text/plain": [
       "0.7113562614023329"
      ]
     },
     "execution_count": 18,
     "metadata": {},
     "output_type": "execute_result"
    }
   ],
   "source": [
    "ome_hat = 1 / (1 + np.exp(theta.dot(x)))\n",
    "ome_hat"
   ]
  },
  {
   "cell_type": "markdown",
   "metadata": {},
   "source": [
    "## (a)"
   ]
  },
  {
   "cell_type": "markdown",
   "metadata": {},
   "source": [
    "since 0.66>0.5. According to (6.7) in lecture notes, I will survive the Titanic sinking."
   ]
  },
  {
   "cell_type": "markdown",
   "metadata": {},
   "source": [
    "## (b)"
   ]
  },
  {
   "cell_type": "markdown",
   "metadata": {},
   "source": [
    "According to:\n",
    "$$\\mathbb{P}\\left(\\left|\\hat{\\omega}-\\omega^{\\star}\\right|>\\tau\\right)=2 \\Phi\\left(\\tau \\mid 0, \\mathbf{x}^{\\top} \\mathbf{I}_{\\boldsymbol{\\theta}^{\\star}}^{-1} \\mathbf{x}\\right)$$"
   ]
  },
  {
   "cell_type": "code",
   "execution_count": 19,
   "metadata": {},
   "outputs": [
    {
     "data": {
      "text/plain": [
       "0.013940140637597352"
      ]
     },
     "execution_count": 19,
     "metadata": {},
     "output_type": "execute_result"
    }
   ],
   "source": [
    "np.linalg.inv(I(theta)).dot(x).dot(x)"
   ]
  },
  {
   "cell_type": "markdown",
   "metadata": {},
   "source": [
    "$$\n",
    "\\tau=\\Phi^{-1}\\left(\\alpha / 2 \\mid 0,\\mathbf{x}^{\\top} \\mathbf{I}_{\\boldsymbol{\\theta}^{\\star}}^{-1} \\mathbf{x}\\right)\n",
    "$$"
   ]
  },
  {
   "cell_type": "markdown",
   "metadata": {},
   "source": [
    "When $\\alpha = 0.05$, the $\\tau$ I compute based on my estimated variance is 0.2245956."
   ]
  },
  {
   "cell_type": "code",
   "execution_count": 20,
   "metadata": {},
   "outputs": [
    {
     "data": {
      "text/plain": [
       "0.4867606614023329"
      ]
     },
     "execution_count": 20,
     "metadata": {},
     "output_type": "execute_result"
    }
   ],
   "source": [
    "ome_hat - 0.2245956"
   ]
  },
  {
   "cell_type": "code",
   "execution_count": 21,
   "metadata": {},
   "outputs": [
    {
     "data": {
      "text/plain": [
       "0.9359518614023329"
      ]
     },
     "execution_count": 21,
     "metadata": {},
     "output_type": "execute_result"
    }
   ],
   "source": [
    "ome_hat + 0.2245956"
   ]
  },
  {
   "cell_type": "markdown",
   "metadata": {},
   "source": [
    "Then the 95% confidence interval would be [0.487,0.936]"
   ]
  },
  {
   "cell_type": "markdown",
   "metadata": {},
   "source": [
    "## (c)"
   ]
  },
  {
   "cell_type": "markdown",
   "metadata": {},
   "source": [
    "I think my answer from (a) is fairly certain. In (a) I compute estimated probablity larger than 1/2. In (c) I got my 95% confidence interval. Most of my interval lies in [0.5,1], so I think the interval I got coincides with the answer I got from (a)."
   ]
  },
  {
   "cell_type": "code",
   "execution_count": null,
   "metadata": {},
   "outputs": [],
   "source": []
  },
  {
   "cell_type": "markdown",
   "metadata": {},
   "source": [
    "## 3.4"
   ]
  },
  {
   "cell_type": "markdown",
   "metadata": {},
   "source": [
    "## (a)"
   ]
  },
  {
   "cell_type": "markdown",
   "metadata": {},
   "source": [
    "Consider LRT test:\n",
    "$$\n",
    "\\frac{\\mathbb{P}\\left(\\hat{\\theta}_{\\mathrm{j}} \\mid \\theta_{\\mathrm{j}}^{\\star} \\neq 0\\right)}{\\mathbb{P}\\left(\\hat{\\theta}_{\\mathrm{j}} \\mid \\theta_{\\mathrm{j}}^{\\star}=0\\right)} \\quad \\gtrless_{H_{0}}^{H_{1}} 1\n",
    "$$"
   ]
  },
  {
   "cell_type": "markdown",
   "metadata": {},
   "source": [
    "$$\n",
    "\\left(\\frac{\\hat{\\theta}_{\\mathrm{j}}}{\\nu_{\\mathrm{j}}}\\right)^{2} \\gtrless_{H_{0}}^{H_{1}}  2 \\log \\tau\n",
    "$$"
   ]
  },
  {
   "cell_type": "markdown",
   "metadata": {},
   "source": [
    "The quantile I calulated for chi-square distribution with df 1 is 3.841459."
   ]
  },
  {
   "cell_type": "code",
   "execution_count": 22,
   "metadata": {},
   "outputs": [
    {
     "data": {
      "text/plain": [
       "Pclass                     True\n",
       "Sex                        True\n",
       "Age                        True\n",
       "Siblings/Spouses Aboard    True\n",
       "Parents/Children Aboard    True\n",
       "Fare                       True\n",
       "dtype: bool"
      ]
     },
     "execution_count": 22,
     "metadata": {},
     "output_type": "execute_result"
    }
   ],
   "source": [
    "np.square(theta/ np.diag(var)) > 3.841459"
   ]
  },
  {
   "cell_type": "markdown",
   "metadata": {},
   "source": [
    "## (b)"
   ]
  },
  {
   "cell_type": "markdown",
   "metadata": {},
   "source": [
    "According the result in (a), all the features are significant."
   ]
  },
  {
   "cell_type": "markdown",
   "metadata": {},
   "source": [
    "## (c)"
   ]
  },
  {
   "cell_type": "markdown",
   "metadata": {},
   "source": [
    "Yes, the survival prediction is based on the feature prediction. If I change most significant feature in my feature vector, my survival prediction will change."
   ]
  },
  {
   "cell_type": "code",
   "execution_count": null,
   "metadata": {},
   "outputs": [],
   "source": []
  },
  {
   "cell_type": "code",
   "execution_count": null,
   "metadata": {},
   "outputs": [],
   "source": []
  }
 ],
 "metadata": {
  "kernelspec": {
   "display_name": "Python 3",
   "language": "python",
   "name": "python3"
  },
  "language_info": {
   "codemirror_mode": {
    "name": "ipython",
    "version": 3
   },
   "file_extension": ".py",
   "mimetype": "text/x-python",
   "name": "python",
   "nbconvert_exporter": "python",
   "pygments_lexer": "ipython3",
   "version": "3.8.3"
  }
 },
 "nbformat": 4,
 "nbformat_minor": 4
}
