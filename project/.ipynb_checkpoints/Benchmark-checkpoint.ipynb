{
 "cells": [
  {
   "cell_type": "code",
   "execution_count": 1,
   "metadata": {},
   "outputs": [],
   "source": [
    "import numpy as np\n",
    "import pandas as pd\n",
    "import time\n",
    "\n",
    "from sklearn.model_selection import cross_val_score"
   ]
  },
  {
   "cell_type": "code",
   "execution_count": 2,
   "metadata": {},
   "outputs": [],
   "source": [
    "train = pd.read_csv('csv/toymodel3_extracted_10_feature_train.csv')\n",
    "test = pd.read_csv('csv/toymodel3_extracted_10_feature_test.csv')\n",
    "\n",
    "#train = pd.read_csv('csv/train_raw.csv')\n",
    "#test = pd.read_csv('csv/test_raw.csv')\n",
    "\n",
    "X_train = train.drop(['y'],axis = 1)\n",
    "y_train = train['y']\n",
    "\n",
    "X_test = test.drop(['y'],axis = 1)\n",
    "y_test = test['y']"
   ]
  },
  {
   "cell_type": "code",
   "execution_count": 3,
   "metadata": {},
   "outputs": [
    {
     "data": {
      "text/html": [
       "<div>\n",
       "<style scoped>\n",
       "    .dataframe tbody tr th:only-of-type {\n",
       "        vertical-align: middle;\n",
       "    }\n",
       "\n",
       "    .dataframe tbody tr th {\n",
       "        vertical-align: top;\n",
       "    }\n",
       "\n",
       "    .dataframe thead th {\n",
       "        text-align: right;\n",
       "    }\n",
       "</style>\n",
       "<table border=\"1\" class=\"dataframe\">\n",
       "  <thead>\n",
       "    <tr style=\"text-align: right;\">\n",
       "      <th></th>\n",
       "      <th>0</th>\n",
       "      <th>1</th>\n",
       "      <th>2</th>\n",
       "      <th>3</th>\n",
       "      <th>4</th>\n",
       "      <th>5</th>\n",
       "      <th>6</th>\n",
       "      <th>7</th>\n",
       "      <th>8</th>\n",
       "      <th>9</th>\n",
       "      <th>y</th>\n",
       "    </tr>\n",
       "  </thead>\n",
       "  <tbody>\n",
       "    <tr>\n",
       "      <th>0</th>\n",
       "      <td>-5.493340</td>\n",
       "      <td>1.979221</td>\n",
       "      <td>5.452313</td>\n",
       "      <td>2.376600</td>\n",
       "      <td>-2.218290</td>\n",
       "      <td>-0.297500</td>\n",
       "      <td>-2.463372</td>\n",
       "      <td>-2.882947</td>\n",
       "      <td>3.689015</td>\n",
       "      <td>-3.339031</td>\n",
       "      <td>0</td>\n",
       "    </tr>\n",
       "    <tr>\n",
       "      <th>1</th>\n",
       "      <td>-1.176325</td>\n",
       "      <td>-0.024176</td>\n",
       "      <td>1.475685</td>\n",
       "      <td>0.602422</td>\n",
       "      <td>2.101266</td>\n",
       "      <td>-0.889643</td>\n",
       "      <td>-0.977984</td>\n",
       "      <td>-1.051256</td>\n",
       "      <td>1.076921</td>\n",
       "      <td>-0.077088</td>\n",
       "      <td>0</td>\n",
       "    </tr>\n",
       "    <tr>\n",
       "      <th>2</th>\n",
       "      <td>-2.055301</td>\n",
       "      <td>0.505205</td>\n",
       "      <td>2.598602</td>\n",
       "      <td>1.231147</td>\n",
       "      <td>0.399164</td>\n",
       "      <td>-0.236204</td>\n",
       "      <td>-1.028547</td>\n",
       "      <td>-1.181248</td>\n",
       "      <td>1.844412</td>\n",
       "      <td>0.637139</td>\n",
       "      <td>0</td>\n",
       "    </tr>\n",
       "    <tr>\n",
       "      <th>3</th>\n",
       "      <td>-3.687569</td>\n",
       "      <td>2.378079</td>\n",
       "      <td>7.798402</td>\n",
       "      <td>4.224250</td>\n",
       "      <td>-2.453051</td>\n",
       "      <td>1.493909</td>\n",
       "      <td>-1.960688</td>\n",
       "      <td>-2.135546</td>\n",
       "      <td>5.440852</td>\n",
       "      <td>2.422818</td>\n",
       "      <td>0</td>\n",
       "    </tr>\n",
       "    <tr>\n",
       "      <th>4</th>\n",
       "      <td>-4.934954</td>\n",
       "      <td>3.237987</td>\n",
       "      <td>10.771603</td>\n",
       "      <td>6.296090</td>\n",
       "      <td>-3.865475</td>\n",
       "      <td>2.072758</td>\n",
       "      <td>-2.735177</td>\n",
       "      <td>-2.709528</td>\n",
       "      <td>7.688848</td>\n",
       "      <td>1.484118</td>\n",
       "      <td>0</td>\n",
       "    </tr>\n",
       "  </tbody>\n",
       "</table>\n",
       "</div>"
      ],
      "text/plain": [
       "          0         1          2         3         4         5         6  \\\n",
       "0 -5.493340  1.979221   5.452313  2.376600 -2.218290 -0.297500 -2.463372   \n",
       "1 -1.176325 -0.024176   1.475685  0.602422  2.101266 -0.889643 -0.977984   \n",
       "2 -2.055301  0.505205   2.598602  1.231147  0.399164 -0.236204 -1.028547   \n",
       "3 -3.687569  2.378079   7.798402  4.224250 -2.453051  1.493909 -1.960688   \n",
       "4 -4.934954  3.237987  10.771603  6.296090 -3.865475  2.072758 -2.735177   \n",
       "\n",
       "          7         8         9  y  \n",
       "0 -2.882947  3.689015 -3.339031  0  \n",
       "1 -1.051256  1.076921 -0.077088  0  \n",
       "2 -1.181248  1.844412  0.637139  0  \n",
       "3 -2.135546  5.440852  2.422818  0  \n",
       "4 -2.709528  7.688848  1.484118  0  "
      ]
     },
     "execution_count": 3,
     "metadata": {},
     "output_type": "execute_result"
    }
   ],
   "source": [
    "train.head()"
   ]
  },
  {
   "cell_type": "code",
   "execution_count": 4,
   "metadata": {},
   "outputs": [
    {
     "data": {
      "text/html": [
       "<div>\n",
       "<style scoped>\n",
       "    .dataframe tbody tr th:only-of-type {\n",
       "        vertical-align: middle;\n",
       "    }\n",
       "\n",
       "    .dataframe tbody tr th {\n",
       "        vertical-align: top;\n",
       "    }\n",
       "\n",
       "    .dataframe thead th {\n",
       "        text-align: right;\n",
       "    }\n",
       "</style>\n",
       "<table border=\"1\" class=\"dataframe\">\n",
       "  <thead>\n",
       "    <tr style=\"text-align: right;\">\n",
       "      <th></th>\n",
       "      <th>0</th>\n",
       "      <th>1</th>\n",
       "      <th>2</th>\n",
       "      <th>3</th>\n",
       "      <th>4</th>\n",
       "      <th>5</th>\n",
       "      <th>6</th>\n",
       "      <th>7</th>\n",
       "      <th>8</th>\n",
       "      <th>9</th>\n",
       "      <th>y</th>\n",
       "    </tr>\n",
       "  </thead>\n",
       "  <tbody>\n",
       "    <tr>\n",
       "      <th>0</th>\n",
       "      <td>-3.234219</td>\n",
       "      <td>0.819130</td>\n",
       "      <td>3.966259</td>\n",
       "      <td>1.982672</td>\n",
       "      <td>-0.525784</td>\n",
       "      <td>0.005285</td>\n",
       "      <td>-1.504736</td>\n",
       "      <td>-1.748507</td>\n",
       "      <td>3.041729</td>\n",
       "      <td>-0.249186</td>\n",
       "      <td>0</td>\n",
       "    </tr>\n",
       "    <tr>\n",
       "      <th>1</th>\n",
       "      <td>-2.604147</td>\n",
       "      <td>-0.117799</td>\n",
       "      <td>2.004786</td>\n",
       "      <td>0.436196</td>\n",
       "      <td>0.860238</td>\n",
       "      <td>-0.698270</td>\n",
       "      <td>-1.525340</td>\n",
       "      <td>-1.841877</td>\n",
       "      <td>1.317717</td>\n",
       "      <td>-1.500715</td>\n",
       "      <td>0</td>\n",
       "    </tr>\n",
       "    <tr>\n",
       "      <th>2</th>\n",
       "      <td>-2.481026</td>\n",
       "      <td>-0.139611</td>\n",
       "      <td>1.426728</td>\n",
       "      <td>0.719935</td>\n",
       "      <td>1.593947</td>\n",
       "      <td>-1.215687</td>\n",
       "      <td>-1.519413</td>\n",
       "      <td>-1.494345</td>\n",
       "      <td>1.242624</td>\n",
       "      <td>-1.638686</td>\n",
       "      <td>0</td>\n",
       "    </tr>\n",
       "    <tr>\n",
       "      <th>3</th>\n",
       "      <td>0.008739</td>\n",
       "      <td>-0.328973</td>\n",
       "      <td>1.021129</td>\n",
       "      <td>-0.204420</td>\n",
       "      <td>0.432912</td>\n",
       "      <td>-0.862795</td>\n",
       "      <td>-1.379593</td>\n",
       "      <td>-1.242129</td>\n",
       "      <td>0.086241</td>\n",
       "      <td>-0.412957</td>\n",
       "      <td>0</td>\n",
       "    </tr>\n",
       "    <tr>\n",
       "      <th>4</th>\n",
       "      <td>-1.590194</td>\n",
       "      <td>0.503745</td>\n",
       "      <td>2.554368</td>\n",
       "      <td>0.851081</td>\n",
       "      <td>-0.795788</td>\n",
       "      <td>-0.262505</td>\n",
       "      <td>-1.524173</td>\n",
       "      <td>-1.656382</td>\n",
       "      <td>1.221394</td>\n",
       "      <td>-0.830454</td>\n",
       "      <td>0</td>\n",
       "    </tr>\n",
       "  </tbody>\n",
       "</table>\n",
       "</div>"
      ],
      "text/plain": [
       "          0         1         2         3         4         5         6  \\\n",
       "0 -3.234219  0.819130  3.966259  1.982672 -0.525784  0.005285 -1.504736   \n",
       "1 -2.604147 -0.117799  2.004786  0.436196  0.860238 -0.698270 -1.525340   \n",
       "2 -2.481026 -0.139611  1.426728  0.719935  1.593947 -1.215687 -1.519413   \n",
       "3  0.008739 -0.328973  1.021129 -0.204420  0.432912 -0.862795 -1.379593   \n",
       "4 -1.590194  0.503745  2.554368  0.851081 -0.795788 -0.262505 -1.524173   \n",
       "\n",
       "          7         8         9  y  \n",
       "0 -1.748507  3.041729 -0.249186  0  \n",
       "1 -1.841877  1.317717 -1.500715  0  \n",
       "2 -1.494345  1.242624 -1.638686  0  \n",
       "3 -1.242129  0.086241 -0.412957  0  \n",
       "4 -1.656382  1.221394 -0.830454  0  "
      ]
     },
     "execution_count": 4,
     "metadata": {},
     "output_type": "execute_result"
    }
   ],
   "source": [
    "test.head()"
   ]
  },
  {
   "cell_type": "markdown",
   "metadata": {},
   "source": [
    "# Logistic Regression"
   ]
  },
  {
   "cell_type": "code",
   "execution_count": 5,
   "metadata": {},
   "outputs": [
    {
     "name": "stdout",
     "output_type": "stream",
     "text": [
      "--- 0.024783849716186523 seconds ---\n"
     ]
    }
   ],
   "source": [
    "from sklearn.linear_model import LogisticRegression\n",
    "\n",
    "start_time = time.time()\n",
    "\n",
    "lg = LogisticRegression(C = np.power(10,4), solver='newton-cg', random_state=1)\n",
    "lg.fit(X_train, y_train)\n",
    "\n",
    "print(\"--- %s seconds ---\" % (time.time() - start_time))"
   ]
  },
  {
   "cell_type": "code",
   "execution_count": 6,
   "metadata": {},
   "outputs": [
    {
     "data": {
      "text/plain": [
       "0.9907120743034056"
      ]
     },
     "execution_count": 6,
     "metadata": {},
     "output_type": "execute_result"
    }
   ],
   "source": [
    "pre = lg.predict(train.drop(['y'],axis = 1))\n",
    "(pre == y_train).mean()"
   ]
  },
  {
   "cell_type": "code",
   "execution_count": 7,
   "metadata": {},
   "outputs": [
    {
     "data": {
      "text/plain": [
       "0.59"
      ]
     },
     "execution_count": 7,
     "metadata": {},
     "output_type": "execute_result"
    }
   ],
   "source": [
    "pre = lg.predict(test.drop(['y'],axis = 1))\n",
    "(pre == y_test).mean()"
   ]
  },
  {
   "cell_type": "code",
   "execution_count": 8,
   "metadata": {},
   "outputs": [
    {
     "name": "stdout",
     "output_type": "stream",
     "text": [
      "Kfold Accuracy: 97.52%\n"
     ]
    }
   ],
   "source": [
    "cv_acc = cross_val_score(estimator = LogisticRegression(C = np.power(10,4), solver='newton-cg', random_state=1),\n",
    "                         X=X_train,\n",
    "                         y=y_train,\n",
    "                         cv=5,\n",
    "                         n_jobs=-1)\n",
    "print('Kfold Accuracy: %.2f%%' % (np.mean(cv_acc)*100))"
   ]
  },
  {
   "cell_type": "code",
   "execution_count": 9,
   "metadata": {},
   "outputs": [],
   "source": [
    "pre_prob = lg.predict_proba(X_test)\n",
    "pre_prob = pre_prob[:,1]"
   ]
  },
  {
   "cell_type": "code",
   "execution_count": 10,
   "metadata": {},
   "outputs": [
    {
     "data": {
      "text/plain": [
       "<sklearn.metrics._plot.roc_curve.RocCurveDisplay at 0x7f8bf510dc40>"
      ]
     },
     "execution_count": 10,
     "metadata": {},
     "output_type": "execute_result"
    },
    {
     "data": {
      "image/png": "[encoded data removed]",
      "text/plain": [
       "<Figure size 432x288 with 1 Axes>"
      ]
     },
     "metadata": {
      "needs_background": "light"
     },
     "output_type": "display_data"
    }
   ],
   "source": [
    "import sklearn.metrics as metrics\n",
    "metrics.plot_roc_curve(lg, X_test, y_test)"
   ]
  },
  {
   "cell_type": "code",
   "execution_count": 11,
   "metadata": {},
   "outputs": [
    {
     "data": {
      "text/plain": [
       "0.6148"
      ]
     },
     "execution_count": 11,
     "metadata": {},
     "output_type": "execute_result"
    }
   ],
   "source": [
    "metrics.roc_auc_score(y_test, pre_prob)"
   ]
  },
  {
   "cell_type": "markdown",
   "metadata": {},
   "source": [
    "# Decision Tree"
   ]
  },
  {
   "cell_type": "markdown",
   "metadata": {},
   "source": [
    "### toy run"
   ]
  },
  {
   "cell_type": "code",
   "execution_count": 12,
   "metadata": {},
   "outputs": [
    {
     "data": {
      "text/plain": [
       "DecisionTreeClassifier(criterion='entropy', max_depth=4, random_state=0)"
      ]
     },
     "execution_count": 12,
     "metadata": {},
     "output_type": "execute_result"
    }
   ],
   "source": [
    "from sklearn.tree import DecisionTreeClassifier\n",
    "tree = DecisionTreeClassifier(criterion = 'entropy', max_depth=4, random_state=0)\n",
    "tree.fit(X_train, y_train)"
   ]
  },
  {
   "cell_type": "code",
   "execution_count": 13,
   "metadata": {},
   "outputs": [
    {
     "data": {
      "text/plain": [
       "0.58"
      ]
     },
     "execution_count": 13,
     "metadata": {},
     "output_type": "execute_result"
    }
   ],
   "source": [
    "pre = tree.predict(test.drop(['y'],axis = 1))\n",
    "(pre == y_test).mean()"
   ]
  },
  {
   "cell_type": "markdown",
   "metadata": {},
   "source": [
    "### cross validation"
   ]
  },
  {
   "cell_type": "code",
   "execution_count": 14,
   "metadata": {},
   "outputs": [],
   "source": [
    "cv_acc = cross_val_score(estimator = DecisionTreeClassifier(random_state = 0),\n",
    "                         X=X_train,\n",
    "                         y=y_train,\n",
    "                         cv=5,\n",
    "                         n_jobs=-1)"
   ]
  },
  {
   "cell_type": "code",
   "execution_count": 15,
   "metadata": {},
   "outputs": [
    {
     "name": "stdout",
     "output_type": "stream",
     "text": [
      "Kfold Accuracy: 97.37%\n"
     ]
    }
   ],
   "source": [
    "print('Kfold Accuracy: %.2f%%' % (np.mean(cv_acc)*100))"
   ]
  },
  {
   "cell_type": "markdown",
   "metadata": {},
   "source": [
    "### GridSearch"
   ]
  },
  {
   "cell_type": "code",
   "execution_count": 16,
   "metadata": {},
   "outputs": [
    {
     "name": "stdout",
     "output_type": "stream",
     "text": [
      "Best Accuracy: 98.14%\n",
      "Best Params: {'criterion': 'gini', 'max_depth': 2}\n"
     ]
    }
   ],
   "source": [
    "from sklearn.model_selection import GridSearchCV\n",
    "\n",
    "param_grid = [{\n",
    "               'max_depth': [1, 2, 3, 4, 5, 6, None],\n",
    "               'criterion': ['gini', 'entropy']\n",
    "              }]\n",
    "\n",
    "gs = GridSearchCV(estimator = DecisionTreeClassifier(random_state=0),\n",
    "                  param_grid=param_grid,\n",
    "                  #iid=False,\n",
    "                  refit=True,\n",
    "                  n_jobs=-1,\n",
    "                  cv=10)\n",
    "\n",
    "gs.fit(X_train, y_train)\n",
    "\n",
    "print('Best Accuracy: %.2f%%' % (gs.best_score_*100))\n",
    "print('Best Params:', gs.best_params_)"
   ]
  },
  {
   "cell_type": "code",
   "execution_count": 17,
   "metadata": {},
   "outputs": [
    {
     "name": "stdout",
     "output_type": "stream",
     "text": [
      "Best Accuracy: 98.14%\n",
      "Best Params: {'criterion': 'gini', 'max_depth': 2}\n",
      "Accuracy: 60.00%\n"
     ]
    }
   ],
   "source": [
    "print('Best Accuracy: %.2f%%' % (gs.best_score_*100))\n",
    "print('Best Params:', gs.best_params_)\n",
    "print('Accuracy: %.2f%%' % (gs.best_estimator_.score(X_test, y_test)*100))"
   ]
  },
  {
   "cell_type": "code",
   "execution_count": null,
   "metadata": {},
   "outputs": [],
   "source": []
  },
  {
   "cell_type": "code",
   "execution_count": 18,
   "metadata": {},
   "outputs": [
    {
     "name": "stdout",
     "output_type": "stream",
     "text": [
      "Test Accuracy: 60.00%\n"
     ]
    }
   ],
   "source": [
    "tree = DecisionTreeClassifier(criterion = 'gini', max_depth=2, random_state=0)\n",
    "tree.fit(X_train, y_train)\n",
    "pre = tree.predict(test.drop(['y'],axis = 1))\n",
    "print('Test Accuracy: %.2f%%' % ((pre == y_test).mean()*100))"
   ]
  },
  {
   "cell_type": "markdown",
   "metadata": {},
   "source": [
    "# Random Forest"
   ]
  },
  {
   "cell_type": "markdown",
   "metadata": {},
   "source": [
    "### toy run"
   ]
  },
  {
   "cell_type": "code",
   "execution_count": 19,
   "metadata": {},
   "outputs": [
    {
     "data": {
      "text/plain": [
       "RandomForestClassifier(max_depth=4, random_state=0)"
      ]
     },
     "execution_count": 19,
     "metadata": {},
     "output_type": "execute_result"
    }
   ],
   "source": [
    "from sklearn.ensemble import RandomForestClassifier\n",
    "clf = RandomForestClassifier(max_depth=4, random_state=0)\n",
    "clf.fit(X_train, y_train)"
   ]
  },
  {
   "cell_type": "code",
   "execution_count": 20,
   "metadata": {},
   "outputs": [
    {
     "data": {
      "text/plain": [
       "0.57"
      ]
     },
     "execution_count": 20,
     "metadata": {},
     "output_type": "execute_result"
    }
   ],
   "source": [
    "pre = clf.predict(test.drop(['y'],axis = 1))\n",
    "(pre == y_test).mean()"
   ]
  },
  {
   "cell_type": "markdown",
   "metadata": {},
   "source": [
    "### cross validation"
   ]
  },
  {
   "cell_type": "code",
   "execution_count": 21,
   "metadata": {},
   "outputs": [],
   "source": [
    "from sklearn.model_selection import cross_val_score\n",
    "\n",
    "cv_acc = cross_val_score(estimator = RandomForestClassifier(random_state = 0),\n",
    "                         X=X_train,\n",
    "                         y=y_train,\n",
    "                         cv=5,\n",
    "                         n_jobs=-1)"
   ]
  },
  {
   "cell_type": "code",
   "execution_count": 22,
   "metadata": {},
   "outputs": [
    {
     "name": "stdout",
     "output_type": "stream",
     "text": [
      "Kfold Accuracy: 97.83%\n"
     ]
    }
   ],
   "source": [
    "print('Kfold Accuracy: %.2f%%' % (np.mean(cv_acc)*100))"
   ]
  },
  {
   "cell_type": "markdown",
   "metadata": {},
   "source": [
    "### Random Search and GridSearch"
   ]
  },
  {
   "cell_type": "code",
   "execution_count": 23,
   "metadata": {},
   "outputs": [
    {
     "data": {
      "text/plain": [
       "RandomizedSearchCV(cv=10, estimator=RandomForestClassifier(random_state=0),\n",
       "                   n_iter=20, n_jobs=-1,\n",
       "                   param_distributions={'criterion': ['gini', 'entropy'],\n",
       "                                        'n_estimators': [30, 31, 32, 33, 34, 35,\n",
       "                                                         36, 37, 38, 39, 40, 41,\n",
       "                                                         42, 43, 44, 45, 46, 47,\n",
       "                                                         48, 49, 50, 51, 52, 53,\n",
       "                                                         54, 55, 56, 57, 58, 59, ...]})"
      ]
     },
     "execution_count": 23,
     "metadata": {},
     "output_type": "execute_result"
    }
   ],
   "source": [
    "from sklearn.model_selection import RandomizedSearchCV\n",
    "\n",
    "RF = RandomForestClassifier(random_state = 0)\n",
    "\n",
    "para_random = {'n_estimators':list(np.arange(30,70)),\n",
    "                'criterion': ['gini', 'entropy']\n",
    "               }\n",
    "\n",
    "rs = RandomizedSearchCV(estimator = RF,\n",
    "                        param_distributions=para_random,\n",
    "                        n_iter=20,\n",
    "                        #iid=False,\n",
    "                        n_jobs=-1,\n",
    "                        refit=True,\n",
    "                        cv=10)\n",
    "\n",
    "rs.fit(X_train, y_train)"
   ]
  },
  {
   "cell_type": "code",
   "execution_count": 24,
   "metadata": {},
   "outputs": [
    {
     "name": "stdout",
     "output_type": "stream",
     "text": [
      "Best Accuracy: 98.30%\n",
      "Best Params: {'n_estimators': 69, 'criterion': 'gini'}\n",
      "Accuracy: 57.00%\n"
     ]
    }
   ],
   "source": [
    "print('Best Accuracy: %.2f%%' % (rs.best_score_*100))\n",
    "print('Best Params:', rs.best_params_)\n",
    "print('Accuracy: %.2f%%' % (rs.best_estimator_.score(X_test, y_test)*100))"
   ]
  },
  {
   "cell_type": "code",
   "execution_count": null,
   "metadata": {},
   "outputs": [],
   "source": []
  },
  {
   "cell_type": "code",
   "execution_count": 25,
   "metadata": {},
   "outputs": [
    {
     "name": "stdout",
     "output_type": "stream",
     "text": [
      "Best Accuracy: 98.45%\n",
      "Best Params: {'criterion': 'gini', 'max_depth': 1, 'n_estimators': 39}\n"
     ]
    }
   ],
   "source": [
    "from sklearn.model_selection import GridSearchCV\n",
    "\n",
    "param_grid = [{'n_estimators':list(np.arange(30,70)),\n",
    "               'max_depth': [1, 2, 3, 4, 5, 6, None],\n",
    "               'criterion': ['gini', 'entropy']\n",
    "              }]\n",
    "\n",
    "gs = GridSearchCV(estimator=RandomForestClassifier(random_state=0),\n",
    "                  param_grid=param_grid,\n",
    "                  #iid=False,\n",
    "                  refit=True,\n",
    "                  n_jobs=-1,\n",
    "                  cv=10)\n",
    "\n",
    "gs.fit(X_train, y_train)\n",
    "\n",
    "print('Best Accuracy: %.2f%%' % (gs.best_score_*100))\n",
    "print('Best Params:', gs.best_params_)"
   ]
  },
  {
   "cell_type": "code",
   "execution_count": 26,
   "metadata": {},
   "outputs": [
    {
     "name": "stdout",
     "output_type": "stream",
     "text": [
      "Best Accuracy: 98.30%\n",
      "Best Params: {'n_estimators': 69, 'criterion': 'gini'}\n",
      "Accuracy: 57.00%\n"
     ]
    }
   ],
   "source": [
    "print('Best Accuracy: %.2f%%' % (rs.best_score_*100))\n",
    "print('Best Params:', rs.best_params_)\n",
    "print('Accuracy: %.2f%%' % (rs.best_estimator_.score(X_test, y_test)*100))"
   ]
  },
  {
   "cell_type": "code",
   "execution_count": 27,
   "metadata": {},
   "outputs": [
    {
     "name": "stdout",
     "output_type": "stream",
     "text": [
      "Test Accuracy: 53.00%\n"
     ]
    }
   ],
   "source": [
    "clf = RandomForestClassifier(max_depth=1, random_state=0, n_estimators =  39, criterion = 'gini')\n",
    "clf.fit(X_train, y_train)\n",
    "pre = clf.predict(test.drop(['y'],axis = 1))\n",
    "print('Test Accuracy: %.2f%%' % ((pre == y_test).mean()*100))"
   ]
  },
  {
   "cell_type": "code",
   "execution_count": null,
   "metadata": {},
   "outputs": [],
   "source": []
  },
  {
   "cell_type": "markdown",
   "metadata": {},
   "source": [
    "# K Nearest Neighbor"
   ]
  },
  {
   "cell_type": "code",
   "execution_count": 28,
   "metadata": {},
   "outputs": [],
   "source": [
    "class KNN:\n",
    "    def __init__(self, k, dis = None):\n",
    "        self.k = k\n",
    "        if dis == None:\n",
    "            self.dis = self._euclidean\n",
    "        \n",
    "    def _euclidean(self, x, y):\n",
    "        return np.sqrt(np.sum((x - y)**2))\n",
    "    \n",
    "    def fit(self, X, y):\n",
    "        self.feature = X\n",
    "        self.label = y\n",
    "        self.uniq = np.unique(y)\n",
    "        \n",
    "    def nearest(self, new_single):   ## find nearest indices\n",
    "        train_dis = self.feature.apply(lambda x: self.dis(new_single, x), axis = 1)\n",
    "        return train_dis.sort_values().index     #  return the index of nearest value, np.argsort() cannot handle when self.feature is shuffled\n",
    "        \n",
    "    def predict(self, new):\n",
    "        if new.ndim == 1:\n",
    "            #print(self.nearest(new))\n",
    "            k_ind = self.nearest(new)[:self.k]\n",
    "            k_label = self.label[k_ind]\n",
    "            count = np.bincount(k_label, minlength = self.uniq.shape[0])\n",
    "            #print(count)\n",
    "            pre = np.argmax(count)\n",
    "            return pre\n",
    "        \n",
    "        pre = np.ones(new.shape[0])\n",
    "        for i in range(new.shape[0]):\n",
    "            #print(new)\n",
    "            k_ind = self.nearest(new.iloc[i])[:self.k]\n",
    "            k_label = self.label[k_ind]\n",
    "            #print(k_ind)\n",
    "            count = np.bincount(k_label, minlength = self.uniq.shape[0])\n",
    "            \n",
    "            pre[i] = np.argmax(count)\n",
    "            \n",
    "        return pre  "
   ]
  },
  {
   "cell_type": "code",
   "execution_count": 29,
   "metadata": {},
   "outputs": [],
   "source": [
    "K = KNN(int(round(np.sqrt(X_train.shape[0]))))\n",
    "K.fit(X_train, y_train)"
   ]
  },
  {
   "cell_type": "code",
   "execution_count": 30,
   "metadata": {},
   "outputs": [],
   "source": [
    "pre = K.predict(X_test)"
   ]
  },
  {
   "cell_type": "code",
   "execution_count": 31,
   "metadata": {},
   "outputs": [
    {
     "data": {
      "text/plain": [
       "0.57"
      ]
     },
     "execution_count": 31,
     "metadata": {},
     "output_type": "execute_result"
    }
   ],
   "source": [
    "(pre == y_test).mean()"
   ]
  },
  {
   "cell_type": "code",
   "execution_count": 32,
   "metadata": {},
   "outputs": [
    {
     "data": {
      "text/plain": [
       "KNeighborsClassifier(n_neighbors=25)"
      ]
     },
     "execution_count": 32,
     "metadata": {},
     "output_type": "execute_result"
    }
   ],
   "source": [
    "from sklearn.neighbors import KNeighborsClassifier\n",
    "neigh = KNeighborsClassifier(n_neighbors = int(round(np.sqrt(X_train.shape[0]))))\n",
    "neigh.fit(X_train, y_train)"
   ]
  },
  {
   "cell_type": "code",
   "execution_count": 34,
   "metadata": {},
   "outputs": [
    {
     "data": {
      "text/plain": [
       "0.9860681114551083"
      ]
     },
     "execution_count": 34,
     "metadata": {},
     "output_type": "execute_result"
    }
   ],
   "source": [
    "(neigh.predict(X_train) == y_train).mean()"
   ]
  },
  {
   "cell_type": "code",
   "execution_count": 33,
   "metadata": {},
   "outputs": [
    {
     "data": {
      "text/plain": [
       "0.57"
      ]
     },
     "execution_count": 33,
     "metadata": {},
     "output_type": "execute_result"
    }
   ],
   "source": [
    "(neigh.predict(X_test) == y_test).mean()"
   ]
  },
  {
   "cell_type": "code",
   "execution_count": 36,
   "metadata": {},
   "outputs": [
    {
     "data": {
      "text/plain": [
       "<sklearn.metrics._plot.roc_curve.RocCurveDisplay at 0x7f8bf103d0d0>"
      ]
     },
     "execution_count": 36,
     "metadata": {},
     "output_type": "execute_result"
    },
    {
     "data": {
      "image/png": "[encoded data removed]",
      "text/plain": [
       "<Figure size 432x288 with 1 Axes>"
      ]
     },
     "metadata": {
      "needs_background": "light"
     },
     "output_type": "display_data"
    }
   ],
   "source": [
    "metrics.plot_roc_curve(neigh, X_test, y_test)"
   ]
  },
  {
   "cell_type": "code",
   "execution_count": 37,
   "metadata": {},
   "outputs": [],
   "source": [
    "pre_prob = neigh.predict_proba(X_test)\n",
    "pre_prob = pre_prob[:,1]"
   ]
  },
  {
   "cell_type": "code",
   "execution_count": 38,
   "metadata": {},
   "outputs": [
    {
     "data": {
      "text/plain": [
       "0.5686"
      ]
     },
     "execution_count": 38,
     "metadata": {},
     "output_type": "execute_result"
    }
   ],
   "source": [
    "metrics.roc_auc_score(y_test, pre_prob)"
   ]
  },
  {
   "cell_type": "markdown",
   "metadata": {},
   "source": [
    "### cross validation"
   ]
  },
  {
   "cell_type": "code",
   "execution_count": 39,
   "metadata": {},
   "outputs": [
    {
     "name": "stdout",
     "output_type": "stream",
     "text": [
      "Kfold Accuracy: 98.45%\n"
     ]
    }
   ],
   "source": [
    "from sklearn.model_selection import cross_val_score\n",
    "\n",
    "cv_acc = cross_val_score(estimator = KNeighborsClassifier(n_neighbors = int(round(np.sqrt(X_train.shape[0])))),\n",
    "                         X=X_train,\n",
    "                         y=y_train,\n",
    "                         cv=5,\n",
    "                         n_jobs=-1)\n",
    "\n",
    "print('Kfold Accuracy: %.2f%%' % (np.mean(cv_acc)*100))"
   ]
  },
  {
   "cell_type": "markdown",
   "metadata": {},
   "source": [
    "### GridSearch"
   ]
  },
  {
   "cell_type": "code",
   "execution_count": 40,
   "metadata": {},
   "outputs": [
    {
     "name": "stdout",
     "output_type": "stream",
     "text": [
      "Best Accuracy: 98.76%\n",
      "Best Params: {'n_neighbors': 5, 'p': 1}\n"
     ]
    }
   ],
   "source": [
    "from sklearn.model_selection import GridSearchCV\n",
    "\n",
    "param_grid = [{'n_neighbors': list(range(3,50)),\n",
    "               'p': [1,2]\n",
    "              }]\n",
    "\n",
    "gs = GridSearchCV(estimator=KNeighborsClassifier(),\n",
    "                  param_grid=param_grid,\n",
    "                  #iid=False,\n",
    "                  refit=True,\n",
    "                  n_jobs=-1,\n",
    "                  cv=10)\n",
    "\n",
    "gs.fit(X_train, y_train)\n",
    "\n",
    "print('Best Accuracy: %.2f%%' % (gs.best_score_*100))\n",
    "print('Best Params:', gs.best_params_)"
   ]
  },
  {
   "cell_type": "code",
   "execution_count": 41,
   "metadata": {},
   "outputs": [],
   "source": [
    "neigh = KNeighborsClassifier(n_neighbors = 5, p=1)"
   ]
  },
  {
   "cell_type": "code",
   "execution_count": 42,
   "metadata": {},
   "outputs": [
    {
     "data": {
      "text/plain": [
       "KNeighborsClassifier(p=1)"
      ]
     },
     "execution_count": 42,
     "metadata": {},
     "output_type": "execute_result"
    }
   ],
   "source": [
    "neigh.fit(X_train, y_train)"
   ]
  },
  {
   "cell_type": "code",
   "execution_count": 43,
   "metadata": {},
   "outputs": [],
   "source": [
    "pre = neigh.predict(X_test)"
   ]
  },
  {
   "cell_type": "code",
   "execution_count": 44,
   "metadata": {},
   "outputs": [
    {
     "data": {
      "text/plain": [
       "0.58"
      ]
     },
     "execution_count": 44,
     "metadata": {},
     "output_type": "execute_result"
    }
   ],
   "source": [
    "(pre == y_test).mean()"
   ]
  },
  {
   "cell_type": "code",
   "execution_count": null,
   "metadata": {},
   "outputs": [],
   "source": []
  },
  {
   "cell_type": "markdown",
   "metadata": {},
   "source": [
    "# Naive bayes"
   ]
  },
  {
   "cell_type": "code",
   "execution_count": 45,
   "metadata": {},
   "outputs": [
    {
     "data": {
      "text/plain": [
       "0.57"
      ]
     },
     "execution_count": 45,
     "metadata": {},
     "output_type": "execute_result"
    }
   ],
   "source": [
    "from sklearn.naive_bayes import GaussianNB\n",
    "gnb = GaussianNB()\n",
    "pre = gnb.fit(X_train, y_train).predict(X_test)\n",
    "(pre == y_test).mean()"
   ]
  },
  {
   "cell_type": "code",
   "execution_count": 51,
   "metadata": {},
   "outputs": [
    {
     "data": {
      "text/plain": [
       "0.9860681114551083"
      ]
     },
     "execution_count": 51,
     "metadata": {},
     "output_type": "execute_result"
    }
   ],
   "source": [
    "pre = gnb.fit(X_train, y_train).predict(X_train)\n",
    "(pre == y_train).mean()"
   ]
  },
  {
   "cell_type": "code",
   "execution_count": 46,
   "metadata": {},
   "outputs": [],
   "source": [
    "pre_prob = lg.predict_proba(X_test)\n",
    "pre_prob = pre_prob[:,1]"
   ]
  },
  {
   "cell_type": "code",
   "execution_count": 47,
   "metadata": {},
   "outputs": [
    {
     "data": {
      "text/plain": [
       "<sklearn.metrics._plot.roc_curve.RocCurveDisplay at 0x7f8bf6757fd0>"
      ]
     },
     "execution_count": 47,
     "metadata": {},
     "output_type": "execute_result"
    },
    {
     "data": {
      "image/png": "[encoded data removed]",
      "text/plain": [
       "<Figure size 432x288 with 1 Axes>"
      ]
     },
     "metadata": {
      "needs_background": "light"
     },
     "output_type": "display_data"
    }
   ],
   "source": [
    "import sklearn.metrics as metrics\n",
    "metrics.plot_roc_curve(lg, X_test, y_test)"
   ]
  },
  {
   "cell_type": "code",
   "execution_count": 48,
   "metadata": {},
   "outputs": [
    {
     "data": {
      "text/plain": [
       "0.6148"
      ]
     },
     "execution_count": 48,
     "metadata": {},
     "output_type": "execute_result"
    }
   ],
   "source": [
    "metrics.roc_auc_score(y_test, pre_prob)"
   ]
  },
  {
   "cell_type": "markdown",
   "metadata": {},
   "source": [
    "### cross validation"
   ]
  },
  {
   "cell_type": "code",
   "execution_count": 52,
   "metadata": {},
   "outputs": [],
   "source": [
    "cv_acc = cross_val_score(estimator = GaussianNB(),\n",
    "                         X=X_train,\n",
    "                         y=y_train,\n",
    "                         cv=5,\n",
    "                         n_jobs=-1)"
   ]
  },
  {
   "cell_type": "code",
   "execution_count": 53,
   "metadata": {},
   "outputs": [
    {
     "name": "stdout",
     "output_type": "stream",
     "text": [
      "Kfold Accuracy: 98.45%\n"
     ]
    }
   ],
   "source": [
    "print('Kfold Accuracy: %.2f%%' % (np.mean(cv_acc)*100))"
   ]
  },
  {
   "cell_type": "code",
   "execution_count": null,
   "metadata": {},
   "outputs": [],
   "source": []
  },
  {
   "cell_type": "code",
   "execution_count": null,
   "metadata": {},
   "outputs": [],
   "source": []
  },
  {
   "cell_type": "markdown",
   "metadata": {},
   "source": [
    "# Support Vector Machine"
   ]
  },
  {
   "cell_type": "code",
   "execution_count": 54,
   "metadata": {},
   "outputs": [
    {
     "data": {
      "text/plain": [
       "SVC(C=1, kernel='linear')"
      ]
     },
     "execution_count": 54,
     "metadata": {},
     "output_type": "execute_result"
    }
   ],
   "source": [
    "from sklearn.svm import SVC\n",
    "svm = SVC(C = 1, kernel = 'linear')\n",
    "svm.fit(X_train,y_train)"
   ]
  },
  {
   "cell_type": "code",
   "execution_count": 55,
   "metadata": {},
   "outputs": [
    {
     "data": {
      "text/plain": [
       "0.62"
      ]
     },
     "execution_count": 55,
     "metadata": {},
     "output_type": "execute_result"
    }
   ],
   "source": [
    "pre = svm.predict(X_test)\n",
    "(pre == y_test).mean()"
   ]
  },
  {
   "cell_type": "markdown",
   "metadata": {},
   "source": [
    "### cross validation"
   ]
  },
  {
   "cell_type": "code",
   "execution_count": 56,
   "metadata": {},
   "outputs": [
    {
     "name": "stdout",
     "output_type": "stream",
     "text": [
      "Kfold Accuracy: 98.45%\n"
     ]
    }
   ],
   "source": [
    "cv_acc = cross_val_score(estimator = SVC(C = 1, kernel = 'linear'),\n",
    "                         X=X_train,\n",
    "                         y=y_train,\n",
    "                         cv=5,\n",
    "                         n_jobs=-1)\n",
    "\n",
    "print('Kfold Accuracy: %.2f%%' % (np.mean(cv_acc)*100))"
   ]
  },
  {
   "cell_type": "code",
   "execution_count": null,
   "metadata": {},
   "outputs": [],
   "source": []
  },
  {
   "cell_type": "markdown",
   "metadata": {},
   "source": [
    "### GridSearch"
   ]
  },
  {
   "cell_type": "code",
   "execution_count": 57,
   "metadata": {},
   "outputs": [
    {
     "name": "stdout",
     "output_type": "stream",
     "text": [
      "Best Accuracy: 98.76%\n",
      "Best Params: {'C': 10.0, 'gamma': 0.01, 'kernel': 'rbf'}\n"
     ]
    }
   ],
   "source": [
    "from sklearn.model_selection import GridSearchCV\n",
    "\n",
    "clf4 = SVC()\n",
    "\n",
    "param_grid = [{'kernel': ['rbf'],\n",
    "                'C': np.power(10., np.arange(-4, 4)),\n",
    "                'gamma': np.power(10., np.arange(-5, 0))},\n",
    "               {'kernel': ['linear'],\n",
    "                'C': np.power(10., np.arange(-4, 4))}]\n",
    "\n",
    "gs = GridSearchCV(estimator = clf4,\n",
    "                  param_grid=param_grid,\n",
    "                  #iid=False,\n",
    "                  refit=True,\n",
    "                  n_jobs=-1,\n",
    "                  cv=10)\n",
    "\n",
    "gs.fit(X_train, y_train)\n",
    "\n",
    "print('Best Accuracy: %.2f%%' % (gs.best_score_*100))\n",
    "print('Best Params:', gs.best_params_)"
   ]
  },
  {
   "cell_type": "code",
   "execution_count": 58,
   "metadata": {},
   "outputs": [
    {
     "data": {
      "text/plain": [
       "SVC(C=10.0, gamma=0.01)"
      ]
     },
     "execution_count": 58,
     "metadata": {},
     "output_type": "execute_result"
    }
   ],
   "source": [
    "from sklearn.svm import SVC\n",
    "svm = SVC(C =  10.0, gamma =  0.01, kernel = 'rbf')\n",
    "svm.fit(X_train,y_train)"
   ]
  },
  {
   "cell_type": "code",
   "execution_count": 59,
   "metadata": {},
   "outputs": [
    {
     "data": {
      "text/plain": [
       "0.63"
      ]
     },
     "execution_count": 59,
     "metadata": {},
     "output_type": "execute_result"
    }
   ],
   "source": [
    "pre = svm.predict(X_test)\n",
    "(pre == y_test).mean()"
   ]
  },
  {
   "cell_type": "code",
   "execution_count": 60,
   "metadata": {},
   "outputs": [
    {
     "data": {
      "image/png": "[encoded data removed]",
      "text/plain": [
       "<Figure size 720x576 with 4 Axes>"
      ]
     },
     "metadata": {
      "needs_background": "light"
     },
     "output_type": "display_data"
    }
   ],
   "source": [
    "from mlxtend.plotting import plot_decision_regions\n",
    "import matplotlib.gridspec as gridspec\n",
    "import itertools\n",
    "import matplotlib.pyplot as plt\n",
    "\n",
    "gspec = gridspec.GridSpec(2, 2)\n",
    "fig = plt.figure(figsize=(10,8))\n",
    "\n",
    "for c, grd in zip([0.01, 0.1, 1.0, 10.], itertools.product([0, 1], repeat=2)):\n",
    "\n",
    "    clf = SVC(C=10.0, \n",
    "              kernel='rbf', \n",
    "              degree=1, \n",
    "              gamma=c, \n",
    "              coef0=0.0, \n",
    "              shrinking=True, \n",
    "              probability=False, \n",
    "              tol=0.001, \n",
    "              cache_size=200, \n",
    "              class_weight=None, \n",
    "              verbose=False, \n",
    "              max_iter=-1, \n",
    "              decision_function_shape='ovr', \n",
    "              random_state=0)\n",
    "\n",
    "    clf.fit(X_train.iloc[:,1:3], y_train)\n",
    "    ax = plt.subplot(gspec[grd[0], grd[1]])\n",
    "    fig = plot_decision_regions(X=np.array(X_train.iloc[:,1:3]), y=np.array(y_train), clf=clf)\n",
    "    plt.title('gamma=%f' % c)\n",
    "\n",
    "\n",
    "plt.xlabel('X1') \n",
    "plt.ylabel('X2')\n",
    "\n",
    "plt.show()"
   ]
  },
  {
   "cell_type": "code",
   "execution_count": 64,
   "metadata": {},
   "outputs": [
    {
     "data": {
      "image/png": "[encoded data removed]",
      "text/plain": [
       "<Figure size 720x576 with 4 Axes>"
      ]
     },
     "metadata": {
      "needs_background": "light"
     },
     "output_type": "display_data"
    }
   ],
   "source": [
    "from mlxtend.plotting import plot_decision_regions\n",
    "import matplotlib.gridspec as gridspec\n",
    "import itertools\n",
    "import matplotlib.pyplot as plt\n",
    "\n",
    "gspec = gridspec.GridSpec(2, 2)\n",
    "fig = plt.figure(figsize=(10,8))\n",
    "\n",
    "for c, grd in zip([0.01, 0.1, 1.0, 10.], itertools.product([0, 1], repeat=2)):\n",
    "\n",
    "    clf = SVC(C=10.0, \n",
    "              kernel='rbf', \n",
    "              degree=1, \n",
    "              gamma=c, \n",
    "              coef0=0.0, \n",
    "              shrinking=True, \n",
    "              probability=False, \n",
    "              tol=0.001, \n",
    "              cache_size=200, \n",
    "              class_weight=None, \n",
    "              verbose=False, \n",
    "              max_iter=-1, \n",
    "              decision_function_shape='ovr', \n",
    "              random_state=0)\n",
    "\n",
    "    clf.fit(X_train.iloc[:,0:2], y_train)\n",
    "    ax = plt.subplot(gspec[grd[0], grd[1]])\n",
    "    fig = plot_decision_regions(X=np.array(X_train.iloc[:,0:2]), y=np.array(y_train), clf=clf)\n",
    "    plt.title('gamma=%f' % c)\n",
    "\n",
    "\n",
    "plt.xlabel('X1') \n",
    "plt.ylabel('X2')\n",
    "\n",
    "#plt.show()\n",
    "\n",
    "plt.savefig('plot_svm.jpg',dpi = 400)"
   ]
  },
  {
   "cell_type": "code",
   "execution_count": 63,
   "metadata": {},
   "outputs": [
    {
     "data": {
      "text/plain": [
       "'/Users/zyxu/Documents/py/cs760/project'"
      ]
     },
     "execution_count": 63,
     "metadata": {},
     "output_type": "execute_result"
    }
   ],
   "source": [
    "pwd"
   ]
  },
  {
   "cell_type": "code",
   "execution_count": null,
   "metadata": {},
   "outputs": [],
   "source": []
  }
 ],
 "metadata": {
  "kernelspec": {
   "display_name": "Python 3",
   "language": "python",
   "name": "python3"
  },
  "language_info": {
   "codemirror_mode": {
    "name": "ipython",
    "version": 3
   },
   "file_extension": ".py",
   "mimetype": "text/x-python",
   "name": "python",
   "nbconvert_exporter": "python",
   "pygments_lexer": "ipython3",
   "version": "3.8.3"
  }
 },
 "nbformat": 4,
 "nbformat_minor": 4
}
