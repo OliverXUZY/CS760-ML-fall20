{
 "cells": [
  {
   "cell_type": "code",
   "execution_count": null,
   "metadata": {
    "colab": {
     "base_uri": "https://localhost:8080/"
    },
    "id": "6mJsOdfm-vOV",
    "outputId": "a3dfba78-a931-4ca6-d74d-a3a83c6afc4a"
   },
   "outputs": [
    {
     "name": "stdout",
     "output_type": "stream",
     "text": [
      "Mounted at /content/drive\n"
     ]
    }
   ],
   "source": [
    "from google.colab import drive\n",
    "drive.mount('/content/drive')"
   ]
  },
  {
   "cell_type": "code",
   "execution_count": null,
   "metadata": {
    "id": "vecicktZJmr_"
   },
   "outputs": [],
   "source": [
    "import torch\n",
    "import torch.nn as nn\n",
    "import torch.optim as optim\n",
    "from torch.optim import lr_scheduler\n",
    "import numpy as np\n",
    "import torchvision\n",
    "from torchvision import datasets, models, transforms\n",
    "import matplotlib.pyplot as plt\n",
    "import time\n",
    "import os\n",
    "import copy\n",
    "from PIL import Image\n",
    "from torch.utils.data import Dataset, DataLoader\n",
    "import torch.nn.functional as F\n",
    "\n",
    "%matplotlib inline\n",
    "plt.ion()   # interactive mode\n",
    "\n",
    "if torch.cuda.is_available():\n",
    "    torch.backends.cudnn.deterministic = True"
   ]
  },
  {
   "cell_type": "code",
   "execution_count": null,
   "metadata": {
    "colab": {
     "base_uri": "https://localhost:8080/"
    },
    "id": "l-JGBYEbJulG",
    "outputId": "f37faa66-5086-4af1-fb97-946542f5ba35"
   },
   "outputs": [
    {
     "data": {
      "text/plain": [
       "['.config', 'drive', 'sample_data']"
      ]
     },
     "execution_count": 3,
     "metadata": {
      "tags": []
     },
     "output_type": "execute_result"
    }
   ],
   "source": [
    "os.listdir()"
   ]
  },
  {
   "cell_type": "code",
   "execution_count": null,
   "metadata": {
    "colab": {
     "base_uri": "https://localhost:8080/",
     "height": 37
    },
    "id": "FjIDJcIsJvDb",
    "outputId": "009b0c8d-6b66-4da6-c63b-135d6eeb6873"
   },
   "outputs": [
    {
     "data": {
      "application/vnd.google.colaboratory.intrinsic+json": {
       "type": "string"
      },
      "text/plain": [
       "'/content'"
      ]
     },
     "execution_count": 10,
     "metadata": {
      "tags": []
     },
     "output_type": "execute_result"
    }
   ],
   "source": [
    "pwd"
   ]
  },
  {
   "cell_type": "code",
   "execution_count": null,
   "metadata": {
    "id": "oOtJdYgmJvJ3"
   },
   "outputs": [],
   "source": [
    "data_dir = os.path.join('drive','My Drive','Colab Notebooks','CS760','image') "
   ]
  },
  {
   "cell_type": "code",
   "execution_count": null,
   "metadata": {
    "id": "t-Nitv1Q-vOV"
   },
   "outputs": [],
   "source": [
    "data_transforms = transforms.Compose([transforms.Resize([256,256]),\n",
    "                                      transforms.Grayscale(),\n",
    "                                      #transforms.CenterCrop(100),\n",
    "                                      transforms.ToTensor(),\n",
    "                                     ])\n",
    "                             \n",
    "#image_datasets = {x:datasets.ImageFolder(os.path.join('CT', x), transform = data_transforms) for x in ['train','test']}\n",
    "image_datasets = {x:datasets.ImageFolder(os.path.join(data_dir,x), transform = data_transforms) for x in ['train','test']}\n",
    "\n",
    "data_loaders = {x: DataLoader(image_datasets[x],\n",
    "                              batch_size = 16, \n",
    "                              shuffle = True, \n",
    "                              num_workers = 16) for x in ['train','test']}"
   ]
  },
  {
   "cell_type": "code",
   "execution_count": null,
   "metadata": {
    "id": "BR2jZdrb-vOV"
   },
   "outputs": [],
   "source": [
    "train_loader = data_loaders['train']\n",
    "test_loader = data_loaders['test']"
   ]
  },
  {
   "cell_type": "code",
   "execution_count": null,
   "metadata": {
    "colab": {
     "base_uri": "https://localhost:8080/"
    },
    "id": "f8QQQyet-vOV",
    "outputId": "d99ccfd0-0e37-4b64-d00f-3b4bf0d64a8c"
   },
   "outputs": [
    {
     "name": "stdout",
     "output_type": "stream",
     "text": [
      "torch.Size([16, 1, 256, 256]) torch.Size([16])\n"
     ]
    }
   ],
   "source": [
    "for features, labels in data_loaders['train']:\n",
    "    print(features.size(),labels.size())\n",
    "    break"
   ]
  },
  {
   "cell_type": "markdown",
   "metadata": {
    "id": "8lC-OXR1-vOW"
   },
   "source": [
    "##### Train/Loss"
   ]
  },
  {
   "cell_type": "code",
   "execution_count": null,
   "metadata": {
    "id": "eUkc4JQK-vOW"
   },
   "outputs": [],
   "source": [
    "def compute_epoch_loss(model, data_loader):\n",
    "    model.eval()\n",
    "    curr_loss, num_examples = 0., 0\n",
    "    with torch.no_grad():\n",
    "        for features, targets in data_loader:\n",
    "            features = features.to(DEVICE)\n",
    "            targets = targets.to(DEVICE)\n",
    "            logits, probas = model(features)\n",
    "            loss = F.cross_entropy(logits, targets, reduction='sum')\n",
    "            num_examples += targets.size(0)\n",
    "            curr_loss += loss\n",
    "\n",
    "        curr_loss = curr_loss / num_examples\n",
    "        return curr_loss\n",
    "    \n",
    "\n",
    "  \n",
    "    \n",
    "def compute_accuracy(model, data_loader):\n",
    "    model.eval()\n",
    "    correct_pred, num_examples = 0, 0\n",
    "    for i, (features, targets) in enumerate(data_loader):\n",
    "            \n",
    "        features = features.to(DEVICE)\n",
    "        targets = targets.to(DEVICE)\n",
    "\n",
    "        logits, probas = model(features)\n",
    "        _, predicted_labels = torch.max(logits, 1)\n",
    "        num_examples += targets.size(0)\n",
    "        correct_pred += (predicted_labels == targets).sum()\n",
    "    return correct_pred.float()/num_examples * 100\n",
    " "
   ]
  },
  {
   "cell_type": "code",
   "execution_count": null,
   "metadata": {
    "id": "vqieVw0E-vOW"
   },
   "outputs": [],
   "source": [
    "def train(model, train_loader, test_loader, NUM_EPOCHS):\n",
    "\n",
    "    minibatch_cost, epoch_cost = [], []\n",
    "    start_time = time.time()\n",
    "    for epoch in range(NUM_EPOCHS):\n",
    "\n",
    "        model.train()\n",
    "        for batch_idx, (features, targets) in enumerate(train_loader):\n",
    "\n",
    "            features = features.to(DEVICE)\n",
    "            targets = targets.to(DEVICE)\n",
    "            \n",
    "            #print(features.size())\n",
    "\n",
    "            ### FORWARD AND BACK PROP\n",
    "            logits, probas = model(features)\n",
    "            #print(logits.size())\n",
    "            #print(targets.size())\n",
    "            cost = F.cross_entropy(logits, targets)\n",
    "            optimizer.zero_grad()\n",
    "\n",
    "            cost.backward()\n",
    "            minibatch_cost.append(cost)\n",
    "\n",
    "            ### UPDATE MODEL PARAMETERS\n",
    "            optimizer.step()\n",
    "\n",
    "            ### LOGGING\n",
    "            if not batch_idx % 150:\n",
    "                print ('Epoch: %03d/%03d | Batch %04d/%04d | Cost: %.4f' \n",
    "                       %(epoch+1, NUM_EPOCHS, batch_idx, \n",
    "                         len(train_loader), cost))\n",
    "\n",
    "    \n",
    "        with torch.set_grad_enabled(False): # save memory during inference\n",
    "            print('Epoch: %03d/%03d | Train: %.3f%%' % (\n",
    "                  epoch+1, NUM_EPOCHS, \n",
    "                  compute_accuracy(model, train_loader)))\n",
    "            \n",
    "            cost = compute_epoch_loss(model, train_loader)\n",
    "            epoch_cost.append(cost)\n",
    "\n",
    "        print('Time elapsed: %.2f min' % ((time.time() - start_time)/60))\n",
    "\n",
    "    print('Total Training Time: %.2f min' % ((time.time() - start_time)/60))\n",
    "\n",
    "\n",
    "    with torch.set_grad_enabled(False): # save memory during inference\n",
    "        print('Test accuracy: %.2f%%' % (compute_accuracy(model, test_loader)))\n",
    "\n",
    "    print('Total Time: %.2f min' % ((time.time() - start_time)/60))\n",
    "    \n",
    "    return minibatch_cost, epoch_cost\n",
    "    \n",
    "\n"
   ]
  },
  {
   "cell_type": "markdown",
   "metadata": {
    "id": "Hdwl7AbS-vOW"
   },
   "source": [
    "## toy model"
   ]
  },
  {
   "cell_type": "code",
   "execution_count": null,
   "metadata": {
    "id": "MSHn9Z-z-vOW"
   },
   "outputs": [],
   "source": [
    "##########################\n",
    "### MODEL\n",
    "##########################\n",
    "# Hyperparameters\n",
    "RANDOM_SEED = 1\n",
    "LEARNING_RATE = 0.001\n",
    "\n",
    "# Architecture\n",
    "NUM_CLASSES = 2\n",
    "\n",
    "DEVICE = \"cuda:0\"\n",
    "num_classes = len(image_datasets['train'].classes)\n",
    "\n",
    "##########################\n",
    "### MODEL\n",
    "##########################\n",
    "\n",
    "class ConvNet3(nn.Module):\n",
    "\n",
    "    def __init__(self, num_classes=10):\n",
    "        super(ConvNet3, self).__init__()\n",
    "        \n",
    "        #### YOUR CODE\n",
    "        self.conv1 = nn.Conv2d(1, 64,    kernel_size=5, stride=1, padding=2)\n",
    "        self.pool1 = nn.MaxPool2d(2)\n",
    "        \n",
    "        self.conv2 = nn.Conv2d(64, 192, kernel_size=5, stride = 1, padding = 2)\n",
    "        self.pool2 = nn.MaxPool2d(2)\n",
    "        self.dropout2 = nn.Dropout2d(0.2)\n",
    "        self.batch2 = nn.BatchNorm2d(192)\n",
    "        \n",
    "        self.conv3 = nn.Conv2d(192, 384, kernel_size = 3, stride = 1, padding = 1)\n",
    "        self.pool3 = nn.MaxPool2d(2)\n",
    "        self.dropout3 = nn.Dropout2d(0.2)\n",
    "        self.batch3 = nn.BatchNorm2d(384)\n",
    "        \n",
    "        self.conv4 = nn.Conv2d(384, 256, kernel_size = 5, stride = 1, padding = 2)\n",
    "        self.pool4 = nn.MaxPool2d(2)\n",
    "        self.dropout4 = nn.Dropout2d(0.2)\n",
    "        self.batch4 = nn.BatchNorm2d(256)\n",
    "        \n",
    "        self.conv5 = nn.Conv2d(256, 256, kernel_size = 5, stride = 1, padding = 2)\n",
    "        self.pool5 = nn.MaxPool2d(2)\n",
    "        self.dropout5 = nn.Dropout2d(0.2)\n",
    "        self.batch5 = nn.BatchNorm2d(256)\n",
    "        \n",
    "        ## 256*256 adjuste by print size before linear 1\n",
    "        self.linear1 = nn.Linear(256 * 8 * 8, 4096)\n",
    "        self.lin_drop_1 = nn.Dropout(0.5)\n",
    "        self.lin_batch_1 = nn.BatchNorm1d(4096)\n",
    "        \n",
    "        self.linear2 = nn.Linear(4096, 512)\n",
    "        self.lin_drop_2 = nn.Dropout(0.5)\n",
    "        self.lin_batch_2 = nn.BatchNorm1d(512)\n",
    "        \n",
    "        self.linear3 = nn.Linear(512, 10)\n",
    "        #self.lin_drop_3 = nn.Dropout(0.5)\n",
    "        #self.lin_batch_3 = nn.BatchNorm1d(10)\n",
    "        \n",
    "        self.linear4 = nn.Linear(10, num_classes) \n",
    "\n",
    "    def forward(self, x):\n",
    "\n",
    "        #### YOUR CODE\n",
    "        out_1 = self.conv1(x)\n",
    "        out_1 = torch.relu(out_1)\n",
    "        out_1 = self.pool1(out_1)\n",
    "        \n",
    "        out_2 = self.conv2(out_1)\n",
    "        out_2 = self.batch2(out_2)\n",
    "        out_2 = self.dropout2(out_2)\n",
    "        out_2 = torch.relu(out_2)\n",
    "        out_2 = self.pool2(out_2)\n",
    "        \n",
    "        out_3 = self.conv3(out_2)\n",
    "        out_3 = self.batch3(out_3)\n",
    "        out_3 = self.dropout3(out_3)\n",
    "        out_3 = torch.relu(out_3)\n",
    "        out_3 = self.pool3(out_3)\n",
    "        \n",
    "        out_4 = self.conv4(out_3)\n",
    "        out_4 = self.batch4(out_4)\n",
    "        out_4 = self.dropout4(out_4)\n",
    "        out_4 = torch.relu(out_4)\n",
    "        out_4 = self.pool4(out_4)\n",
    "        \n",
    "        out_5 = self.conv5(out_4)\n",
    "        out_5 = self.batch5(out_5)\n",
    "        out_5 = self.dropout5(out_5)\n",
    "        out_5 = self.pool5(out_5)\n",
    "        out_5 = torch.relu(out_5)\n",
    "        #print(out_5.size())\n",
    "        out_5 = out_5.view(-1,256 * 8 * 8)  ### -1 is adjusted batch size\n",
    "        #print(out_5.size())\n",
    "        \n",
    "        out_6 = self.linear1(out_5)\n",
    "        #print(out_6.size())\n",
    "        out_6 = self.lin_batch_1(out_6)\n",
    "        out_6 = torch.relu(out_6)\n",
    "        out_6 = self.lin_drop_1(out_6)\n",
    "        #print(out_6.size())\n",
    "        \n",
    "        out_7 = self.linear2(out_6)\n",
    "        out_7 = self.lin_batch_2(out_7)\n",
    "        out_7 = torch.relu(out_7)\n",
    "        out_7 = self.lin_drop_2(out_7)\n",
    "        #print(out_7.size())\n",
    "        \n",
    "        out_8 = self.linear3(out_7)\n",
    "        #out_8 = self.lin_batch_3(out_8)\n",
    "        out_8 = torch.relu(out_8)\n",
    "        #out_8 = self.lin_drop_3(out_8)\n",
    "        \n",
    "        out_9 = self.linear4(out_8)\n",
    "        \n",
    "        \n",
    "        logits = out_9\n",
    "        probas = F.softmax(logits, dim=1)\n",
    "        return logits, probas\n",
    "\n",
    "\n",
    "    \n",
    "torch.manual_seed(RANDOM_SEED)\n",
    "\n",
    "model3 = ConvNet3(NUM_CLASSES)\n",
    "model3.to(DEVICE)\n",
    "\n",
    "optimizer = torch.optim.Adam(model3.parameters(), lr=LEARNING_RATE)"
   ]
  },
  {
   "cell_type": "code",
   "execution_count": null,
   "metadata": {
    "id": "RFpTQC7i-vOW"
   },
   "outputs": [],
   "source": [
    "#model1(torch.zeros([16, 3, 256, 256]))"
   ]
  },
  {
   "cell_type": "code",
   "execution_count": null,
   "metadata": {
    "colab": {
     "base_uri": "https://localhost:8080/"
    },
    "id": "IYKq7vWH-vOW",
    "outputId": "06af080e-ebd4-466c-b97a-d5d88e7ba18a"
   },
   "outputs": [
    {
     "name": "stdout",
     "output_type": "stream",
     "text": [
      "Epoch: 001/030 | Batch 0000/0041 | Cost: 0.6734\n",
      "Epoch: 001/030 | Train: 65.015%\n",
      "Time elapsed: 0.46 min\n",
      "Epoch: 002/030 | Batch 0000/0041 | Cost: 0.5502\n",
      "Epoch: 002/030 | Train: 64.396%\n",
      "Time elapsed: 0.94 min\n",
      "Epoch: 003/030 | Batch 0000/0041 | Cost: 0.5582\n",
      "Epoch: 003/030 | Train: 68.111%\n",
      "Time elapsed: 1.41 min\n",
      "Epoch: 004/030 | Batch 0000/0041 | Cost: 0.4210\n",
      "Epoch: 004/030 | Train: 81.424%\n",
      "Time elapsed: 1.89 min\n",
      "Epoch: 005/030 | Batch 0000/0041 | Cost: 0.5588\n",
      "Epoch: 005/030 | Train: 68.731%\n",
      "Time elapsed: 2.38 min\n",
      "Epoch: 006/030 | Batch 0000/0041 | Cost: 0.6192\n",
      "Epoch: 006/030 | Train: 83.901%\n",
      "Time elapsed: 2.86 min\n",
      "Epoch: 007/030 | Batch 0000/0041 | Cost: 0.3509\n",
      "Epoch: 007/030 | Train: 80.341%\n",
      "Time elapsed: 3.39 min\n",
      "Epoch: 008/030 | Batch 0000/0041 | Cost: 0.5109\n",
      "Epoch: 008/030 | Train: 78.793%\n",
      "Time elapsed: 3.91 min\n",
      "Epoch: 009/030 | Batch 0000/0041 | Cost: 0.2564\n",
      "Epoch: 009/030 | Train: 73.839%\n",
      "Time elapsed: 4.42 min\n",
      "Epoch: 010/030 | Batch 0000/0041 | Cost: 0.3737\n",
      "Epoch: 010/030 | Train: 77.245%\n",
      "Time elapsed: 4.94 min\n",
      "Epoch: 011/030 | Batch 0000/0041 | Cost: 0.3538\n",
      "Epoch: 011/030 | Train: 64.087%\n",
      "Time elapsed: 5.42 min\n",
      "Epoch: 012/030 | Batch 0000/0041 | Cost: 0.2912\n",
      "Epoch: 012/030 | Train: 84.675%\n",
      "Time elapsed: 5.92 min\n",
      "Epoch: 013/030 | Batch 0000/0041 | Cost: 0.2321\n",
      "Epoch: 013/030 | Train: 87.307%\n",
      "Time elapsed: 6.42 min\n",
      "Epoch: 014/030 | Batch 0000/0041 | Cost: 0.3584\n",
      "Epoch: 014/030 | Train: 84.675%\n",
      "Time elapsed: 6.92 min\n",
      "Epoch: 015/030 | Batch 0000/0041 | Cost: 0.4035\n",
      "Epoch: 015/030 | Train: 73.994%\n",
      "Time elapsed: 7.43 min\n",
      "Epoch: 016/030 | Batch 0000/0041 | Cost: 0.5396\n",
      "Epoch: 016/030 | Train: 78.793%\n",
      "Time elapsed: 7.93 min\n",
      "Epoch: 017/030 | Batch 0000/0041 | Cost: 0.3259\n",
      "Epoch: 017/030 | Train: 90.093%\n",
      "Time elapsed: 8.43 min\n",
      "Epoch: 018/030 | Batch 0000/0041 | Cost: 0.3102\n",
      "Epoch: 018/030 | Train: 72.136%\n",
      "Time elapsed: 8.95 min\n",
      "Epoch: 019/030 | Batch 0000/0041 | Cost: 0.3536\n",
      "Epoch: 019/030 | Train: 79.721%\n",
      "Time elapsed: 9.44 min\n",
      "Epoch: 020/030 | Batch 0000/0041 | Cost: 0.2028\n",
      "Epoch: 020/030 | Train: 89.628%\n",
      "Time elapsed: 9.93 min\n",
      "Epoch: 021/030 | Batch 0000/0041 | Cost: 0.3031\n",
      "Epoch: 021/030 | Train: 94.737%\n",
      "Time elapsed: 10.42 min\n",
      "Epoch: 022/030 | Batch 0000/0041 | Cost: 0.6891\n",
      "Epoch: 022/030 | Train: 96.904%\n",
      "Time elapsed: 10.92 min\n",
      "Epoch: 023/030 | Batch 0000/0041 | Cost: 0.3671\n",
      "Epoch: 023/030 | Train: 94.737%\n",
      "Time elapsed: 11.41 min\n",
      "Epoch: 024/030 | Batch 0000/0041 | Cost: 0.3097\n",
      "Epoch: 024/030 | Train: 64.396%\n",
      "Time elapsed: 11.91 min\n",
      "Epoch: 025/030 | Batch 0000/0041 | Cost: 0.2098\n",
      "Epoch: 025/030 | Train: 75.232%\n",
      "Time elapsed: 12.42 min\n",
      "Epoch: 026/030 | Batch 0000/0041 | Cost: 0.5916\n",
      "Epoch: 026/030 | Train: 96.904%\n",
      "Time elapsed: 12.91 min\n",
      "Epoch: 027/030 | Batch 0000/0041 | Cost: 0.1591\n",
      "Epoch: 027/030 | Train: 87.307%\n",
      "Time elapsed: 13.41 min\n",
      "Epoch: 028/030 | Batch 0000/0041 | Cost: 0.1732\n",
      "Epoch: 028/030 | Train: 86.687%\n",
      "Time elapsed: 13.92 min\n",
      "Epoch: 029/030 | Batch 0000/0041 | Cost: 0.0809\n",
      "Epoch: 029/030 | Train: 96.904%\n",
      "Time elapsed: 14.40 min\n",
      "Epoch: 030/030 | Batch 0000/0041 | Cost: 0.2205\n",
      "Epoch: 030/030 | Train: 98.452%\n",
      "Time elapsed: 14.90 min\n",
      "Total Training Time: 14.90 min\n",
      "Test accuracy: 58.00%\n",
      "Total Time: 14.99 min\n"
     ]
    }
   ],
   "source": [
    "#train_loader = data_loaders['train']\n",
    "#test_loader = data_loaders['test']\n",
    "minibatch_cost, epoch_cost = train(model3, train_loader, test_loader, NUM_EPOCHS = 30)"
   ]
  },
  {
   "cell_type": "code",
   "execution_count": null,
   "metadata": {
    "colab": {
     "base_uri": "https://localhost:8080/"
    },
    "id": "Pl2TcBPD-vOX",
    "outputId": "749ad65b-aa14-4441-95ea-952132e4bdf9"
   },
   "outputs": [
    {
     "name": "stdout",
     "output_type": "stream",
     "text": [
      "Test accuracy: 58.00%\n"
     ]
    }
   ],
   "source": [
    "test_loader = data_loaders['test']\n",
    "with torch.set_grad_enabled(False): # save memory during inference\n",
    "    print('Test accuracy: %.2f%%' % (compute_accuracy(model3, test_loader)))"
   ]
  },
  {
   "cell_type": "code",
   "execution_count": null,
   "metadata": {
    "colab": {
     "base_uri": "https://localhost:8080/",
     "height": 280
    },
    "id": "UkOOCCZJ-vOX",
    "outputId": "f42fcf98-69a1-4e23-a49b-eb7dacd37fd9"
   },
   "outputs": [
    {
     "data": {
      "image/png": "[encoded data removed]",
      "text/plain": [
       "<Figure size 432x288 with 1 Axes>"
      ]
     },
     "metadata": {
      "needs_background": "light",
      "tags": []
     },
     "output_type": "display_data"
    }
   ],
   "source": [
    "plt.plot(range(len(minibatch_cost)), minibatch_cost)\n",
    "plt.ylabel('Cross Entropy')\n",
    "plt.xlabel('Minibatch')\n",
    "plt.savefig(os.path.join('drive','My Drive','Colab Notebooks','CS760','result','toymodel3_epoch30_Minibatchloss.jpg'))#,dpi = 400)\n",
    "plt.show()"
   ]
  },
  {
   "cell_type": "code",
   "execution_count": null,
   "metadata": {
    "colab": {
     "base_uri": "https://localhost:8080/",
     "height": 279
    },
    "id": "kH_44D8sPP-S",
    "outputId": "b670bbf9-278d-4823-e851-04a7c8fcf55d"
   },
   "outputs": [
    {
     "data": {
      "image/png": "[encoded data removed]",
      "text/plain": [
       "<Figure size 432x288 with 1 Axes>"
      ]
     },
     "metadata": {
      "needs_background": "light",
      "tags": []
     },
     "output_type": "display_data"
    }
   ],
   "source": [
    "plt.plot(range(len(epoch_cost)), epoch_cost)\n",
    "plt.ylabel('Cross Entropy')\n",
    "plt.xlabel('Epoch')\n",
    "plt.savefig(os.path.join('drive','My Drive','Colab Notebooks','CS760','result','model3_epoch30_epochloss.jpg'))#,dpi = 400)\n",
    "plt.show()"
   ]
  },
  {
   "cell_type": "code",
   "execution_count": null,
   "metadata": {
    "id": "7W7-_lx0PS1r"
   },
   "outputs": [],
   "source": [
    "torch.save(model3.state_dict(),os.path.join('drive','My Drive','Colab Notebooks','CS760','result','model3_para_epoch30.pt'))"
   ]
  },
  {
   "cell_type": "code",
   "execution_count": null,
   "metadata": {
    "colab": {
     "base_uri": "https://localhost:8080/"
    },
    "id": "GPnZ155uP5I0",
    "outputId": "fdcc842b-1e53-4358-e19a-e979849e8ca8"
   },
   "outputs": [
    {
     "data": {
      "text/plain": [
       "ConvNet3(\n",
       "  (conv1): Conv2d(1, 64, kernel_size=(5, 5), stride=(1, 1), padding=(2, 2))\n",
       "  (pool1): MaxPool2d(kernel_size=2, stride=2, padding=0, dilation=1, ceil_mode=False)\n",
       "  (conv2): Conv2d(64, 192, kernel_size=(5, 5), stride=(1, 1), padding=(2, 2))\n",
       "  (pool2): MaxPool2d(kernel_size=2, stride=2, padding=0, dilation=1, ceil_mode=False)\n",
       "  (dropout2): Dropout2d(p=0.2, inplace=False)\n",
       "  (batch2): BatchNorm2d(192, eps=1e-05, momentum=0.1, affine=True, track_running_stats=True)\n",
       "  (conv3): Conv2d(192, 384, kernel_size=(3, 3), stride=(1, 1), padding=(1, 1))\n",
       "  (pool3): MaxPool2d(kernel_size=2, stride=2, padding=0, dilation=1, ceil_mode=False)\n",
       "  (dropout3): Dropout2d(p=0.2, inplace=False)\n",
       "  (batch3): BatchNorm2d(384, eps=1e-05, momentum=0.1, affine=True, track_running_stats=True)\n",
       "  (conv4): Conv2d(384, 256, kernel_size=(5, 5), stride=(1, 1), padding=(2, 2))\n",
       "  (pool4): MaxPool2d(kernel_size=2, stride=2, padding=0, dilation=1, ceil_mode=False)\n",
       "  (dropout4): Dropout2d(p=0.2, inplace=False)\n",
       "  (batch4): BatchNorm2d(256, eps=1e-05, momentum=0.1, affine=True, track_running_stats=True)\n",
       "  (conv5): Conv2d(256, 256, kernel_size=(5, 5), stride=(1, 1), padding=(2, 2))\n",
       "  (pool5): MaxPool2d(kernel_size=2, stride=2, padding=0, dilation=1, ceil_mode=False)\n",
       "  (dropout5): Dropout2d(p=0.2, inplace=False)\n",
       "  (batch5): BatchNorm2d(256, eps=1e-05, momentum=0.1, affine=True, track_running_stats=True)\n",
       "  (linear1): Linear(in_features=16384, out_features=4096, bias=True)\n",
       "  (lin_drop_1): Dropout(p=0.5, inplace=False)\n",
       "  (lin_batch_1): BatchNorm1d(4096, eps=1e-05, momentum=0.1, affine=True, track_running_stats=True)\n",
       "  (linear2): Linear(in_features=4096, out_features=512, bias=True)\n",
       "  (lin_drop_2): Dropout(p=0.5, inplace=False)\n",
       "  (lin_batch_2): BatchNorm1d(512, eps=1e-05, momentum=0.1, affine=True, track_running_stats=True)\n",
       "  (linear3): Linear(in_features=512, out_features=10, bias=True)\n",
       "  (linear4): Linear(in_features=10, out_features=2, bias=True)\n",
       ")"
      ]
     },
     "execution_count": 33,
     "metadata": {
      "tags": []
     },
     "output_type": "execute_result"
    }
   ],
   "source": [
    "model3.eval()"
   ]
  },
  {
   "cell_type": "code",
   "execution_count": null,
   "metadata": {
    "id": "MgW__mgXWOzt"
   },
   "outputs": [],
   "source": []
  },
  {
   "cell_type": "markdown",
   "metadata": {
    "id": "b5J8ev-7WPnM"
   },
   "source": [
    "### forward input into model extract feature"
   ]
  },
  {
   "cell_type": "code",
   "execution_count": null,
   "metadata": {
    "id": "E3BnZ4TEQbni"
   },
   "outputs": [],
   "source": [
    "model3(image_datasets['train'][0][0].view(1,1,256,256).to(DEVICE))[0].cpu().data.numpy()"
   ]
  },
  {
   "cell_type": "code",
   "execution_count": null,
   "metadata": {
    "id": "XOSnSpkAT513"
   },
   "outputs": [],
   "source": [
    "li = list(map(lambda x: model3(x[0].view(1,1,256,256).to(DEVICE))[0].cpu().data.numpy().reshape(-1), image_datasets['train']))"
   ]
  },
  {
   "cell_type": "code",
   "execution_count": null,
   "metadata": {
    "colab": {
     "base_uri": "https://localhost:8080/",
     "height": 204
    },
    "id": "2fUXtYbxT6av",
    "outputId": "2cc1eb9f-cf7c-430d-ae30-07c86ac8ac33"
   },
   "outputs": [
    {
     "data": {
      "text/html": [
       "<div>\n",
       "<style scoped>\n",
       "    .dataframe tbody tr th:only-of-type {\n",
       "        vertical-align: middle;\n",
       "    }\n",
       "\n",
       "    .dataframe tbody tr th {\n",
       "        vertical-align: top;\n",
       "    }\n",
       "\n",
       "    .dataframe thead th {\n",
       "        text-align: right;\n",
       "    }\n",
       "</style>\n",
       "<table border=\"1\" class=\"dataframe\">\n",
       "  <thead>\n",
       "    <tr style=\"text-align: right;\">\n",
       "      <th></th>\n",
       "      <th>0</th>\n",
       "      <th>1</th>\n",
       "    </tr>\n",
       "  </thead>\n",
       "  <tbody>\n",
       "    <tr>\n",
       "      <th>0</th>\n",
       "      <td>0.923451</td>\n",
       "      <td>-1.967397</td>\n",
       "    </tr>\n",
       "    <tr>\n",
       "      <th>1</th>\n",
       "      <td>-0.017116</td>\n",
       "      <td>-0.010584</td>\n",
       "    </tr>\n",
       "    <tr>\n",
       "      <th>2</th>\n",
       "      <td>0.395781</td>\n",
       "      <td>-1.005345</td>\n",
       "    </tr>\n",
       "    <tr>\n",
       "      <th>3</th>\n",
       "      <td>1.963050</td>\n",
       "      <td>-3.509674</td>\n",
       "    </tr>\n",
       "    <tr>\n",
       "      <th>4</th>\n",
       "      <td>2.378416</td>\n",
       "      <td>-4.650727</td>\n",
       "    </tr>\n",
       "  </tbody>\n",
       "</table>\n",
       "</div>"
      ],
      "text/plain": [
       "          0         1\n",
       "0  0.923451 -1.967397\n",
       "1 -0.017116 -0.010584\n",
       "2  0.395781 -1.005345\n",
       "3  1.963050 -3.509674\n",
       "4  2.378416 -4.650727"
      ]
     },
     "execution_count": 63,
     "metadata": {
      "tags": []
     },
     "output_type": "execute_result"
    }
   ],
   "source": [
    "df = pd.DataFrame(li)\n",
    "df.head()"
   ]
  },
  {
   "cell_type": "code",
   "execution_count": null,
   "metadata": {
    "colab": {
     "base_uri": "https://localhost:8080/",
     "height": 204
    },
    "id": "4KS5h9NPUcFl",
    "outputId": "5228b3f0-e6f3-4053-e04c-e18f944bd5f2"
   },
   "outputs": [
    {
     "data": {
      "text/html": [
       "<div>\n",
       "<style scoped>\n",
       "    .dataframe tbody tr th:only-of-type {\n",
       "        vertical-align: middle;\n",
       "    }\n",
       "\n",
       "    .dataframe tbody tr th {\n",
       "        vertical-align: top;\n",
       "    }\n",
       "\n",
       "    .dataframe thead th {\n",
       "        text-align: right;\n",
       "    }\n",
       "</style>\n",
       "<table border=\"1\" class=\"dataframe\">\n",
       "  <thead>\n",
       "    <tr style=\"text-align: right;\">\n",
       "      <th></th>\n",
       "      <th>0</th>\n",
       "      <th>1</th>\n",
       "      <th>y</th>\n",
       "    </tr>\n",
       "  </thead>\n",
       "  <tbody>\n",
       "    <tr>\n",
       "      <th>0</th>\n",
       "      <td>0.923451</td>\n",
       "      <td>-1.967397</td>\n",
       "      <td>0</td>\n",
       "    </tr>\n",
       "    <tr>\n",
       "      <th>1</th>\n",
       "      <td>-0.017116</td>\n",
       "      <td>-0.010584</td>\n",
       "      <td>0</td>\n",
       "    </tr>\n",
       "    <tr>\n",
       "      <th>2</th>\n",
       "      <td>0.395781</td>\n",
       "      <td>-1.005345</td>\n",
       "      <td>0</td>\n",
       "    </tr>\n",
       "    <tr>\n",
       "      <th>3</th>\n",
       "      <td>1.963050</td>\n",
       "      <td>-3.509674</td>\n",
       "      <td>0</td>\n",
       "    </tr>\n",
       "    <tr>\n",
       "      <th>4</th>\n",
       "      <td>2.378416</td>\n",
       "      <td>-4.650727</td>\n",
       "      <td>0</td>\n",
       "    </tr>\n",
       "  </tbody>\n",
       "</table>\n",
       "</div>"
      ],
      "text/plain": [
       "          0         1  y\n",
       "0  0.923451 -1.967397  0\n",
       "1 -0.017116 -0.010584  0\n",
       "2  0.395781 -1.005345  0\n",
       "3  1.963050 -3.509674  0\n",
       "4  2.378416 -4.650727  0"
      ]
     },
     "execution_count": 67,
     "metadata": {
      "tags": []
     },
     "output_type": "execute_result"
    }
   ],
   "source": [
    "df['y'] = list(map(lambda x: x[1],image_datasets['train']))\n",
    "df.head()"
   ]
  },
  {
   "cell_type": "markdown",
   "metadata": {
    "id": "AGr_qdjXWpUV"
   },
   "source": [
    "## Neglect below"
   ]
  },
  {
   "cell_type": "markdown",
   "metadata": {},
   "source": [
    "need to construct from beginning and then load the data, since we resize in `out_5 = out_5.view(-1,256 * 8 * 8)  ### -1 is adjusted batch size`, if use `model3_extract = nn.Sequential(*list(model3.children())[:-1])`, the resize step will not implement in new model `model3_extract`. \n",
    "\n",
    "see `Main used section`  in **extract_features_to_csv.ipynb**."
   ]
  },
  {
   "cell_type": "markdown",
   "metadata": {
    "id": "sfjR4DhQXFS_"
   },
   "source": [
    "### extract feature"
   ]
  },
  {
   "cell_type": "code",
   "execution_count": null,
   "metadata": {
    "colab": {
     "base_uri": "https://localhost:8080/"
    },
    "id": "atQM7AhrXixa",
    "outputId": "df0969b3-11ce-45bf-ec32-1eaf1bc3f92e"
   },
   "outputs": [
    {
     "data": {
      "text/plain": [
       "ConvNet3(\n",
       "  (conv1): Conv2d(1, 64, kernel_size=(5, 5), stride=(1, 1), padding=(2, 2))\n",
       "  (pool1): MaxPool2d(kernel_size=2, stride=2, padding=0, dilation=1, ceil_mode=False)\n",
       "  (conv2): Conv2d(64, 192, kernel_size=(5, 5), stride=(1, 1), padding=(2, 2))\n",
       "  (pool2): MaxPool2d(kernel_size=2, stride=2, padding=0, dilation=1, ceil_mode=False)\n",
       "  (dropout2): Dropout2d(p=0.2, inplace=False)\n",
       "  (batch2): BatchNorm2d(192, eps=1e-05, momentum=0.1, affine=True, track_running_stats=True)\n",
       "  (conv3): Conv2d(192, 384, kernel_size=(3, 3), stride=(1, 1), padding=(1, 1))\n",
       "  (pool3): MaxPool2d(kernel_size=2, stride=2, padding=0, dilation=1, ceil_mode=False)\n",
       "  (dropout3): Dropout2d(p=0.2, inplace=False)\n",
       "  (batch3): BatchNorm2d(384, eps=1e-05, momentum=0.1, affine=True, track_running_stats=True)\n",
       "  (conv4): Conv2d(384, 256, kernel_size=(5, 5), stride=(1, 1), padding=(2, 2))\n",
       "  (pool4): MaxPool2d(kernel_size=2, stride=2, padding=0, dilation=1, ceil_mode=False)\n",
       "  (dropout4): Dropout2d(p=0.2, inplace=False)\n",
       "  (batch4): BatchNorm2d(256, eps=1e-05, momentum=0.1, affine=True, track_running_stats=True)\n",
       "  (conv5): Conv2d(256, 256, kernel_size=(5, 5), stride=(1, 1), padding=(2, 2))\n",
       "  (pool5): MaxPool2d(kernel_size=2, stride=2, padding=0, dilation=1, ceil_mode=False)\n",
       "  (dropout5): Dropout2d(p=0.2, inplace=False)\n",
       "  (batch5): BatchNorm2d(256, eps=1e-05, momentum=0.1, affine=True, track_running_stats=True)\n",
       "  (linear1): Linear(in_features=16384, out_features=4096, bias=True)\n",
       "  (lin_drop_1): Dropout(p=0.5, inplace=False)\n",
       "  (lin_batch_1): BatchNorm1d(4096, eps=1e-05, momentum=0.1, affine=True, track_running_stats=True)\n",
       "  (linear2): Linear(in_features=4096, out_features=512, bias=True)\n",
       "  (lin_drop_2): Dropout(p=0.5, inplace=False)\n",
       "  (lin_batch_2): BatchNorm1d(512, eps=1e-05, momentum=0.1, affine=True, track_running_stats=True)\n",
       "  (linear3): Linear(in_features=512, out_features=10, bias=True)\n",
       "  (linear4): Linear(in_features=10, out_features=2, bias=True)\n",
       ")"
      ]
     },
     "execution_count": 81,
     "metadata": {
      "tags": []
     },
     "output_type": "execute_result"
    }
   ],
   "source": [
    "model3.eval()"
   ]
  },
  {
   "cell_type": "code",
   "execution_count": null,
   "metadata": {
    "id": "H7WM99nyXG0w"
   },
   "outputs": [],
   "source": [
    "model3_extract = nn.Sequential(*list(model3.children())[:-1])"
   ]
  },
  {
   "cell_type": "code",
   "execution_count": null,
   "metadata": {
    "colab": {
     "base_uri": "https://localhost:8080/"
    },
    "id": "h1A81o0RYiGb",
    "outputId": "32baf446-3c1c-4edd-9d6c-b25da2686885"
   },
   "outputs": [
    {
     "data": {
      "text/plain": [
       "Sequential(\n",
       "  (0): Conv2d(1, 64, kernel_size=(5, 5), stride=(1, 1), padding=(2, 2))\n",
       "  (1): MaxPool2d(kernel_size=2, stride=2, padding=0, dilation=1, ceil_mode=False)\n",
       "  (2): Conv2d(64, 192, kernel_size=(5, 5), stride=(1, 1), padding=(2, 2))\n",
       "  (3): MaxPool2d(kernel_size=2, stride=2, padding=0, dilation=1, ceil_mode=False)\n",
       "  (4): Dropout2d(p=0.2, inplace=False)\n",
       "  (5): BatchNorm2d(192, eps=1e-05, momentum=0.1, affine=True, track_running_stats=True)\n",
       "  (6): Conv2d(192, 384, kernel_size=(3, 3), stride=(1, 1), padding=(1, 1))\n",
       "  (7): MaxPool2d(kernel_size=2, stride=2, padding=0, dilation=1, ceil_mode=False)\n",
       "  (8): Dropout2d(p=0.2, inplace=False)\n",
       "  (9): BatchNorm2d(384, eps=1e-05, momentum=0.1, affine=True, track_running_stats=True)\n",
       "  (10): Conv2d(384, 256, kernel_size=(5, 5), stride=(1, 1), padding=(2, 2))\n",
       "  (11): MaxPool2d(kernel_size=2, stride=2, padding=0, dilation=1, ceil_mode=False)\n",
       "  (12): Dropout2d(p=0.2, inplace=False)\n",
       "  (13): BatchNorm2d(256, eps=1e-05, momentum=0.1, affine=True, track_running_stats=True)\n",
       "  (14): Conv2d(256, 256, kernel_size=(5, 5), stride=(1, 1), padding=(2, 2))\n",
       "  (15): MaxPool2d(kernel_size=2, stride=2, padding=0, dilation=1, ceil_mode=False)\n",
       "  (16): Dropout2d(p=0.2, inplace=False)\n",
       "  (17): BatchNorm2d(256, eps=1e-05, momentum=0.1, affine=True, track_running_stats=True)\n",
       "  (18): Linear(in_features=16384, out_features=4096, bias=True)\n",
       "  (19): Dropout(p=0.5, inplace=False)\n",
       "  (20): BatchNorm1d(4096, eps=1e-05, momentum=0.1, affine=True, track_running_stats=True)\n",
       "  (21): Linear(in_features=4096, out_features=512, bias=True)\n",
       "  (22): Dropout(p=0.5, inplace=False)\n",
       "  (23): BatchNorm1d(512, eps=1e-05, momentum=0.1, affine=True, track_running_stats=True)\n",
       "  (24): Linear(in_features=512, out_features=10, bias=True)\n",
       ")"
      ]
     },
     "execution_count": 82,
     "metadata": {
      "tags": []
     },
     "output_type": "execute_result"
    }
   ],
   "source": [
    "model3_extract.eval()"
   ]
  },
  {
   "cell_type": "code",
   "execution_count": null,
   "metadata": {
    "id": "6Jpd8MZvZfS_"
   },
   "outputs": [],
   "source": [
    "for param in model3_extract.parameters():\n",
    "    param.requires_grad = False"
   ]
  },
  {
   "cell_type": "code",
   "execution_count": null,
   "metadata": {
    "colab": {
     "base_uri": "https://localhost:8080/",
     "height": 307
    },
    "id": "fxV12TDTX274",
    "outputId": "44afbff6-2d9f-4da7-d26f-4f177c41a67f"
   },
   "outputs": [
    {
     "ename": "RuntimeError",
     "evalue": "ignored",
     "output_type": "error",
     "traceback": [
      "\u001b[0;31m---------------------------------------------------------------------------\u001b[0m",
      "\u001b[0;31mRuntimeError\u001b[0m                              Traceback (most recent call last)",
      "\u001b[0;32m<ipython-input-83-2bf8eed5e7d2>\u001b[0m in \u001b[0;36m<module>\u001b[0;34m()\u001b[0m\n\u001b[0;32m----> 1\u001b[0;31m \u001b[0mmodel3_extract\u001b[0m\u001b[0;34m(\u001b[0m\u001b[0mtorch\u001b[0m\u001b[0;34m.\u001b[0m\u001b[0mzeros\u001b[0m\u001b[0;34m(\u001b[0m\u001b[0;36m1\u001b[0m\u001b[0;34m,\u001b[0m\u001b[0;36m1\u001b[0m\u001b[0;34m,\u001b[0m\u001b[0;36m256\u001b[0m\u001b[0;34m,\u001b[0m\u001b[0;36m256\u001b[0m\u001b[0;34m)\u001b[0m\u001b[0;34m.\u001b[0m\u001b[0mto\u001b[0m\u001b[0;34m(\u001b[0m\u001b[0mDEVICE\u001b[0m\u001b[0;34m)\u001b[0m\u001b[0;34m)\u001b[0m\u001b[0;34m\u001b[0m\u001b[0;34m\u001b[0m\u001b[0m\n\u001b[0m",
      "\u001b[0;32m/usr/local/lib/python3.6/dist-packages/torch/nn/modules/module.py\u001b[0m in \u001b[0;36m_call_impl\u001b[0;34m(self, *input, **kwargs)\u001b[0m\n\u001b[1;32m    725\u001b[0m             \u001b[0mresult\u001b[0m \u001b[0;34m=\u001b[0m \u001b[0mself\u001b[0m\u001b[0;34m.\u001b[0m\u001b[0m_slow_forward\u001b[0m\u001b[0;34m(\u001b[0m\u001b[0;34m*\u001b[0m\u001b[0minput\u001b[0m\u001b[0;34m,\u001b[0m \u001b[0;34m**\u001b[0m\u001b[0mkwargs\u001b[0m\u001b[0;34m)\u001b[0m\u001b[0;34m\u001b[0m\u001b[0;34m\u001b[0m\u001b[0m\n\u001b[1;32m    726\u001b[0m         \u001b[0;32melse\u001b[0m\u001b[0;34m:\u001b[0m\u001b[0;34m\u001b[0m\u001b[0;34m\u001b[0m\u001b[0m\n\u001b[0;32m--> 727\u001b[0;31m             \u001b[0mresult\u001b[0m \u001b[0;34m=\u001b[0m \u001b[0mself\u001b[0m\u001b[0;34m.\u001b[0m\u001b[0mforward\u001b[0m\u001b[0;34m(\u001b[0m\u001b[0;34m*\u001b[0m\u001b[0minput\u001b[0m\u001b[0;34m,\u001b[0m \u001b[0;34m**\u001b[0m\u001b[0mkwargs\u001b[0m\u001b[0;34m)\u001b[0m\u001b[0;34m\u001b[0m\u001b[0;34m\u001b[0m\u001b[0m\n\u001b[0m\u001b[1;32m    728\u001b[0m         for hook in itertools.chain(\n\u001b[1;32m    729\u001b[0m                 \u001b[0m_global_forward_hooks\u001b[0m\u001b[0;34m.\u001b[0m\u001b[0mvalues\u001b[0m\u001b[0;34m(\u001b[0m\u001b[0;34m)\u001b[0m\u001b[0;34m,\u001b[0m\u001b[0;34m\u001b[0m\u001b[0;34m\u001b[0m\u001b[0m\n",
      "\u001b[0;32m/usr/local/lib/python3.6/dist-packages/torch/nn/modules/container.py\u001b[0m in \u001b[0;36mforward\u001b[0;34m(self, input)\u001b[0m\n\u001b[1;32m    115\u001b[0m     \u001b[0;32mdef\u001b[0m \u001b[0mforward\u001b[0m\u001b[0;34m(\u001b[0m\u001b[0mself\u001b[0m\u001b[0;34m,\u001b[0m \u001b[0minput\u001b[0m\u001b[0;34m)\u001b[0m\u001b[0;34m:\u001b[0m\u001b[0;34m\u001b[0m\u001b[0;34m\u001b[0m\u001b[0m\n\u001b[1;32m    116\u001b[0m         \u001b[0;32mfor\u001b[0m \u001b[0mmodule\u001b[0m \u001b[0;32min\u001b[0m \u001b[0mself\u001b[0m\u001b[0;34m:\u001b[0m\u001b[0;34m\u001b[0m\u001b[0;34m\u001b[0m\u001b[0m\n\u001b[0;32m--> 117\u001b[0;31m             \u001b[0minput\u001b[0m \u001b[0;34m=\u001b[0m \u001b[0mmodule\u001b[0m\u001b[0;34m(\u001b[0m\u001b[0minput\u001b[0m\u001b[0;34m)\u001b[0m\u001b[0;34m\u001b[0m\u001b[0;34m\u001b[0m\u001b[0m\n\u001b[0m\u001b[1;32m    118\u001b[0m         \u001b[0;32mreturn\u001b[0m \u001b[0minput\u001b[0m\u001b[0;34m\u001b[0m\u001b[0;34m\u001b[0m\u001b[0m\n\u001b[1;32m    119\u001b[0m \u001b[0;34m\u001b[0m\u001b[0m\n",
      "\u001b[0;32m/usr/local/lib/python3.6/dist-packages/torch/nn/modules/module.py\u001b[0m in \u001b[0;36m_call_impl\u001b[0;34m(self, *input, **kwargs)\u001b[0m\n\u001b[1;32m    725\u001b[0m             \u001b[0mresult\u001b[0m \u001b[0;34m=\u001b[0m \u001b[0mself\u001b[0m\u001b[0;34m.\u001b[0m\u001b[0m_slow_forward\u001b[0m\u001b[0;34m(\u001b[0m\u001b[0;34m*\u001b[0m\u001b[0minput\u001b[0m\u001b[0;34m,\u001b[0m \u001b[0;34m**\u001b[0m\u001b[0mkwargs\u001b[0m\u001b[0;34m)\u001b[0m\u001b[0;34m\u001b[0m\u001b[0;34m\u001b[0m\u001b[0m\n\u001b[1;32m    726\u001b[0m         \u001b[0;32melse\u001b[0m\u001b[0;34m:\u001b[0m\u001b[0;34m\u001b[0m\u001b[0;34m\u001b[0m\u001b[0m\n\u001b[0;32m--> 727\u001b[0;31m             \u001b[0mresult\u001b[0m \u001b[0;34m=\u001b[0m \u001b[0mself\u001b[0m\u001b[0;34m.\u001b[0m\u001b[0mforward\u001b[0m\u001b[0;34m(\u001b[0m\u001b[0;34m*\u001b[0m\u001b[0minput\u001b[0m\u001b[0;34m,\u001b[0m \u001b[0;34m**\u001b[0m\u001b[0mkwargs\u001b[0m\u001b[0;34m)\u001b[0m\u001b[0;34m\u001b[0m\u001b[0;34m\u001b[0m\u001b[0m\n\u001b[0m\u001b[1;32m    728\u001b[0m         for hook in itertools.chain(\n\u001b[1;32m    729\u001b[0m                 \u001b[0m_global_forward_hooks\u001b[0m\u001b[0;34m.\u001b[0m\u001b[0mvalues\u001b[0m\u001b[0;34m(\u001b[0m\u001b[0;34m)\u001b[0m\u001b[0;34m,\u001b[0m\u001b[0;34m\u001b[0m\u001b[0;34m\u001b[0m\u001b[0m\n",
      "\u001b[0;32m/usr/local/lib/python3.6/dist-packages/torch/nn/modules/linear.py\u001b[0m in \u001b[0;36mforward\u001b[0;34m(self, input)\u001b[0m\n\u001b[1;32m     91\u001b[0m \u001b[0;34m\u001b[0m\u001b[0m\n\u001b[1;32m     92\u001b[0m     \u001b[0;32mdef\u001b[0m \u001b[0mforward\u001b[0m\u001b[0;34m(\u001b[0m\u001b[0mself\u001b[0m\u001b[0;34m,\u001b[0m \u001b[0minput\u001b[0m\u001b[0;34m:\u001b[0m \u001b[0mTensor\u001b[0m\u001b[0;34m)\u001b[0m \u001b[0;34m->\u001b[0m \u001b[0mTensor\u001b[0m\u001b[0;34m:\u001b[0m\u001b[0;34m\u001b[0m\u001b[0;34m\u001b[0m\u001b[0m\n\u001b[0;32m---> 93\u001b[0;31m         \u001b[0;32mreturn\u001b[0m \u001b[0mF\u001b[0m\u001b[0;34m.\u001b[0m\u001b[0mlinear\u001b[0m\u001b[0;34m(\u001b[0m\u001b[0minput\u001b[0m\u001b[0;34m,\u001b[0m \u001b[0mself\u001b[0m\u001b[0;34m.\u001b[0m\u001b[0mweight\u001b[0m\u001b[0;34m,\u001b[0m \u001b[0mself\u001b[0m\u001b[0;34m.\u001b[0m\u001b[0mbias\u001b[0m\u001b[0;34m)\u001b[0m\u001b[0;34m\u001b[0m\u001b[0;34m\u001b[0m\u001b[0m\n\u001b[0m\u001b[1;32m     94\u001b[0m \u001b[0;34m\u001b[0m\u001b[0m\n\u001b[1;32m     95\u001b[0m     \u001b[0;32mdef\u001b[0m \u001b[0mextra_repr\u001b[0m\u001b[0;34m(\u001b[0m\u001b[0mself\u001b[0m\u001b[0;34m)\u001b[0m \u001b[0;34m->\u001b[0m \u001b[0mstr\u001b[0m\u001b[0;34m:\u001b[0m\u001b[0;34m\u001b[0m\u001b[0;34m\u001b[0m\u001b[0m\n",
      "\u001b[0;32m/usr/local/lib/python3.6/dist-packages/torch/nn/functional.py\u001b[0m in \u001b[0;36mlinear\u001b[0;34m(input, weight, bias)\u001b[0m\n\u001b[1;32m   1690\u001b[0m         \u001b[0mret\u001b[0m \u001b[0;34m=\u001b[0m \u001b[0mtorch\u001b[0m\u001b[0;34m.\u001b[0m\u001b[0maddmm\u001b[0m\u001b[0;34m(\u001b[0m\u001b[0mbias\u001b[0m\u001b[0;34m,\u001b[0m \u001b[0minput\u001b[0m\u001b[0;34m,\u001b[0m \u001b[0mweight\u001b[0m\u001b[0;34m.\u001b[0m\u001b[0mt\u001b[0m\u001b[0;34m(\u001b[0m\u001b[0;34m)\u001b[0m\u001b[0;34m)\u001b[0m\u001b[0;34m\u001b[0m\u001b[0;34m\u001b[0m\u001b[0m\n\u001b[1;32m   1691\u001b[0m     \u001b[0;32melse\u001b[0m\u001b[0;34m:\u001b[0m\u001b[0;34m\u001b[0m\u001b[0;34m\u001b[0m\u001b[0m\n\u001b[0;32m-> 1692\u001b[0;31m         \u001b[0moutput\u001b[0m \u001b[0;34m=\u001b[0m \u001b[0minput\u001b[0m\u001b[0;34m.\u001b[0m\u001b[0mmatmul\u001b[0m\u001b[0;34m(\u001b[0m\u001b[0mweight\u001b[0m\u001b[0;34m.\u001b[0m\u001b[0mt\u001b[0m\u001b[0;34m(\u001b[0m\u001b[0;34m)\u001b[0m\u001b[0;34m)\u001b[0m\u001b[0;34m\u001b[0m\u001b[0;34m\u001b[0m\u001b[0m\n\u001b[0m\u001b[1;32m   1693\u001b[0m         \u001b[0;32mif\u001b[0m \u001b[0mbias\u001b[0m \u001b[0;32mis\u001b[0m \u001b[0;32mnot\u001b[0m \u001b[0;32mNone\u001b[0m\u001b[0;34m:\u001b[0m\u001b[0;34m\u001b[0m\u001b[0;34m\u001b[0m\u001b[0m\n\u001b[1;32m   1694\u001b[0m             \u001b[0moutput\u001b[0m \u001b[0;34m+=\u001b[0m \u001b[0mbias\u001b[0m\u001b[0;34m\u001b[0m\u001b[0;34m\u001b[0m\u001b[0m\n",
      "\u001b[0;31mRuntimeError\u001b[0m: mat1 dim 1 must match mat2 dim 0"
     ]
    }
   ],
   "source": [
    "## The reason of this error is the model3_extract lacks the step out_5 = out_5.view(-1,256 * 8 * 8), complicated to construct using nn.Sequential, see code in extract_features_to_csv.ipynb\n",
    "model3_extract(torch.zeros(1,1,256,256).to(DEVICE)). "
   ]
  },
  {
   "cell_type": "code",
   "execution_count": null,
   "metadata": {
    "colab": {
     "base_uri": "https://localhost:8080/"
    },
    "id": "rGbRzK20X6kB",
    "outputId": "eb90a203-f0c2-4db4-b7b3-838c197a7329"
   },
   "outputs": [
    {
     "data": {
      "text/plain": [
       "array([[-2.3009021,  4.68915  ]], dtype=float32)"
      ]
     },
     "execution_count": 77,
     "metadata": {
      "tags": []
     },
     "output_type": "execute_result"
    }
   ],
   "source": [
    "model3(torch.zeros(1,1,256,256).to(DEVICE))[0].cpu().data.numpy()"
   ]
  },
  {
   "cell_type": "code",
   "execution_count": null,
   "metadata": {
    "id": "Qy3qhbv7YYMu"
   },
   "outputs": [],
   "source": []
  }
 ],
 "metadata": {
  "accelerator": "GPU",
  "colab": {
   "name": "toy_Network_colab_and_extract_feature.ipynb",
   "provenance": []
  },
  "kernelspec": {
   "display_name": "Python 3",
   "language": "python",
   "name": "python3"
  },
  "language_info": {
   "codemirror_mode": {
    "name": "ipython",
    "version": 3
   },
   "file_extension": ".py",
   "mimetype": "text/x-python",
   "name": "python",
   "nbconvert_exporter": "python",
   "pygments_lexer": "ipython3",
   "version": "3.8.3"
  }
 },
 "nbformat": 4,
 "nbformat_minor": 4
}
