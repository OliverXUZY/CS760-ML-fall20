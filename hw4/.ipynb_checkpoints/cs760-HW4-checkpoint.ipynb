{
 "cells": [
  {
   "cell_type": "code",
   "execution_count": 73,
   "metadata": {},
   "outputs": [
    {
     "name": "stdout",
     "output_type": "stream",
     "text": [
      "Requirement already satisfied: numpy in /Library/Frameworks/Python.framework/Versions/3.8/lib/python3.8/site-packages (1.19.2)\n",
      "Requirement already satisfied: pandas in /Library/Frameworks/Python.framework/Versions/3.8/lib/python3.8/site-packages (1.1.3)\n",
      "Requirement already satisfied: graphviz in /Library/Frameworks/Python.framework/Versions/3.8/lib/python3.8/site-packages (0.14.2)\n",
      "Requirement already satisfied: pptree in /Library/Frameworks/Python.framework/Versions/3.8/lib/python3.8/site-packages (3.1)\n",
      "Requirement already satisfied: pytz>=2017.2 in /Library/Frameworks/Python.framework/Versions/3.8/lib/python3.8/site-packages (from pandas) (2020.1)\n",
      "Requirement already satisfied: python-dateutil>=2.7.3 in /Library/Frameworks/Python.framework/Versions/3.8/lib/python3.8/site-packages (from pandas) (2.8.1)\n",
      "Requirement already satisfied: six>=1.5 in /Library/Frameworks/Python.framework/Versions/3.8/lib/python3.8/site-packages (from python-dateutil>=2.7.3->pandas) (1.15.0)\n",
      "\u001b[33mWARNING: You are using pip version 20.1.1; however, version 20.2.4 is available.\n",
      "You should consider upgrading via the '/Library/Frameworks/Python.framework/Versions/3.8/bin/python3.8 -m pip install --upgrade pip' command.\u001b[0m\n"
     ]
    }
   ],
   "source": [
    "!python3.8 -m pip install numpy pandas graphviz pptree"
   ]
  },
  {
   "cell_type": "code",
   "execution_count": 5,
   "metadata": {},
   "outputs": [],
   "source": [
    "import numpy as np\n",
    "import pandas as pd"
   ]
  },
  {
   "cell_type": "markdown",
   "metadata": {},
   "source": [
    "# CS760 HW4: Decision Trees\n",
    "\n",
    "Author: Junda Chen"
   ]
  },
  {
   "cell_type": "code",
   "execution_count": 3,
   "metadata": {},
   "outputs": [],
   "source": [
    "data = pd.read_csv('titanic_data.csv')"
   ]
  },
  {
   "cell_type": "markdown",
   "metadata": {},
   "source": [
    "## Problem 4.1\n",
    "\n",
    "Some columns are already binary attributes:\n",
    "- Survived\n",
    "- Sex\n",
    "\n",
    "Thus transformation only needs to be done on the folloing columns. We do one-hot encoding based on the logical type of the value:\n",
    "- Pclass: if `Pclass == 3`, we mark it as `1`, otherwise `0`. This distinguish the rich from the poor.\n",
    "- Age: if `Age > median(Age)` we mark it as `1`, otherwise `0`. This distinguish the old from the relatively young.\n",
    "- Fare: take the median, same as above.\n",
    "- Sibling/Spouses Aboard: if the `value > 0`, we just mark it as `1`. This distinguish those who have sibling abroad from those does not.\n",
    "- Parents/Children Aboard: `value > 0`, same as above."
   ]
  },
  {
   "cell_type": "code",
   "execution_count": 13,
   "metadata": {},
   "outputs": [
    {
     "data": {
      "text/plain": [
       "Index(['Survived', 'Pclass', 'Sex', 'Age', 'Siblings/Spouses Aboard',\n",
       "       'Parents/Children Aboard', 'Fare'],\n",
       "      dtype='object')"
      ]
     },
     "execution_count": 13,
     "metadata": {},
     "output_type": "execute_result"
    }
   ],
   "source": [
    "data.columns"
   ]
  },
  {
   "cell_type": "code",
   "execution_count": 19,
   "metadata": {},
   "outputs": [],
   "source": [
    "median_cols = ['Age', 'Fare']\n",
    "presented_cols = ['Siblings/Spouses Aboard', 'Parents/Children Aboard']"
   ]
  },
  {
   "cell_type": "code",
   "execution_count": 15,
   "metadata": {},
   "outputs": [],
   "source": [
    "binarizer = lambda m: lambda x: 0 if x < m else 1"
   ]
  },
  {
   "cell_type": "code",
   "execution_count": 16,
   "metadata": {},
   "outputs": [],
   "source": [
    "data['Pclass'] = data['Pclass'].apply(binarizer(3))"
   ]
  },
  {
   "cell_type": "code",
   "execution_count": 20,
   "metadata": {},
   "outputs": [],
   "source": [
    "for c in median_cols:\n",
    "    m = data[c].median()\n",
    "    data[c] = data[c].apply(binarizer(m))"
   ]
  },
  {
   "cell_type": "code",
   "execution_count": 21,
   "metadata": {},
   "outputs": [],
   "source": [
    "for c in presented_cols:\n",
    "    m = 1\n",
    "    data[c] = data[c].apply(binarizer(m))"
   ]
  },
  {
   "cell_type": "code",
   "execution_count": 49,
   "metadata": {
    "scrolled": true
   },
   "outputs": [
    {
     "data": {
      "text/html": [
       "<div>\n",
       "<style scoped>\n",
       "    .dataframe tbody tr th:only-of-type {\n",
       "        vertical-align: middle;\n",
       "    }\n",
       "\n",
       "    .dataframe tbody tr th {\n",
       "        vertical-align: top;\n",
       "    }\n",
       "\n",
       "    .dataframe thead th {\n",
       "        text-align: right;\n",
       "    }\n",
       "</style>\n",
       "<table border=\"1\" class=\"dataframe\">\n",
       "  <thead>\n",
       "    <tr style=\"text-align: right;\">\n",
       "      <th></th>\n",
       "      <th>Survived</th>\n",
       "      <th>Pclass</th>\n",
       "      <th>Sex</th>\n",
       "      <th>Age</th>\n",
       "      <th>Siblings/Spouses Aboard</th>\n",
       "      <th>Parents/Children Aboard</th>\n",
       "      <th>Fare</th>\n",
       "    </tr>\n",
       "  </thead>\n",
       "  <tbody>\n",
       "    <tr>\n",
       "      <th>197</th>\n",
       "      <td>1</td>\n",
       "      <td>1</td>\n",
       "      <td>1</td>\n",
       "      <td>0</td>\n",
       "      <td>0</td>\n",
       "      <td>0</td>\n",
       "      <td>0</td>\n",
       "    </tr>\n",
       "    <tr>\n",
       "      <th>620</th>\n",
       "      <td>0</td>\n",
       "      <td>1</td>\n",
       "      <td>0</td>\n",
       "      <td>0</td>\n",
       "      <td>0</td>\n",
       "      <td>0</td>\n",
       "      <td>0</td>\n",
       "    </tr>\n",
       "    <tr>\n",
       "      <th>727</th>\n",
       "      <td>0</td>\n",
       "      <td>1</td>\n",
       "      <td>0</td>\n",
       "      <td>0</td>\n",
       "      <td>0</td>\n",
       "      <td>0</td>\n",
       "      <td>1</td>\n",
       "    </tr>\n",
       "    <tr>\n",
       "      <th>43</th>\n",
       "      <td>1</td>\n",
       "      <td>1</td>\n",
       "      <td>1</td>\n",
       "      <td>0</td>\n",
       "      <td>0</td>\n",
       "      <td>0</td>\n",
       "      <td>0</td>\n",
       "    </tr>\n",
       "    <tr>\n",
       "      <th>574</th>\n",
       "      <td>1</td>\n",
       "      <td>0</td>\n",
       "      <td>1</td>\n",
       "      <td>1</td>\n",
       "      <td>1</td>\n",
       "      <td>0</td>\n",
       "      <td>1</td>\n",
       "    </tr>\n",
       "  </tbody>\n",
       "</table>\n",
       "</div>"
      ],
      "text/plain": [
       "     Survived  Pclass  Sex  Age  Siblings/Spouses Aboard  \\\n",
       "197         1       1    1    0                        0   \n",
       "620         0       1    0    0                        0   \n",
       "727         0       1    0    0                        0   \n",
       "43          1       1    1    0                        0   \n",
       "574         1       0    1    1                        1   \n",
       "\n",
       "     Parents/Children Aboard  Fare  \n",
       "197                        0     0  \n",
       "620                        0     0  \n",
       "727                        0     1  \n",
       "43                         0     0  \n",
       "574                        0     1  "
      ]
     },
     "execution_count": 49,
     "metadata": {},
     "output_type": "execute_result"
    }
   ],
   "source": [
    "data.sample(5)"
   ]
  },
  {
   "cell_type": "markdown",
   "metadata": {},
   "source": [
    "## Problem 4.2\n",
    "\n",
    "The result of mutual information is shown as below:\n",
    "\n",
    "```\n",
    "I(Pclass, Survived) = 0.07479007046514474\n",
    "I(Sex, Survived) = 0.2168495048312653\n",
    "I(Age, Survived) = 1.47734367406116e-05\n",
    "I(Siblings/Spouses Aboard, Survived) = 0.009236225402885934\n",
    "I(Parents/Children Aboard, Survived) = 0.015040080377706433\n",
    "I(Fare, Survived) = 0.052022166946516846\n",
    "```\n",
    "\n",
    "*See the last cell in this section for the calculation*"
   ]
  },
  {
   "cell_type": "code",
   "execution_count": 59,
   "metadata": {},
   "outputs": [],
   "source": [
    "def entropy(x):\n",
    "    result = 0\n",
    "    N = x.size\n",
    "    n = np.count_nonzero(x)\n",
    "    p = n / N\n",
    "    q = 1 - p\n",
    "\n",
    "    # Use for handle special value\n",
    "    # eps = 1e-10\n",
    "    eps = 0\n",
    "    result += (p * np.log2(1 / p)) if p > eps else 0\n",
    "    result += (q * np.log2(1 / q)) if q > eps else 0\n",
    "\n",
    "    return result\n",
    "\n",
    "\n",
    "def cond_entropy(x, y):\n",
    "    result = 0\n",
    "    p00 = len([i for i in x.keys() if x[i] == 0 and y[i] == 0]) / y.size\n",
    "    p01 = len([i for i in x.keys() if x[i] == 0 and y[i] == 1])/ y.size\n",
    "    p10 = len([i for i in x.keys() if x[i] == 1 and y[i] == 0])/ y.size\n",
    "    p11 = len([i for i in x.keys() if x[i] == 1 and y[i] == 1])/ y.size\n",
    "\n",
    "    p = np.count_nonzero(y)/y.size\n",
    "    q = 1 - p\n",
    "    esp = 0\n",
    "    result += (p00 * np.log2(q / p00)) if p00 > esp else 0\n",
    "    result += (p01 * np.log2(p / p01)) if p01 > esp else 0\n",
    "    result += (p10 * np.log2(q / p10)) if p10 > esp else 0\n",
    "    result += (p11 * np.log2(p / p11)) if p11 > esp else 0\n",
    "    return result\n",
    "\n",
    "\n",
    "def I(x, y):\n",
    "    e = entropy(x)\n",
    "    ce = cond_entropy(x, y)\n",
    "    return e - ce"
   ]
  },
  {
   "cell_type": "code",
   "execution_count": 60,
   "metadata": {},
   "outputs": [
    {
     "name": "stdout",
     "output_type": "stream",
     "text": [
      "X.shape=(887, 6),\n",
      "X.columns=Index(['Pclass', 'Sex', 'Age', 'Siblings/Spouses Aboard',\n",
      "       'Parents/Children Aboard', 'Fare'],\n",
      "      dtype='object'), \n",
      "y.shape=(887,)\n"
     ]
    }
   ],
   "source": [
    "X = data[[i for i in data.columns if i != \"Survived\"]]\n",
    "y = data[\"Survived\"]\n",
    "print(f\"X.shape={X.shape},\\nX.columns={X.columns}, \\ny.shape={y.shape}\")"
   ]
  },
  {
   "cell_type": "code",
   "execution_count": 64,
   "metadata": {},
   "outputs": [
    {
     "name": "stdout",
     "output_type": "stream",
     "text": [
      "Mutual Information between columns in X and y\n",
      "    I(Pclass, Survived) = 0.07479007046514463\n",
      "    I(Sex, Survived) = 0.2168495048312652\n",
      "    I(Age, Survived) = 1.47734367406116e-05\n",
      "    I(Siblings/Spouses Aboard, Survived) = 0.009236225402885934\n",
      "    I(Parents/Children Aboard, Survived) = 0.015040080377706322\n",
      "    I(Fare, Survived) = 0.052022166946516624\n"
     ]
    }
   ],
   "source": [
    "print(\"Mutual Information between columns in X and y\")\n",
    "for col in X.columns:\n",
    "    x = X[col]\n",
    "    mutual_info = I(x, y)\n",
    "    print(f\"    I({x.name}, {y.name}) = {mutual_info}\")"
   ]
  },
  {
   "cell_type": "markdown",
   "metadata": {},
   "source": [
    "## Problem 4.3\n",
    "\n",
    "**Stopping criteria**: Stop when the number of samples are less than or equals to the number of features. \n",
    "\n",
    "```python\n",
    "    def should_stop_split(self) -> bool:\n",
    "        \"\"\"\n",
    "        Stop criteria of the decision tree.\n",
    "        :return:\n",
    "        \"\"\"\n",
    "        X = self.X.drop_duplicates()\n",
    "        num_samples, num_feature = X.shape\n",
    "        if num_samples < num_feature:\n",
    "            print(f\"[INFO] Stop split at {self}\")\n",
    "            return True\n",
    "        return False\n",
    "```"
   ]
  },
  {
   "cell_type": "markdown",
   "metadata": {},
   "source": [
    "### Code: Decision Tree"
   ]
  },
  {
   "cell_type": "code",
   "execution_count": 200,
   "metadata": {
    "scrolled": true
   },
   "outputs": [],
   "source": [
    "from typing import Optional as O_, Union as U_\n",
    "\n",
    "import numpy as np\n",
    "import pandas as pd\n",
    "import pptree\n",
    "\n",
    "\n",
    "def entropy(x):\n",
    "    result = 0\n",
    "    N = x.size\n",
    "    n = np.count_nonzero(x)\n",
    "    p = n / N\n",
    "    q = 1 - p\n",
    "\n",
    "    # Use for handle special value\n",
    "    # eps = 1e-10\n",
    "    eps = 0\n",
    "    result += (p * np.log2(1 / p)) if p > eps else 0\n",
    "    result += (q * np.log2(1 / q)) if q > eps else 0\n",
    "\n",
    "    return result\n",
    "\n",
    "\n",
    "def cond_entropy(x, y):\n",
    "    result = 0\n",
    "    p00 = len([i for i in x.keys() if x[i] == 0 and y[i] == 0]) / y.size\n",
    "    p01 = len([i for i in x.keys() if x[i] == 0 and y[i] == 1]) / y.size\n",
    "    p10 = len([i for i in x.keys() if x[i] == 1 and y[i] == 0]) / y.size\n",
    "    p11 = len([i for i in x.keys() if x[i] == 1 and y[i] == 1]) / y.size\n",
    "\n",
    "    p = np.count_nonzero(y) / y.size\n",
    "    q = 1 - p\n",
    "    esp = 0\n",
    "    result += (p00 * np.log2(q / p00)) if p00 > esp else 0\n",
    "    result += (p01 * np.log2(p / p01)) if p01 > esp else 0\n",
    "    result += (p10 * np.log2(q / p10)) if p10 > esp else 0\n",
    "    result += (p11 * np.log2(p / p11)) if p11 > esp else 0\n",
    "    return result\n",
    "\n",
    "\n",
    "def I(x, y):\n",
    "    e = entropy(x)\n",
    "    ce = cond_entropy(x, y)\n",
    "    return e - ce\n",
    "\n",
    "\n",
    "class Node():\n",
    "    CRITERIA = None\n",
    "    CLASSIFIER = None\n",
    "\n",
    "    def __init__(self, data, left=None, right=None, parent=None, level=0,\n",
    "                 yes=True, yname=\"Survived\"):\n",
    "        # Child nodes\n",
    "        self.left: O_['Node'] = left\n",
    "        self.right: O_['Node'] = right\n",
    "        self.parent: O_['Node'] = parent\n",
    "        self.level: int = level\n",
    "\n",
    "        # Reference to the data in this node\n",
    "        self.data = data\n",
    "        self.yname = yname\n",
    "        self.xnames = [i for i in self.data.columns if i != self.yname]\n",
    "        self._y = self.data[yname]\n",
    "        self._X = self.data[self.xnames]\n",
    "\n",
    "        # Decision info in this node\n",
    "        self.feature = None\n",
    "        self.yes = yes  # Yes-node or No-node from the parent.\n",
    "        self.pred_val = (1 if self.y.sum() >= len(self.y) / 2 else 0)\n",
    "        self._val = None\n",
    "\n",
    "    @property\n",
    "    def criteria(self):\n",
    "        if self.feature:\n",
    "            a = Node.CRITERIA[self.feature]\n",
    "            return a\n",
    "        return \"\"\n",
    "\n",
    "    def is_left_child(self):\n",
    "        return self.parent and self == self.parent.left\n",
    "\n",
    "    def __str__(self):\n",
    "        # a = self.criteria\n",
    "        # if self.is_leaf():\n",
    "        #     return f\"<[Leaf@{self.level}] prediction={self.pred_val}>\"\n",
    "        # return f\"<[Node@{self.level}] {a}?>\"\n",
    "        pos = \"\" if not self.parent else (\n",
    "            f\"False\" if self.is_left_child() else\n",
    "            f\"True\")\n",
    "        a = self.criteria\n",
    "        if self.is_leaf():\n",
    "            return f\"> ({pos}) prediction={self.pred_val}\"\n",
    "        return f\"> ({pos}) {a} ? \"\n",
    "\n",
    "    @property\n",
    "    def label(self):\n",
    "        return str(self)\n",
    "\n",
    "    @property\n",
    "    def children(self):\n",
    "        a = []\n",
    "        if self.left:\n",
    "            a.append(self.left)\n",
    "        if self.right:\n",
    "            a.append(self.right)\n",
    "        return a\n",
    "\n",
    "    @property\n",
    "    def X(self) -> pd.DataFrame:\n",
    "        return self._X\n",
    "\n",
    "    @property\n",
    "    def y(self) -> pd.Series:\n",
    "        return self._y\n",
    "\n",
    "    def is_leaf(self):\n",
    "        return not self.left and not self.right\n",
    "\n",
    "    def should_stop_split(self) -> bool:\n",
    "        \"\"\"\n",
    "        Stop criteria of the decision tree.\n",
    "        :return:\n",
    "        \"\"\"\n",
    "        X = self.X.drop_duplicates()\n",
    "        num_samples, num_feature = X.shape\n",
    "        if num_samples < num_feature:\n",
    "            return True\n",
    "        return False\n",
    "\n",
    "    def _split(self):\n",
    "        \"\"\"\n",
    "        Return the feature to split.\n",
    "        Use the mutual information function I(y, x) to judge which feature to split.\n",
    "\n",
    "        :return:\n",
    "            feature: The feature to next split upon.\n",
    "            value: The mutual information value of that feature.\n",
    "        \"\"\"\n",
    "        y = self.y\n",
    "        mutual_info = self.X.apply(lambda x: I(x, y))\n",
    "        feature, value = pd.Series.idxmax(mutual_info), np.max(mutual_info)\n",
    "        return feature, value\n",
    "\n",
    "    def split(self, recursively=True):\n",
    "        \"\"\"\n",
    "        Split the current node and expand that into a decision tree.\n",
    "        :param recursively: bool\n",
    "        :return:\n",
    "        \"\"\"\n",
    "        # sep = '    ' * self.level\n",
    "        if self.should_stop_split():\n",
    "            # print(f\"{sep}{self}\")\n",
    "            return self\n",
    "\n",
    "        feature, value = self._split()\n",
    "        self.feature = feature\n",
    "\n",
    "        data = self.data\n",
    "        left = Node(\n",
    "            data=data[data[feature] == 0], level=self.level + 1, yes=False,\n",
    "            parent=self, yname=self.yname)\n",
    "        right = Node(\n",
    "            data=data[data[feature] == 1], level=self.level + 1, yes=True,\n",
    "            parent=self, yname=self.yname)\n",
    "        self.left = left\n",
    "        self.right = right\n",
    "\n",
    "        # print(f\"{sep}{self}\")\n",
    "        if recursively:\n",
    "            left.split(recursively=True)\n",
    "            right.split(recursively=True)\n",
    "        return self\n",
    "\n",
    "    def predict(self, z: U_[pd.DataFrame, pd.Series]):\n",
    "        \"\"\"\n",
    "        Predict the variable or pandas Series.\n",
    "        :param z: a Series or a DataFrame\n",
    "        :return: Prediction result.\n",
    "        \"\"\"\n",
    "        if len(z.shape) > 1:\n",
    "            return z.apply(lambda col: self.predict(col), axis=1)\n",
    "\n",
    "        if self.is_leaf():\n",
    "            result = self.pred_val\n",
    "            return result\n",
    "\n",
    "        x = z[self.feature]\n",
    "#         classifier = self.CLASSIFIER[self.feature]\n",
    "#         yes = classifier(x) == 1\n",
    "        yes = (z[self.feature] == 1)\n",
    "        next_node = self.right if yes else self.left\n",
    "        return next_node.predict(z)\n",
    "\n",
    "    def print(self, level=0):\n",
    "        sep = '    ' * level\n",
    "        print(f\"{sep}{self}\")\n",
    "        if self.left:\n",
    "            self.left.print(level=level + 1)\n",
    "        if self.right:\n",
    "            self.right.print(level=level + 1)\n",
    "\n",
    "\n",
    "class DecisionTree():\n",
    "\n",
    "    def __init__(self, data, yname=\"Survived\"):\n",
    "        self.data = data\n",
    "        self.yname = yname\n",
    "        self.root = None\n",
    "\n",
    "    def run(self, split=True, recursively=True):\n",
    "        self.root = Node(self.data, yname=self.yname)\n",
    "        return self.root.split(recursively=recursively)\n",
    "\n",
    "    def cross_validation(self, fold=10):\n",
    "        indices = np.random.permutation(list(self.data.index))\n",
    "        testsize = self.data.shape[0] // fold\n",
    "        acc = []\n",
    "        for i in range(fold):\n",
    "            if i == 9:\n",
    "                test = self.data.loc[indices[i * testsize:]]\n",
    "                train = self.data.loc[self.data.index.isin(indices[i * testsize:]) == False]\n",
    "            else:\n",
    "                test = self.data.loc[indices[i * testsize: (i + 1) * testsize]]\n",
    "                train = self.data.loc[self.data.index.isin(indices[i * testsize: (i + 1) * testsize]) == False]\n",
    "\n",
    "            tree = Node(train, yname=self.yname).split()\n",
    "            acc.append((tree.predict(test) == test.Survived).sum() / len(test.Survived))\n",
    "\n",
    "        return np.array(acc).mean()"
   ]
  },
  {
   "attachments": {},
   "cell_type": "markdown",
   "metadata": {},
   "source": [
    "## Problem 4.4\n",
    "\n",
    "The tree is the followinig\n",
    "\n",
    "![cs760-hw4-4.jpg](cs760-hw4-4.jpg)"
   ]
  },
  {
   "cell_type": "code",
   "execution_count": 201,
   "metadata": {},
   "outputs": [],
   "source": [
    "def preprocess_titanic(data):\n",
    "    criteria = {}\n",
    "    classifier = {}\n",
    "    binarizer = lambda m: lambda x: 0 if x < m else 1\n",
    "\n",
    "    binary_cols = ['Sex']\n",
    "    for k in binary_cols:\n",
    "        criteria[k] = f'{k} == 1'\n",
    "        classifier[k] = binarizer(1)\n",
    "    median_cols = ['Age', 'Fare']\n",
    "\n",
    "    presented_cols = ['Siblings/Spouses Aboard', 'Parents/Children Aboard']\n",
    "\n",
    "    classifier['Pclass'] = binarizer(3)\n",
    "    criteria['Pclass'] = f'Pclass == 3'\n",
    "    data['Pclass'] = data['Pclass'].apply(classifier['Pclass'])\n",
    "    \n",
    "    for c in median_cols:\n",
    "        m = data[c].median()\n",
    "        criteria[c] = f'{c} >= {m}'\n",
    "        classifier[c] = binarizer(m)\n",
    "        data[c] = data[c].apply(classifier[c])\n",
    "    for c in presented_cols:\n",
    "        m = 1\n",
    "        criteria[c] = f'{c} >= {m}'\n",
    "        classifier[c] = binarizer(m)\n",
    "        data[c] = data[c].apply(classifier[c])\n",
    "    return data, criteria, classifier"
   ]
  },
  {
   "cell_type": "code",
   "execution_count": 202,
   "metadata": {},
   "outputs": [],
   "source": [
    "data = pd.read_csv('titanic_data.csv')\n",
    "titanic, criteria, classifier = preprocess_titanic(data)\n",
    "Node.CRITERIA = criteria\n",
    "Node.CLASSIFIER = classifier\n",
    "tree = DecisionTree(titanic)\n",
    "node = tree.run()"
   ]
  },
  {
   "cell_type": "code",
   "execution_count": 203,
   "metadata": {},
   "outputs": [
    {
     "name": "stdout",
     "output_type": "stream",
     "text": [
      "                                                                                        ┌> (True) prediction=0\n",
      "                                              ┌> (False) Parents/Children Aboard >= 1 ? ┤\n",
      "                                              │                                         │                                         ┌> (False) prediction=0\n",
      "                                              │                                         └> (False) Siblings/Spouses Aboard >= 1 ? ┤\n",
      "                                              │                                                                                   └> (True) prediction=0\n",
      "                 ┌> (False) Fare >= 14.4542 ? ┤\n",
      "                 │                            │                                                ┌> (False) prediction=1\n",
      "                 │                            │                       ┌> (False) Age >= 28.0 ? ┤\n",
      "                 │                            │                       │                        └> (True) prediction=0\n",
      "                 │                            └> (True) Pclass == 3 ? ┤\n",
      "                 │                                                    │                                        ┌> (False) prediction=0\n",
      "                 │                                                    └> (True) Siblings/Spouses Aboard >= 1 ? ┤\n",
      "                 │                                                                                             └> (True) prediction=0\n",
      " > () Sex == 1 ? ┤\n",
      "                 │                                                    ┌> (False) prediction=1\n",
      "                 │                       ┌> (False) Fare >= 14.4542 ? ┤\n",
      "                 │                       │                            │                                        ┌> (False) prediction=1\n",
      "                 │                       │                            └> (True) Siblings/Spouses Aboard >= 1 ? ┤\n",
      "                 │                       │                                                                     └> (True) prediction=1\n",
      "                 └> (True) Pclass == 3 ? ┤\n",
      "                                         │                                                    ┌> (False) prediction=1\n",
      "                                         │                           ┌> (False) Age >= 28.0 ? ┤\n",
      "                                         │                           │                        └> (True) prediction=0\n",
      "                                         └> (True) Fare >= 14.4542 ? ┤\n",
      "                                                                     │                                        ┌> (False) prediction=1\n",
      "                                                                     └> (True) Parents/Children Aboard >= 1 ? ┤\n",
      "                                                                                                              └> (True) prediction=0\n"
     ]
    }
   ],
   "source": [
    "# The tree isn't printed properly on notebook.\n",
    "pptree.print_tree(node, nameattr='value')"
   ]
  },
  {
   "cell_type": "markdown",
   "metadata": {},
   "source": [
    "## Problem 4.5\n",
    "\n",
    "The result of cross validation is shown as below:"
   ]
  },
  {
   "cell_type": "code",
   "execution_count": 204,
   "metadata": {},
   "outputs": [
    {
     "data": {
      "text/plain": [
       "0.7995693779904307"
      ]
     },
     "execution_count": 204,
     "metadata": {},
     "output_type": "execute_result"
    }
   ],
   "source": [
    "tree.cross_validation()"
   ]
  },
  {
   "cell_type": "markdown",
   "metadata": {},
   "source": [
    "## Problem 4.6"
   ]
  },
  {
   "cell_type": "code",
   "execution_count": 205,
   "metadata": {},
   "outputs": [],
   "source": [
    "z = pd.Series({\n",
    "    'Survived':None, \n",
    "    'Pclass': 3, \n",
    "    'Sex':1, \n",
    "    'Age': 23, \n",
    "    'Siblings/Spouses Aboard': 1, \n",
    "    'Parents/Children Aboard': 1, \n",
    "    'Fare': 10\n",
    "})"
   ]
  },
  {
   "cell_type": "code",
   "execution_count": 206,
   "metadata": {},
   "outputs": [
    {
     "data": {
      "text/plain": [
       "'I survived!'"
      ]
     },
     "execution_count": 206,
     "metadata": {},
     "output_type": "execute_result"
    }
   ],
   "source": [
    "prediction = tree.root.predict(z)\n",
    "\"I survived!\" if prediction == 1 else \"I did not survived...\""
   ]
  },
  {
   "cell_type": "markdown",
   "metadata": {},
   "source": [
    "## Problem 4.7"
   ]
  },
  {
   "cell_type": "code",
   "execution_count": 207,
   "metadata": {},
   "outputs": [],
   "source": [
    "def random_forest(data, tree_size=5, sample_subset = 0.8):\n",
    "    size = round(data.shape[0] * sample_subset)\n",
    "    trees = []\n",
    "    for i in range(tree_size):\n",
    "        indices = np.random.permutation(list(data.index))\n",
    "        node_data = data.loc[indices[:size]]\n",
    "        tree = DecisionTree(node_data)\n",
    "        tree.run()\n",
    "        trees.append(tree)\n",
    "    return trees"
   ]
  },
  {
   "cell_type": "markdown",
   "metadata": {},
   "source": [
    "### (a)"
   ]
  },
  {
   "cell_type": "code",
   "execution_count": 208,
   "metadata": {},
   "outputs": [],
   "source": [
    "trees = random_forest(data, tree_size = 5)"
   ]
  },
  {
   "cell_type": "code",
   "execution_count": 209,
   "metadata": {},
   "outputs": [
    {
     "name": "stdout",
     "output_type": "stream",
     "text": [
      "============= Tree 0 =============\n",
      "> () Sex == 1 ? \n",
      "    > (False) Fare >= 14.4542 ? \n",
      "        > (False) Parents/Children Aboard >= 1 ? \n",
      "            > (False) Siblings/Spouses Aboard >= 1 ? \n",
      "                > (False) prediction=0\n",
      "                > (True) prediction=0\n",
      "            > (True) prediction=0\n",
      "        > (True) Pclass == 3 ? \n",
      "            > (False) Age >= 28.0 ? \n",
      "                > (False) prediction=1\n",
      "                > (True) prediction=0\n",
      "            > (True) Siblings/Spouses Aboard >= 1 ? \n",
      "                > (False) prediction=0\n",
      "                > (True) prediction=0\n",
      "    > (True) Pclass == 3 ? \n",
      "        > (False) Fare >= 14.4542 ? \n",
      "            > (False) prediction=1\n",
      "            > (True) Siblings/Spouses Aboard >= 1 ? \n",
      "                > (False) prediction=1\n",
      "                > (True) prediction=1\n",
      "        > (True) Fare >= 14.4542 ? \n",
      "            > (False) Age >= 28.0 ? \n",
      "                > (False) prediction=1\n",
      "                > (True) prediction=0\n",
      "            > (True) Parents/Children Aboard >= 1 ? \n",
      "                > (False) prediction=1\n",
      "                > (True) prediction=0\n",
      "============= Tree 1 =============\n",
      "> () Sex == 1 ? \n",
      "    > (False) Fare >= 14.4542 ? \n",
      "        > (False) Parents/Children Aboard >= 1 ? \n",
      "            > (False) Siblings/Spouses Aboard >= 1 ? \n",
      "                > (False) prediction=0\n",
      "                > (True) prediction=0\n",
      "            > (True) prediction=0\n",
      "        > (True) Pclass == 3 ? \n",
      "            > (False) Age >= 28.0 ? \n",
      "                > (False) prediction=0\n",
      "                > (True) prediction=0\n",
      "            > (True) Siblings/Spouses Aboard >= 1 ? \n",
      "                > (False) prediction=0\n",
      "                > (True) prediction=0\n",
      "    > (True) Pclass == 3 ? \n",
      "        > (False) Fare >= 14.4542 ? \n",
      "            > (False) prediction=1\n",
      "            > (True) Siblings/Spouses Aboard >= 1 ? \n",
      "                > (False) prediction=1\n",
      "                > (True) prediction=1\n",
      "        > (True) Parents/Children Aboard >= 1 ? \n",
      "            > (False) Age >= 28.0 ? \n",
      "                > (False) prediction=1\n",
      "                > (True) prediction=1\n",
      "            > (True) Siblings/Spouses Aboard >= 1 ? \n",
      "                > (False) prediction=1\n",
      "                > (True) prediction=0\n",
      "============= Tree 2 =============\n",
      "> () Sex == 1 ? \n",
      "    > (False) Fare >= 14.4542 ? \n",
      "        > (False) Parents/Children Aboard >= 1 ? \n",
      "            > (False) Siblings/Spouses Aboard >= 1 ? \n",
      "                > (False) prediction=0\n",
      "                > (True) prediction=0\n",
      "            > (True) prediction=0\n",
      "        > (True) Pclass == 3 ? \n",
      "            > (False) Age >= 28.0 ? \n",
      "                > (False) prediction=1\n",
      "                > (True) prediction=0\n",
      "            > (True) Siblings/Spouses Aboard >= 1 ? \n",
      "                > (False) prediction=0\n",
      "                > (True) prediction=0\n",
      "    > (True) Pclass == 3 ? \n",
      "        > (False) Siblings/Spouses Aboard >= 1 ? \n",
      "            > (False) Age >= 28.0 ? \n",
      "                > (False) prediction=1\n",
      "                > (True) prediction=1\n",
      "            > (True) prediction=1\n",
      "        > (True) Siblings/Spouses Aboard >= 1 ? \n",
      "            > (False) Age >= 28.0 ? \n",
      "                > (False) prediction=1\n",
      "                > (True) prediction=0\n",
      "            > (True) Parents/Children Aboard >= 1 ? \n",
      "                > (False) prediction=0\n",
      "                > (True) prediction=0\n",
      "============= Tree 3 =============\n",
      "> () Sex == 1 ? \n",
      "    > (False) Fare >= 14.4542 ? \n",
      "        > (False) Parents/Children Aboard >= 1 ? \n",
      "            > (False) Siblings/Spouses Aboard >= 1 ? \n",
      "                > (False) prediction=0\n",
      "                > (True) prediction=0\n",
      "            > (True) prediction=0\n",
      "        > (True) Pclass == 3 ? \n",
      "            > (False) Age >= 28.0 ? \n",
      "                > (False) prediction=1\n",
      "                > (True) prediction=0\n",
      "            > (True) Siblings/Spouses Aboard >= 1 ? \n",
      "                > (False) prediction=0\n",
      "                > (True) prediction=0\n",
      "    > (True) Pclass == 3 ? \n",
      "        > (False) Siblings/Spouses Aboard >= 1 ? \n",
      "            > (False) Age >= 28.0 ? \n",
      "                > (False) prediction=1\n",
      "                > (True) prediction=1\n",
      "            > (True) prediction=1\n",
      "        > (True) Parents/Children Aboard >= 1 ? \n",
      "            > (False) Siblings/Spouses Aboard >= 1 ? \n",
      "                > (False) prediction=1\n",
      "                > (True) prediction=1\n",
      "            > (True) Age >= 28.0 ? \n",
      "                > (False) prediction=0\n",
      "                > (True) prediction=0\n",
      "============= Tree 4 =============\n",
      "> () Sex == 1 ? \n",
      "    > (False) Fare >= 14.4542 ? \n",
      "        > (False) Parents/Children Aboard >= 1 ? \n",
      "            > (False) Siblings/Spouses Aboard >= 1 ? \n",
      "                > (False) prediction=0\n",
      "                > (True) prediction=0\n",
      "            > (True) prediction=0\n",
      "        > (True) Pclass == 3 ? \n",
      "            > (False) Age >= 28.0 ? \n",
      "                > (False) prediction=1\n",
      "                > (True) prediction=0\n",
      "            > (True) Siblings/Spouses Aboard >= 1 ? \n",
      "                > (False) prediction=0\n",
      "                > (True) prediction=0\n",
      "    > (True) Pclass == 3 ? \n",
      "        > (False) Fare >= 14.4542 ? \n",
      "            > (False) prediction=1\n",
      "            > (True) Siblings/Spouses Aboard >= 1 ? \n",
      "                > (False) prediction=1\n",
      "                > (True) prediction=1\n",
      "        > (True) Parents/Children Aboard >= 1 ? \n",
      "            > (False) Siblings/Spouses Aboard >= 1 ? \n",
      "                > (False) prediction=1\n",
      "                > (True) prediction=1\n",
      "            > (True) Age >= 28.0 ? \n",
      "                > (False) prediction=0\n",
      "                > (True) prediction=0\n"
     ]
    }
   ],
   "source": [
    "for i, tree in enumerate(trees):\n",
    "    print(f\"============= Tree {i} =============\")\n",
    "    tree.root.print()"
   ]
  },
  {
   "cell_type": "markdown",
   "metadata": {},
   "source": [
    "### (b)"
   ]
  },
  {
   "cell_type": "code",
   "execution_count": 233,
   "metadata": {},
   "outputs": [],
   "source": [
    "def ramdom_forest_cross_val(data, RandomForest, fold = 10):\n",
    "    indices = np.random.permutation(list(data.index))\n",
    "    \n",
    "    testsize = data.shape[0]//fold\n",
    "    \n",
    "    result = []\n",
    "    for i in range(fold):\n",
    "        if i == fold - 1: # Last iteration\n",
    "            test = data.loc[indices[i*testsize:]]\n",
    "            train = data.loc[data.index.isin(indices[i*testsize:]) == False]\n",
    "        else:\n",
    "            test = data.loc[indices[i*testsize : (i+1)*testsize]]\n",
    "            train = data.loc[data.index.isin(indices[i*testsize : (i+1)*testsize]) == False]\n",
    "        trees = RandomForest(data, tree_size = 5)\n",
    "\n",
    "        pre = np.array([tree.root.predict(test) for tree in trees])\n",
    "\n",
    "        pre_total = pre.sum(0)\n",
    "        pre_total[pre_total < 3] = 0\n",
    "        pre_total[pre_total >= 3] = 1\n",
    "\n",
    "        result.append((pre_total == test['Survived']).sum() / len(test[\"Survived\"]))\n",
    "\n",
    "    return result"
   ]
  },
  {
   "cell_type": "code",
   "execution_count": 211,
   "metadata": {},
   "outputs": [],
   "source": [
    "accuracy = ramdom_forest_cross_val(data, random_forest, fold = 10)"
   ]
  },
  {
   "cell_type": "markdown",
   "metadata": {},
   "source": [
    "The accuracy is shown as below"
   ]
  },
  {
   "cell_type": "code",
   "execution_count": 212,
   "metadata": {},
   "outputs": [
    {
     "data": {
      "text/plain": [
       "[0.8068181818181818,\n",
       " 0.7840909090909091,\n",
       " 0.7159090909090909,\n",
       " 0.8068181818181818,\n",
       " 0.8409090909090909,\n",
       " 0.875,\n",
       " 0.875,\n",
       " 0.8522727272727273,\n",
       " 0.7727272727272727,\n",
       " 0.8421052631578947]"
      ]
     },
     "execution_count": 212,
     "metadata": {},
     "output_type": "execute_result"
    }
   ],
   "source": [
    "accuracy"
   ]
  },
  {
   "cell_type": "code",
   "execution_count": 213,
   "metadata": {},
   "outputs": [
    {
     "data": {
      "text/plain": [
       "0.8171650717703349"
      ]
     },
     "execution_count": 213,
     "metadata": {},
     "output_type": "execute_result"
    }
   ],
   "source": [
    "np.array(accuracy).mean()"
   ]
  },
  {
   "cell_type": "markdown",
   "metadata": {},
   "source": [
    "### (c)"
   ]
  },
  {
   "cell_type": "code",
   "execution_count": 242,
   "metadata": {},
   "outputs": [],
   "source": [
    "def random_forest_predict(z, RandomForest):\n",
    "    trees = RandomForest(data, tree_size = 5, sample_subset = 0.8)   \n",
    "    pre = np.array([tree.root.predict(z) for tree in trees])\n",
    "    pre_total = pre.sum(0)\n",
    "    return pre_total >= 3"
   ]
  },
  {
   "cell_type": "code",
   "execution_count": 226,
   "metadata": {},
   "outputs": [],
   "source": [
    "z = pd.Series({\n",
    "    'Survived':None, \n",
    "    'Pclass': 3, \n",
    "    'Sex':1, \n",
    "    'Age': 23, \n",
    "    'Siblings/Spouses Aboard': 1, \n",
    "    'Parents/Children Aboard': 1, \n",
    "    'Fare': 10\n",
    "})\n",
    "prediction = random_forest_predict(z)"
   ]
  },
  {
   "cell_type": "code",
   "execution_count": 228,
   "metadata": {},
   "outputs": [
    {
     "data": {
      "text/plain": [
       "'I will survive!'"
      ]
     },
     "execution_count": 228,
     "metadata": {},
     "output_type": "execute_result"
    }
   ],
   "source": [
    "\"I will survive!\" if prediction else \"I will die...\""
   ]
  },
  {
   "cell_type": "markdown",
   "metadata": {},
   "source": [
    "## Problem 4.8"
   ]
  },
  {
   "cell_type": "code",
   "execution_count": 246,
   "metadata": {},
   "outputs": [],
   "source": [
    "def random_forest_2(data, tree_size = 6, sample_subset=None):\n",
    "    trees = []\n",
    "    features = data.columns\n",
    "    \n",
    "    for i in range(tree_size):\n",
    "        tree = DecisionTree(data.drop(features[i + 1], axis=1))\n",
    "        trees.append(tree)\n",
    "        tree.run()\n",
    "    \n",
    "    return trees"
   ]
  },
  {
   "cell_type": "markdown",
   "metadata": {},
   "source": [
    "### (a)"
   ]
  },
  {
   "cell_type": "code",
   "execution_count": 237,
   "metadata": {},
   "outputs": [],
   "source": [
    "trees = ramdom_forest_2(data, tree_size = 6)"
   ]
  },
  {
   "cell_type": "code",
   "execution_count": 238,
   "metadata": {
    "scrolled": true
   },
   "outputs": [
    {
     "name": "stdout",
     "output_type": "stream",
     "text": [
      "============= Tree 0 =============\n",
      "> () Sex == 1 ? \n",
      "    > (False) Fare >= 14.4542 ? \n",
      "        > (False) Parents/Children Aboard >= 1 ? \n",
      "            > (False) prediction=0\n",
      "            > (True) prediction=0\n",
      "        > (True) Age >= 28.0 ? \n",
      "            > (False) prediction=0\n",
      "            > (True) prediction=0\n",
      "    > (True) Parents/Children Aboard >= 1 ? \n",
      "        > (False) Fare >= 14.4542 ? \n",
      "            > (False) prediction=1\n",
      "            > (True) prediction=1\n",
      "        > (True) Siblings/Spouses Aboard >= 1 ? \n",
      "            > (False) prediction=1\n",
      "            > (True) prediction=1\n",
      "============= Tree 1 =============\n",
      "> () Pclass == 3 ? \n",
      "    > (False) Fare >= 14.4542 ? \n",
      "        > (False) Age >= 28.0 ? \n",
      "            > (False) prediction=0\n",
      "            > (True) prediction=0\n",
      "        > (True) Age >= 28.0 ? \n",
      "            > (False) prediction=1\n",
      "            > (True) prediction=1\n",
      "    > (True) Age >= 28.0 ? \n",
      "        > (False) Parents/Children Aboard >= 1 ? \n",
      "            > (False) prediction=0\n",
      "            > (True) prediction=0\n",
      "        > (True) Fare >= 14.4542 ? \n",
      "            > (False) prediction=0\n",
      "            > (True) prediction=0\n",
      "============= Tree 2 =============\n",
      "> () Sex == 1 ? \n",
      "    > (False) Fare >= 14.4542 ? \n",
      "        > (False) Parents/Children Aboard >= 1 ? \n",
      "            > (False) prediction=0\n",
      "            > (True) prediction=0\n",
      "        > (True) Pclass == 3 ? \n",
      "            > (False) prediction=0\n",
      "            > (True) prediction=0\n",
      "    > (True) Pclass == 3 ? \n",
      "        > (False) Fare >= 14.4542 ? \n",
      "            > (False) prediction=1\n",
      "            > (True) prediction=1\n",
      "        > (True) Fare >= 14.4542 ? \n",
      "            > (False) prediction=1\n",
      "            > (True) prediction=0\n",
      "============= Tree 3 =============\n",
      "> () Sex == 1 ? \n",
      "    > (False) Fare >= 14.4542 ? \n",
      "        > (False) Parents/Children Aboard >= 1 ? \n",
      "            > (False) prediction=0\n",
      "            > (True) prediction=0\n",
      "        > (True) Pclass == 3 ? \n",
      "            > (False) prediction=0\n",
      "            > (True) prediction=0\n",
      "    > (True) Pclass == 3 ? \n",
      "        > (False) Fare >= 14.4542 ? \n",
      "            > (False) prediction=1\n",
      "            > (True) prediction=1\n",
      "        > (True) Fare >= 14.4542 ? \n",
      "            > (False) prediction=1\n",
      "            > (True) prediction=0\n",
      "============= Tree 4 =============\n",
      "> () Sex == 1 ? \n",
      "    > (False) Fare >= 14.4542 ? \n",
      "        > (False) Siblings/Spouses Aboard >= 1 ? \n",
      "            > (False) prediction=0\n",
      "            > (True) prediction=0\n",
      "        > (True) Pclass == 3 ? \n",
      "            > (False) prediction=0\n",
      "            > (True) prediction=0\n",
      "    > (True) Pclass == 3 ? \n",
      "        > (False) Fare >= 14.4542 ? \n",
      "            > (False) prediction=1\n",
      "            > (True) prediction=1\n",
      "        > (True) Fare >= 14.4542 ? \n",
      "            > (False) prediction=1\n",
      "            > (True) prediction=0\n",
      "============= Tree 5 =============\n",
      "> () Sex == 1 ? \n",
      "    > (False) Pclass == 3 ? \n",
      "        > (False) Parents/Children Aboard >= 1 ? \n",
      "            > (False) prediction=0\n",
      "            > (True) prediction=0\n",
      "        > (True) Parents/Children Aboard >= 1 ? \n",
      "            > (False) prediction=0\n",
      "            > (True) prediction=0\n",
      "    > (True) Pclass == 3 ? \n",
      "        > (False) Age >= 28.0 ? \n",
      "            > (False) prediction=1\n",
      "            > (True) prediction=1\n",
      "        > (True) Parents/Children Aboard >= 1 ? \n",
      "            > (False) prediction=1\n",
      "            > (True) prediction=0\n"
     ]
    }
   ],
   "source": [
    "for i, tree in enumerate(trees):\n",
    "    print(f\"============= Tree {i} =============\")\n",
    "    tree.root.print()"
   ]
  },
  {
   "cell_type": "markdown",
   "metadata": {},
   "source": [
    "### (b) \n",
    "\n",
    "The accuracy is shown as below"
   ]
  },
  {
   "cell_type": "code",
   "execution_count": 239,
   "metadata": {},
   "outputs": [],
   "source": [
    "accuracy = ramdom_forest_cross_val(data, random_forest_2, fold = 10)"
   ]
  },
  {
   "cell_type": "code",
   "execution_count": 240,
   "metadata": {},
   "outputs": [
    {
     "data": {
      "text/plain": [
       "[0.8522727272727273,\n",
       " 0.7954545454545454,\n",
       " 0.8295454545454546,\n",
       " 0.8068181818181818,\n",
       " 0.8977272727272727,\n",
       " 0.7613636363636364,\n",
       " 0.8068181818181818,\n",
       " 0.7272727272727273,\n",
       " 0.7613636363636364,\n",
       " 0.8]"
      ]
     },
     "execution_count": 240,
     "metadata": {},
     "output_type": "execute_result"
    }
   ],
   "source": [
    "accuracy"
   ]
  },
  {
   "cell_type": "code",
   "execution_count": 241,
   "metadata": {},
   "outputs": [
    {
     "data": {
      "text/plain": [
       "0.8038636363636364"
      ]
     },
     "execution_count": 241,
     "metadata": {},
     "output_type": "execute_result"
    }
   ],
   "source": [
    "np.array(accuracy).mean()"
   ]
  },
  {
   "cell_type": "markdown",
   "metadata": {},
   "source": [
    "### (c)"
   ]
  },
  {
   "cell_type": "code",
   "execution_count": 248,
   "metadata": {},
   "outputs": [],
   "source": [
    "prediction = random_forest_predict(z, random_forest_2)"
   ]
  },
  {
   "cell_type": "code",
   "execution_count": 249,
   "metadata": {},
   "outputs": [
    {
     "data": {
      "text/plain": [
       "'I will survive!'"
      ]
     },
     "execution_count": 249,
     "metadata": {},
     "output_type": "execute_result"
    }
   ],
   "source": [
    "\"I will survive!\" if prediction else \"I will die...\""
   ]
  },
  {
   "cell_type": "markdown",
   "metadata": {},
   "source": [
    "## Problem 4.9"
   ]
  },
  {
   "cell_type": "markdown",
   "metadata": {},
   "source": [
    "**Do all your predictions agree with each other**\n",
    "\n",
    "Yes. All predictions from Decision tree and Random forest agreed with each other."
   ]
  },
  {
   "cell_type": "markdown",
   "metadata": {},
   "source": [
    "**with your prediction using logistic regression**\n",
    "\n",
    "Yes - the prediction still agrees.\n",
    "\n",
    "**Which method would you prefer to use, and why?**\n",
    "\n",
    "The random forest is a better approach even though logistics regression comes up with same result. Random forest can explore more decision processes compared to logistics regressions, thus can have more effective result."
   ]
  }
 ],
 "metadata": {
  "kernelspec": {
   "display_name": "Python 3",
   "language": "python",
   "name": "python3"
  },
  "language_info": {
   "codemirror_mode": {
    "name": "ipython",
    "version": 3
   },
   "file_extension": ".py",
   "mimetype": "text/x-python",
   "name": "python",
   "nbconvert_exporter": "python",
   "pygments_lexer": "ipython3",
   "version": "3.8.5"
  }
 },
 "nbformat": 4,
 "nbformat_minor": 4
}
